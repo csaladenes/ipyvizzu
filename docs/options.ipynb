{
 "cells": [
  {
   "cell_type": "markdown",
   "id": "c688d4ac",
   "metadata": {},
   "source": [
    "# ipyvizzu options\n",
    "\n",
    "ipyvizzu behaviour can be changed with the following parameters.\n",
    "\n",
    "## vizzu\n",
    "\n",
    "ipyvizzu downloads Vizzu from [jsDelivr](https://www.jsdelivr.com/package/npm/vizzu?version=~0.4.0) CDN by default. It can be changed in the constructor with the `vizzu` parameter.\n",
    "\n",
    "```python\n",
    "from ipyvizzu import Chart\n",
    "\n",
    "chart = Chart(vizzu=\"./node_modules/vizzu/dist/vizzu.min.js\")\n",
    "```\n",
    "\n",
    "## width, height\n",
    "\n",
    "ipyvizzu displays the animation in a `width=\"800px\", height=\"480px\"` div by default. It can be changed in the constructor with the `width` and the `height` parameters.\n",
    "\n",
    "```python\n",
    "from ipyvizzu import Chart\n",
    "\n",
    "chart = Chart(width=\"400px\", height=\"240px\")\n",
    "```\n",
    "\n",
    "## display\n",
    "\n",
    "ipyvizzu displays the animation after the currently running cell by default. It can be changed in the constructor with the `display` parameter.\n",
    "\n",
    "* `begin`: displays all of the animations after the constructor's cell\n",
    "* `actual` (default): displays the animation after the currently running cell\n",
    "* `end`: displays all of the animations after the last cell\n",
    "\n",
    "```python\n",
    "from ipyvizzu import Chart\n",
    "\n",
    "chart = Chart(display=\"begin\")\n",
    "```"
   ]
  }
 ],
 "metadata": {
  "kernelspec": {
   "display_name": "Python 3 (ipykernel)",
   "language": "python",
   "name": "python3"
  },
  "language_info": {
   "codemirror_mode": {
    "name": "ipython",
    "version": 3
   },
   "file_extension": ".py",
   "mimetype": "text/x-python",
   "name": "python",
   "nbconvert_exporter": "python",
   "pygments_lexer": "ipython3",
   "version": "3.8.10"
  }
 },
 "nbformat": 4,
 "nbformat_minor": 5
}
