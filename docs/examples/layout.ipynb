{
 "cells": [
  {
   "cell_type": "markdown",
   "id": "8518ab11",
   "metadata": {},
   "source": [
    "## Chart layout\n",
    "\n",
    "Vizzu has three separate parts of the chart layout: the plot area that contains the chart, the title containing the chart title on the top, and the legend on the left. Vizzu automatically hides the legend when it’s unnecessary to show it. When the title is not in use, Vizzu hides that part automatically as well. Each of these parts have their own paddings on all four sides that adjust to the chart size by default, but can also be set with the appropriate settings in the style object. All size parameters can be set in pixel, percentage and em.\n",
    "\n",
    "We add different background colors to the parts of the layout to show how they are aligned."
   ]
  },
  {
   "cell_type": "code",
   "execution_count": 1,
   "id": "b0552636",
   "metadata": {},
   "outputs": [
    {
     "data": {
      "text/html": [
       "<script id=\"myVizzu_339f6ad\">\n",
       "    myVizzu_339f6ad.parentNode.parentNode.style.display = \"none\";\n",
       "    let myVizzu_c262bce = document.createElement(\"div\");\n",
       "    myVizzu_c262bce.style.cssText = \"width: 800px; height: 480px;\";\n",
       "    let chart_c262bce = import(\"https://cdn.jsdelivr.net/npm/vizzu@~0.4.0/dist/vizzu.min.js\").then(Vizzu => new Vizzu.default(myVizzu_c262bce).initializing);\n",
       "</script>"
      ]
     },
     "metadata": {},
     "output_type": "display_data"
    },
    {
     "data": {
      "text/html": [
       "<script id=\"myVizzu_c5876a8\">\n",
       "    let display_c5876a8 = myVizzu_c5876a8.parentNode.parentNode.style.display;\n",
       "    myVizzu_c5876a8.parentNode.parentNode.style.display = \"none\";\n",
       "    chart_c262bce = chart_c262bce.then(chart => {\n",
       "        if (myVizzu_c262bce.parentNode && myVizzu_c262bce.parentNode.parentNode) {\n",
       "            myVizzu_c262bce.parentNode.parentNode.style.display = \"none\";\n",
       "        }\n",
       "        myVizzu_c5876a8.parentNode.parentNode.style.display = display_c5876a8;\n",
       "        myVizzu_c5876a8.parentNode.insertBefore(myVizzu_c262bce, myVizzu_c5876a8);\n",
       "        return chart.animate({\"data\": {\"dimensions\": [{\"name\": \"Genres\", \"values\": [\"Pop\", \"Rock\", \"Jazz\", \"Metal\"]}, {\"name\": \"Types\", \"values\": [\"Hard\", \"Smooth\", \"Experimental\"]}], \"measures\": [{\"name\": \"Popularity\", \"values\": [[114, 96, 78, 52], [56, 36, 174, 121], [127, 83, 94, 58]]}]}});\n",
       "    });\n",
       "</script>"
      ]
     },
     "metadata": {},
     "output_type": "display_data"
    },
    {
     "data": {
      "text/html": [
       "<script id=\"myVizzu_0a53ba7\">\n",
       "    let display_0a53ba7 = myVizzu_0a53ba7.parentNode.parentNode.style.display;\n",
       "    myVizzu_0a53ba7.parentNode.parentNode.style.display = \"none\";\n",
       "    chart_c262bce = chart_c262bce.then(chart => {\n",
       "        if (myVizzu_c262bce.parentNode && myVizzu_c262bce.parentNode.parentNode) {\n",
       "            myVizzu_c262bce.parentNode.parentNode.style.display = \"none\";\n",
       "        }\n",
       "        myVizzu_0a53ba7.parentNode.parentNode.style.display = display_0a53ba7;\n",
       "        myVizzu_0a53ba7.parentNode.insertBefore(myVizzu_c262bce, myVizzu_0a53ba7);\n",
       "        return chart.animate({\"config\": {\"channels\": {\"y\": {\"set\": [\"Popularity\", \"Types\"]}, \"x\": {\"set\": \"Genres\"}}, \"label\": {\"attach\": \"Popularity\"}, \"color\": {\"set\": \"Types\"}, \"title\": \"Plot, title and legend background\"}});\n",
       "    });\n",
       "</script>"
      ]
     },
     "metadata": {},
     "output_type": "display_data"
    },
    {
     "data": {
      "text/html": [
       "<script id=\"myVizzu_2556796\">\n",
       "    let display_2556796 = myVizzu_2556796.parentNode.parentNode.style.display;\n",
       "    myVizzu_2556796.parentNode.parentNode.style.display = \"none\";\n",
       "    chart_c262bce = chart_c262bce.then(chart => {\n",
       "        if (myVizzu_c262bce.parentNode && myVizzu_c262bce.parentNode.parentNode) {\n",
       "            myVizzu_c262bce.parentNode.parentNode.style.display = \"none\";\n",
       "        }\n",
       "        myVizzu_2556796.parentNode.parentNode.style.display = display_2556796;\n",
       "        myVizzu_2556796.parentNode.insertBefore(myVizzu_c262bce, myVizzu_2556796);\n",
       "        return chart.animate({\"style\": {\"title\": {\"backgroundColor\": \"#A0A0A0\"}, \"plot\": {\"backgroundColor\": \"#D2D2D2\"}, \"legend\": {\"backgroundColor\": \"#808080\"}}});\n",
       "    });\n",
       "</script>"
      ]
     },
     "metadata": {},
     "output_type": "display_data"
    },
    {
     "data": {
      "text/html": [
       "<script id=\"myVizzu_e705d9e\">\n",
       "    myVizzu_e705d9e.parentNode.parentNode.style.display = \"none\";\n",
       "    let snapshot_e705d9e;\n",
       "    chart_c262bce = chart_c262bce.then(chart => {\n",
       "        snapshot_e705d9e = chart.store();\n",
       "        return chart;\n",
       "    });\n",
       "</script>"
      ]
     },
     "metadata": {},
     "output_type": "display_data"
    }
   ],
   "source": [
    "from ipyvizzu import Chart, Data, Config, Style\n",
    "\n",
    "chart = Chart()\n",
    "\n",
    "data = Data.from_json(\"../data/music_example_data.json\")\n",
    "\n",
    "chart.animate(data)\n",
    "\n",
    "chart.animate(Config({\n",
    "    \"channels\": {\n",
    "        \"y\": {\n",
    "            \"set\": [\"Popularity\", \"Types\"]\n",
    "        }, \n",
    "        \"x\": {\n",
    "            \"set\": \"Genres\"\n",
    "        }\n",
    "    }, \n",
    "    \"label\": {\n",
    "        \"attach\": \"Popularity\"\n",
    "    },\n",
    "    \"color\": {\n",
    "        \"set\": \"Types\"\n",
    "    },\n",
    "    \"title\": \"Plot, title and legend background\"\n",
    "}))\n",
    "\n",
    "chart.animate(Style({\n",
    "    \"title\": { \n",
    "        \"backgroundColor\": '#A0A0A0' \n",
    "    },\n",
    "    \"plot\": { \n",
    "        \"backgroundColor\": '#D2D2D2' \n",
    "    },\n",
    "    \"legend\": { \n",
    "        \"backgroundColor\": '#808080' \n",
    "    }\n",
    "}))\n",
    "\n",
    "snapshot1 = chart.store()"
   ]
  },
  {
   "cell_type": "markdown",
   "id": "00bf9cba",
   "metadata": {},
   "source": [
    "Setting the width of the legend."
   ]
  },
  {
   "cell_type": "code",
   "execution_count": 2,
   "id": "9a7fe9b8",
   "metadata": {},
   "outputs": [
    {
     "data": {
      "text/html": [
       "<script id=\"myVizzu_1c31af1\">\n",
       "    let display_1c31af1 = myVizzu_1c31af1.parentNode.parentNode.style.display;\n",
       "    myVizzu_1c31af1.parentNode.parentNode.style.display = \"none\";\n",
       "    chart_c262bce = chart_c262bce.then(chart => {\n",
       "        if (myVizzu_c262bce.parentNode && myVizzu_c262bce.parentNode.parentNode) {\n",
       "            myVizzu_c262bce.parentNode.parentNode.style.display = \"none\";\n",
       "        }\n",
       "        myVizzu_1c31af1.parentNode.parentNode.style.display = display_1c31af1;\n",
       "        myVizzu_1c31af1.parentNode.insertBefore(myVizzu_c262bce, myVizzu_1c31af1);\n",
       "        return chart.animate(snapshot_e705d9e);\n",
       "    });\n",
       "</script>"
      ]
     },
     "metadata": {},
     "output_type": "display_data"
    },
    {
     "data": {
      "text/html": [
       "<script id=\"myVizzu_5aa8e51\">\n",
       "    let display_5aa8e51 = myVizzu_5aa8e51.parentNode.parentNode.style.display;\n",
       "    myVizzu_5aa8e51.parentNode.parentNode.style.display = \"none\";\n",
       "    chart_c262bce = chart_c262bce.then(chart => {\n",
       "        if (myVizzu_c262bce.parentNode && myVizzu_c262bce.parentNode.parentNode) {\n",
       "            myVizzu_c262bce.parentNode.parentNode.style.display = \"none\";\n",
       "        }\n",
       "        myVizzu_5aa8e51.parentNode.parentNode.style.display = display_5aa8e51;\n",
       "        myVizzu_5aa8e51.parentNode.insertBefore(myVizzu_c262bce, myVizzu_5aa8e51);\n",
       "        return chart.animate({\"config\": {\"title\": \"Legend width\"}});\n",
       "    });\n",
       "</script>"
      ]
     },
     "metadata": {},
     "output_type": "display_data"
    },
    {
     "data": {
      "text/html": [
       "<script id=\"myVizzu_169711d\">\n",
       "    let display_169711d = myVizzu_169711d.parentNode.parentNode.style.display;\n",
       "    myVizzu_169711d.parentNode.parentNode.style.display = \"none\";\n",
       "    chart_c262bce = chart_c262bce.then(chart => {\n",
       "        if (myVizzu_c262bce.parentNode && myVizzu_c262bce.parentNode.parentNode) {\n",
       "            myVizzu_c262bce.parentNode.parentNode.style.display = \"none\";\n",
       "        }\n",
       "        myVizzu_169711d.parentNode.parentNode.style.display = display_169711d;\n",
       "        myVizzu_169711d.parentNode.insertBefore(myVizzu_c262bce, myVizzu_169711d);\n",
       "        return chart.animate({\"style\": {\"legend\": {\"width\": 50}}});\n",
       "    });\n",
       "</script>"
      ]
     },
     "metadata": {},
     "output_type": "display_data"
    },
    {
     "data": {
      "text/html": [
       "<script id=\"myVizzu_5443f89\">\n",
       "    myVizzu_5443f89.parentNode.parentNode.style.display = \"none\";\n",
       "    let snapshot_5443f89;\n",
       "    chart_c262bce = chart_c262bce.then(chart => {\n",
       "        snapshot_5443f89 = chart.store();\n",
       "        return chart;\n",
       "    });\n",
       "</script>"
      ]
     },
     "metadata": {},
     "output_type": "display_data"
    }
   ],
   "source": [
    "chart.animate(snapshot1)\n",
    "\n",
    "chart.animate(Config({\"title\": \"Legend width\"}))\n",
    "\n",
    "chart.animate(Style({\n",
    "    \"legend\": { \n",
    "        \"width\": 50 \n",
    "    }\n",
    "}))\n",
    "\n",
    "snapshot2 = chart.store()"
   ]
  },
  {
   "cell_type": "markdown",
   "id": "fa329122",
   "metadata": {},
   "source": [
    "Setting the legend width back to its default value."
   ]
  },
  {
   "cell_type": "code",
   "execution_count": 3,
   "id": "88fa24a8",
   "metadata": {},
   "outputs": [
    {
     "data": {
      "text/html": [
       "<script id=\"myVizzu_26f92a0\">\n",
       "    let display_26f92a0 = myVizzu_26f92a0.parentNode.parentNode.style.display;\n",
       "    myVizzu_26f92a0.parentNode.parentNode.style.display = \"none\";\n",
       "    chart_c262bce = chart_c262bce.then(chart => {\n",
       "        if (myVizzu_c262bce.parentNode && myVizzu_c262bce.parentNode.parentNode) {\n",
       "            myVizzu_c262bce.parentNode.parentNode.style.display = \"none\";\n",
       "        }\n",
       "        myVizzu_26f92a0.parentNode.parentNode.style.display = display_26f92a0;\n",
       "        myVizzu_26f92a0.parentNode.insertBefore(myVizzu_c262bce, myVizzu_26f92a0);\n",
       "        return chart.animate(snapshot_5443f89);\n",
       "    });\n",
       "</script>"
      ]
     },
     "metadata": {},
     "output_type": "display_data"
    },
    {
     "data": {
      "text/html": [
       "<script id=\"myVizzu_6fd8ea2\">\n",
       "    let display_6fd8ea2 = myVizzu_6fd8ea2.parentNode.parentNode.style.display;\n",
       "    myVizzu_6fd8ea2.parentNode.parentNode.style.display = \"none\";\n",
       "    chart_c262bce = chart_c262bce.then(chart => {\n",
       "        if (myVizzu_c262bce.parentNode && myVizzu_c262bce.parentNode.parentNode) {\n",
       "            myVizzu_c262bce.parentNode.parentNode.style.display = \"none\";\n",
       "        }\n",
       "        myVizzu_6fd8ea2.parentNode.parentNode.style.display = display_6fd8ea2;\n",
       "        myVizzu_6fd8ea2.parentNode.insertBefore(myVizzu_c262bce, myVizzu_6fd8ea2);\n",
       "        return chart.animate({\"style\": {\"legend\": {\"width\": null}}});\n",
       "    });\n",
       "</script>"
      ]
     },
     "metadata": {},
     "output_type": "display_data"
    },
    {
     "data": {
      "text/html": [
       "<script id=\"myVizzu_e49a7e6\">\n",
       "    myVizzu_e49a7e6.parentNode.parentNode.style.display = \"none\";\n",
       "    let snapshot_e49a7e6;\n",
       "    chart_c262bce = chart_c262bce.then(chart => {\n",
       "        snapshot_e49a7e6 = chart.store();\n",
       "        return chart;\n",
       "    });\n",
       "</script>"
      ]
     },
     "metadata": {},
     "output_type": "display_data"
    }
   ],
   "source": [
    "chart.animate(snapshot2)\n",
    "\n",
    "chart.animate(Style({\n",
    "    \"legend\": { \n",
    "        \"width\": None \n",
    "    }\n",
    "}))\n",
    "\n",
    "snapshot3 = chart.store()"
   ]
  },
  {
   "cell_type": "markdown",
   "id": "3d68c376",
   "metadata": {},
   "source": [
    "Changing the title paddings. By default, the title is horizontally centered above the chart. In this example, we set the title’s left padding, resulting in the text moving to the right."
   ]
  },
  {
   "cell_type": "code",
   "execution_count": 4,
   "id": "c7e60196",
   "metadata": {},
   "outputs": [
    {
     "data": {
      "text/html": [
       "<script id=\"myVizzu_1cc3c2e\">\n",
       "    let display_1cc3c2e = myVizzu_1cc3c2e.parentNode.parentNode.style.display;\n",
       "    myVizzu_1cc3c2e.parentNode.parentNode.style.display = \"none\";\n",
       "    chart_c262bce = chart_c262bce.then(chart => {\n",
       "        if (myVizzu_c262bce.parentNode && myVizzu_c262bce.parentNode.parentNode) {\n",
       "            myVizzu_c262bce.parentNode.parentNode.style.display = \"none\";\n",
       "        }\n",
       "        myVizzu_1cc3c2e.parentNode.parentNode.style.display = display_1cc3c2e;\n",
       "        myVizzu_1cc3c2e.parentNode.insertBefore(myVizzu_c262bce, myVizzu_1cc3c2e);\n",
       "        return chart.animate(snapshot_e49a7e6);\n",
       "    });\n",
       "</script>"
      ]
     },
     "metadata": {},
     "output_type": "display_data"
    },
    {
     "data": {
      "text/html": [
       "<script id=\"myVizzu_9b36255\">\n",
       "    let display_9b36255 = myVizzu_9b36255.parentNode.parentNode.style.display;\n",
       "    myVizzu_9b36255.parentNode.parentNode.style.display = \"none\";\n",
       "    chart_c262bce = chart_c262bce.then(chart => {\n",
       "        if (myVizzu_c262bce.parentNode && myVizzu_c262bce.parentNode.parentNode) {\n",
       "            myVizzu_c262bce.parentNode.parentNode.style.display = \"none\";\n",
       "        }\n",
       "        myVizzu_9b36255.parentNode.parentNode.style.display = display_9b36255;\n",
       "        myVizzu_9b36255.parentNode.insertBefore(myVizzu_c262bce, myVizzu_9b36255);\n",
       "        return chart.animate({\"config\": {\"title\": \"Title padding\"}});\n",
       "    });\n",
       "</script>"
      ]
     },
     "metadata": {},
     "output_type": "display_data"
    },
    {
     "data": {
      "text/html": [
       "<script id=\"myVizzu_9062263\">\n",
       "    let display_9062263 = myVizzu_9062263.parentNode.parentNode.style.display;\n",
       "    myVizzu_9062263.parentNode.parentNode.style.display = \"none\";\n",
       "    chart_c262bce = chart_c262bce.then(chart => {\n",
       "        if (myVizzu_c262bce.parentNode && myVizzu_c262bce.parentNode.parentNode) {\n",
       "            myVizzu_c262bce.parentNode.parentNode.style.display = \"none\";\n",
       "        }\n",
       "        myVizzu_9062263.parentNode.parentNode.style.display = display_9062263;\n",
       "        myVizzu_9062263.parentNode.insertBefore(myVizzu_c262bce, myVizzu_9062263);\n",
       "        return chart.animate({\"style\": {\"title\": {\"paddingTop\": 20, \"paddingBottom\": 20, \"paddingLeft\": 200}}});\n",
       "    });\n",
       "</script>"
      ]
     },
     "metadata": {},
     "output_type": "display_data"
    },
    {
     "data": {
      "text/html": [
       "<script id=\"myVizzu_0184c92\">\n",
       "    myVizzu_0184c92.parentNode.parentNode.style.display = \"none\";\n",
       "    let snapshot_0184c92;\n",
       "    chart_c262bce = chart_c262bce.then(chart => {\n",
       "        snapshot_0184c92 = chart.store();\n",
       "        return chart;\n",
       "    });\n",
       "</script>"
      ]
     },
     "metadata": {},
     "output_type": "display_data"
    }
   ],
   "source": [
    "chart.animate(snapshot3)\n",
    "\n",
    "chart.animate(Config({\"title\": \"Title padding\"}))\n",
    "\n",
    "chart.animate(Style({\n",
    "    \"title\": {\n",
    "        \"paddingTop\": 20,\n",
    "        \"paddingBottom\": 20,\n",
    "        \"paddingLeft\": 200\n",
    "    }\n",
    "}))\n",
    "\n",
    "snapshot4 = chart.store()"
   ]
  },
  {
   "cell_type": "markdown",
   "id": "b45e96b6",
   "metadata": {},
   "source": [
    "Setting the title paddings back to their default values."
   ]
  },
  {
   "cell_type": "code",
   "execution_count": 5,
   "id": "d58b14d9",
   "metadata": {},
   "outputs": [
    {
     "data": {
      "text/html": [
       "<script id=\"myVizzu_c2a319b\">\n",
       "    let display_c2a319b = myVizzu_c2a319b.parentNode.parentNode.style.display;\n",
       "    myVizzu_c2a319b.parentNode.parentNode.style.display = \"none\";\n",
       "    chart_c262bce = chart_c262bce.then(chart => {\n",
       "        if (myVizzu_c262bce.parentNode && myVizzu_c262bce.parentNode.parentNode) {\n",
       "            myVizzu_c262bce.parentNode.parentNode.style.display = \"none\";\n",
       "        }\n",
       "        myVizzu_c2a319b.parentNode.parentNode.style.display = display_c2a319b;\n",
       "        myVizzu_c2a319b.parentNode.insertBefore(myVizzu_c262bce, myVizzu_c2a319b);\n",
       "        return chart.animate(snapshot_0184c92);\n",
       "    });\n",
       "</script>"
      ]
     },
     "metadata": {},
     "output_type": "display_data"
    },
    {
     "data": {
      "text/html": [
       "<script id=\"myVizzu_178c66b\">\n",
       "    let display_178c66b = myVizzu_178c66b.parentNode.parentNode.style.display;\n",
       "    myVizzu_178c66b.parentNode.parentNode.style.display = \"none\";\n",
       "    chart_c262bce = chart_c262bce.then(chart => {\n",
       "        if (myVizzu_c262bce.parentNode && myVizzu_c262bce.parentNode.parentNode) {\n",
       "            myVizzu_c262bce.parentNode.parentNode.style.display = \"none\";\n",
       "        }\n",
       "        myVizzu_178c66b.parentNode.parentNode.style.display = display_178c66b;\n",
       "        myVizzu_178c66b.parentNode.insertBefore(myVizzu_c262bce, myVizzu_178c66b);\n",
       "        return chart.animate({\"style\": {\"title\": {\"paddingTop\": null, \"paddingBottom\": null, \"paddingLeft\": null}}});\n",
       "    });\n",
       "</script>"
      ]
     },
     "metadata": {},
     "output_type": "display_data"
    },
    {
     "data": {
      "text/html": [
       "<script id=\"myVizzu_c5e9e98\">\n",
       "    myVizzu_c5e9e98.parentNode.parentNode.style.display = \"none\";\n",
       "    let snapshot_c5e9e98;\n",
       "    chart_c262bce = chart_c262bce.then(chart => {\n",
       "        snapshot_c5e9e98 = chart.store();\n",
       "        return chart;\n",
       "    });\n",
       "</script>"
      ]
     },
     "metadata": {},
     "output_type": "display_data"
    }
   ],
   "source": [
    "chart.animate(snapshot4)\n",
    "\n",
    "chart.animate(Style({\n",
    "    \"title\": {\n",
    "        \"paddingTop\": None,\n",
    "        \"paddingBottom\": None,\n",
    "        \"paddingLeft\": None\n",
    "    }\n",
    "}))\n",
    "\n",
    "snapshot5 = chart.store()"
   ]
  },
  {
   "cell_type": "markdown",
   "id": "6af0c821",
   "metadata": {},
   "source": [
    "Changing the paddings of the plot area to position the plot. The texts on the axes are drawn on the padding of the plot and not the plot itself."
   ]
  },
  {
   "cell_type": "code",
   "execution_count": 6,
   "id": "054257d1",
   "metadata": {},
   "outputs": [
    {
     "data": {
      "text/html": [
       "<script id=\"myVizzu_c3b8404\">\n",
       "    let display_c3b8404 = myVizzu_c3b8404.parentNode.parentNode.style.display;\n",
       "    myVizzu_c3b8404.parentNode.parentNode.style.display = \"none\";\n",
       "    chart_c262bce = chart_c262bce.then(chart => {\n",
       "        if (myVizzu_c262bce.parentNode && myVizzu_c262bce.parentNode.parentNode) {\n",
       "            myVizzu_c262bce.parentNode.parentNode.style.display = \"none\";\n",
       "        }\n",
       "        myVizzu_c3b8404.parentNode.parentNode.style.display = display_c3b8404;\n",
       "        myVizzu_c3b8404.parentNode.insertBefore(myVizzu_c262bce, myVizzu_c3b8404);\n",
       "        return chart.animate(snapshot_c5e9e98);\n",
       "    });\n",
       "</script>"
      ]
     },
     "metadata": {},
     "output_type": "display_data"
    },
    {
     "data": {
      "text/html": [
       "<script id=\"myVizzu_87e7f67\">\n",
       "    let display_87e7f67 = myVizzu_87e7f67.parentNode.parentNode.style.display;\n",
       "    myVizzu_87e7f67.parentNode.parentNode.style.display = \"none\";\n",
       "    chart_c262bce = chart_c262bce.then(chart => {\n",
       "        if (myVizzu_c262bce.parentNode && myVizzu_c262bce.parentNode.parentNode) {\n",
       "            myVizzu_c262bce.parentNode.parentNode.style.display = \"none\";\n",
       "        }\n",
       "        myVizzu_87e7f67.parentNode.parentNode.style.display = display_87e7f67;\n",
       "        myVizzu_87e7f67.parentNode.insertBefore(myVizzu_c262bce, myVizzu_87e7f67);\n",
       "        return chart.animate({\"config\": {\"title\": \"Plot padding\"}});\n",
       "    });\n",
       "</script>"
      ]
     },
     "metadata": {},
     "output_type": "display_data"
    },
    {
     "data": {
      "text/html": [
       "<script id=\"myVizzu_d926ce3\">\n",
       "    let display_d926ce3 = myVizzu_d926ce3.parentNode.parentNode.style.display;\n",
       "    myVizzu_d926ce3.parentNode.parentNode.style.display = \"none\";\n",
       "    chart_c262bce = chart_c262bce.then(chart => {\n",
       "        if (myVizzu_c262bce.parentNode && myVizzu_c262bce.parentNode.parentNode) {\n",
       "            myVizzu_c262bce.parentNode.parentNode.style.display = \"none\";\n",
       "        }\n",
       "        myVizzu_d926ce3.parentNode.parentNode.style.display = display_d926ce3;\n",
       "        myVizzu_d926ce3.parentNode.insertBefore(myVizzu_c262bce, myVizzu_d926ce3);\n",
       "        return chart.animate({\"style\": {\"plot\": {\"paddingLeft\": 100, \"paddingRight\": 100}}});\n",
       "    });\n",
       "</script>"
      ]
     },
     "metadata": {},
     "output_type": "display_data"
    },
    {
     "data": {
      "text/html": [
       "<script id=\"myVizzu_bc079b0\">\n",
       "    myVizzu_bc079b0.parentNode.parentNode.style.display = \"none\";\n",
       "    let snapshot_bc079b0;\n",
       "    chart_c262bce = chart_c262bce.then(chart => {\n",
       "        snapshot_bc079b0 = chart.store();\n",
       "        return chart;\n",
       "    });\n",
       "</script>"
      ]
     },
     "metadata": {},
     "output_type": "display_data"
    }
   ],
   "source": [
    "chart.animate(snapshot5)\n",
    "\n",
    "chart.animate(Config({\"title\": \"Plot padding\"}))\n",
    "\n",
    "chart.animate(Style({\n",
    "    \"plot\": {\n",
    "        \"paddingLeft\": 100,\n",
    "        \"paddingRight\": 100\n",
    "    }\n",
    "}))\n",
    "\n",
    "snapshot6 = chart.store()"
   ]
  },
  {
   "cell_type": "markdown",
   "id": "9e4b5dad",
   "metadata": {},
   "source": [
    "Setting the plot paddings back to their default values."
   ]
  },
  {
   "cell_type": "code",
   "execution_count": 7,
   "id": "28536d66",
   "metadata": {},
   "outputs": [
    {
     "data": {
      "text/html": [
       "<script id=\"myVizzu_5f6aada\">\n",
       "    let display_5f6aada = myVizzu_5f6aada.parentNode.parentNode.style.display;\n",
       "    myVizzu_5f6aada.parentNode.parentNode.style.display = \"none\";\n",
       "    chart_c262bce = chart_c262bce.then(chart => {\n",
       "        if (myVizzu_c262bce.parentNode && myVizzu_c262bce.parentNode.parentNode) {\n",
       "            myVizzu_c262bce.parentNode.parentNode.style.display = \"none\";\n",
       "        }\n",
       "        myVizzu_5f6aada.parentNode.parentNode.style.display = display_5f6aada;\n",
       "        myVizzu_5f6aada.parentNode.insertBefore(myVizzu_c262bce, myVizzu_5f6aada);\n",
       "        return chart.animate(snapshot_bc079b0);\n",
       "    });\n",
       "</script>"
      ]
     },
     "metadata": {},
     "output_type": "display_data"
    },
    {
     "data": {
      "text/html": [
       "<script id=\"myVizzu_02c20c1\">\n",
       "    let display_02c20c1 = myVizzu_02c20c1.parentNode.parentNode.style.display;\n",
       "    myVizzu_02c20c1.parentNode.parentNode.style.display = \"none\";\n",
       "    chart_c262bce = chart_c262bce.then(chart => {\n",
       "        if (myVizzu_c262bce.parentNode && myVizzu_c262bce.parentNode.parentNode) {\n",
       "            myVizzu_c262bce.parentNode.parentNode.style.display = \"none\";\n",
       "        }\n",
       "        myVizzu_02c20c1.parentNode.parentNode.style.display = display_02c20c1;\n",
       "        myVizzu_02c20c1.parentNode.insertBefore(myVizzu_c262bce, myVizzu_02c20c1);\n",
       "        return chart.animate({\"style\": {\"plot\": {\"paddingLeft\": null, \"paddingRight\": null}}});\n",
       "    });\n",
       "</script>"
      ]
     },
     "metadata": {},
     "output_type": "display_data"
    }
   ],
   "source": [
    "chart.animate(snapshot6)\n",
    "\n",
    "chart.animate(Style({\n",
    "    \"plot\": {\n",
    "        \"paddingLeft\": None,\n",
    "        \"paddingRight\": None\n",
    "    }\n",
    "}))"
   ]
  }
 ],
 "metadata": {
  "kernelspec": {
   "display_name": "Python 3 (ipykernel)",
   "language": "python",
   "name": "python3"
  },
  "language_info": {
   "codemirror_mode": {
    "name": "ipython",
    "version": 3
   },
   "file_extension": ".py",
   "mimetype": "text/x-python",
   "name": "python",
   "nbconvert_exporter": "python",
   "pygments_lexer": "ipython3",
   "version": "3.8.10"
  }
 },
 "nbformat": 4,
 "nbformat_minor": 5
}
