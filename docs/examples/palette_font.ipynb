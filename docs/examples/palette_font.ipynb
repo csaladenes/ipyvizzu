{
 "cells": [
  {
   "cell_type": "markdown",
   "id": "8518ab11",
   "metadata": {},
   "source": [
    "## Color palette & fonts\n",
    "\n",
    "This and the next chapter provide a quick intro to the styling of the charts. You can either use the style property like in the following examples or use CSS. By using CSS, it's easier to set the same style for multiple charts on one page or re-use style settings.\n",
    "\n",
    "If you use CSS, don't change the set parameters later on via the style property.\n",
    "\n",
    "The font sizes automatically adjust to the chart size to help readability, and can also be set separately or for specific groups.\n",
    "\n",
    "The color palette is changed to the colors we add here. The order of the dimension’s items in the data set determine which color belongs to which item as the colors are added one-by-one. If you want to use the same setting via CSS, you should add --vizzu-plot-marker-colorPalette: #9355e8FF #123456FF #BDAF10FF;"
   ]
  },
  {
   "cell_type": "code",
   "execution_count": 1,
   "id": "b0552636",
   "metadata": {},
   "outputs": [
    {
     "data": {
      "text/html": [
       "<script id=\"myVizzu_8c121b5\">\n",
       "    myVizzu_8c121b5.parentNode.parentNode.style.display = \"none\";\n",
       "    let myVizzu_b20525a = document.createElement(\"div\");\n",
       "    myVizzu_b20525a.style.cssText = \"width: 800px; height: 480px;\";\n",
       "    let chart_b20525a = import(\"https://cdn.jsdelivr.net/npm/vizzu@~0.4.0/dist/vizzu.min.js\").then(Vizzu => new Vizzu.default(myVizzu_b20525a).initializing);\n",
       "</script>"
      ]
     },
     "metadata": {},
     "output_type": "display_data"
    },
    {
     "data": {
      "text/html": [
       "<script id=\"myVizzu_dd3a45d\">\n",
       "    let display_dd3a45d = myVizzu_dd3a45d.parentNode.parentNode.style.display;\n",
       "    myVizzu_dd3a45d.parentNode.parentNode.style.display = \"none\";\n",
       "    chart_b20525a = chart_b20525a.then(chart => {\n",
       "        if (myVizzu_b20525a.parentNode && myVizzu_b20525a.parentNode.parentNode) {\n",
       "            myVizzu_b20525a.parentNode.parentNode.style.display = \"none\";\n",
       "        }\n",
       "        myVizzu_dd3a45d.parentNode.parentNode.style.display = display_dd3a45d;\n",
       "        myVizzu_dd3a45d.parentNode.insertBefore(myVizzu_b20525a, myVizzu_dd3a45d);\n",
       "        return chart.animate({\"data\": {\"dimensions\": [{\"name\": \"Genres\", \"values\": [\"Pop\", \"Rock\", \"Jazz\", \"Metal\"]}, {\"name\": \"Types\", \"values\": [\"Hard\", \"Smooth\", \"Experimental\"]}], \"measures\": [{\"name\": \"Popularity\", \"values\": [[114, 96, 78, 52], [56, 36, 174, 121], [127, 83, 94, 58]]}]}});\n",
       "    });\n",
       "</script>"
      ]
     },
     "metadata": {},
     "output_type": "display_data"
    },
    {
     "data": {
      "text/html": [
       "<script id=\"myVizzu_49708a2\">\n",
       "    let display_49708a2 = myVizzu_49708a2.parentNode.parentNode.style.display;\n",
       "    myVizzu_49708a2.parentNode.parentNode.style.display = \"none\";\n",
       "    chart_b20525a = chart_b20525a.then(chart => {\n",
       "        if (myVizzu_b20525a.parentNode && myVizzu_b20525a.parentNode.parentNode) {\n",
       "            myVizzu_b20525a.parentNode.parentNode.style.display = \"none\";\n",
       "        }\n",
       "        myVizzu_49708a2.parentNode.parentNode.style.display = display_49708a2;\n",
       "        myVizzu_49708a2.parentNode.insertBefore(myVizzu_b20525a, myVizzu_49708a2);\n",
       "        return chart.animate({\"config\": {\"channels\": {\"y\": {\"set\": [\"Popularity\", \"Types\"]}, \"x\": {\"set\": \"Genres\"}}, \"label\": {\"attach\": \"Popularity\"}, \"color\": {\"set\": \"Types\"}, \"title\": \"Color palette\"}});\n",
       "    });\n",
       "</script>"
      ]
     },
     "metadata": {},
     "output_type": "display_data"
    },
    {
     "data": {
      "text/html": [
       "<script id=\"myVizzu_a5d3e0a\">\n",
       "    let display_a5d3e0a = myVizzu_a5d3e0a.parentNode.parentNode.style.display;\n",
       "    myVizzu_a5d3e0a.parentNode.parentNode.style.display = \"none\";\n",
       "    chart_b20525a = chart_b20525a.then(chart => {\n",
       "        if (myVizzu_b20525a.parentNode && myVizzu_b20525a.parentNode.parentNode) {\n",
       "            myVizzu_b20525a.parentNode.parentNode.style.display = \"none\";\n",
       "        }\n",
       "        myVizzu_a5d3e0a.parentNode.parentNode.style.display = display_a5d3e0a;\n",
       "        myVizzu_a5d3e0a.parentNode.insertBefore(myVizzu_b20525a, myVizzu_a5d3e0a);\n",
       "        return chart.animate({\"style\": {\"plot\": {\"marker\": {\"colorPalette\": \"#9355e8FF #123456FF #BDAF10FF\"}}}});\n",
       "    });\n",
       "</script>"
      ]
     },
     "metadata": {},
     "output_type": "display_data"
    },
    {
     "data": {
      "text/html": [
       "<script id=\"myVizzu_23198fe\">\n",
       "    myVizzu_23198fe.parentNode.parentNode.style.display = \"none\";\n",
       "    let snapshot_23198fe;\n",
       "    chart_b20525a = chart_b20525a.then(chart => {\n",
       "        snapshot_23198fe = chart.store();\n",
       "        return chart;\n",
       "    });\n",
       "</script>"
      ]
     },
     "metadata": {},
     "output_type": "display_data"
    }
   ],
   "source": [
    "from ipyvizzu import Chart, Data, Config, Style\n",
    "\n",
    "chart = Chart()\n",
    "\n",
    "data = Data.from_json(\"../data/music_example_data.json\")\n",
    "\n",
    "chart.animate(data)\n",
    "\n",
    "chart.animate(Config({\n",
    "    \"channels\": {\n",
    "        \"y\": {\n",
    "            \"set\": [\"Popularity\", \"Types\"]\n",
    "        }, \n",
    "        \"x\": {\n",
    "            \"set\": \"Genres\"\n",
    "        }\n",
    "    }, \n",
    "    \"label\": {\n",
    "        \"attach\": \"Popularity\"\n",
    "    },\n",
    "    \"color\": {\n",
    "        \"set\": \"Types\"\n",
    "    },\n",
    "    \"title\": \"Color palette\"\n",
    "}))\n",
    "\n",
    "chart.animate(Style({\n",
    "    \"plot\": {\n",
    "        \"marker\": {\n",
    "            \"colorPalette\": \"#9355e8FF #123456FF #BDAF10FF\"\n",
    "        }\n",
    "    }\n",
    "}))\n",
    "\n",
    "snapshot1 = chart.store()"
   ]
  },
  {
   "cell_type": "markdown",
   "id": "00bf9cba",
   "metadata": {},
   "source": [
    "Changing the title font size will only affect the title; all other font sizes remain the same. CSS version: --vizzu-title-fontSize: 50;"
   ]
  },
  {
   "cell_type": "code",
   "execution_count": 2,
   "id": "9a7fe9b8",
   "metadata": {},
   "outputs": [
    {
     "data": {
      "text/html": [
       "<script id=\"myVizzu_2e24e6a\">\n",
       "    let display_2e24e6a = myVizzu_2e24e6a.parentNode.parentNode.style.display;\n",
       "    myVizzu_2e24e6a.parentNode.parentNode.style.display = \"none\";\n",
       "    chart_b20525a = chart_b20525a.then(chart => {\n",
       "        if (myVizzu_b20525a.parentNode && myVizzu_b20525a.parentNode.parentNode) {\n",
       "            myVizzu_b20525a.parentNode.parentNode.style.display = \"none\";\n",
       "        }\n",
       "        myVizzu_2e24e6a.parentNode.parentNode.style.display = display_2e24e6a;\n",
       "        myVizzu_2e24e6a.parentNode.insertBefore(myVizzu_b20525a, myVizzu_2e24e6a);\n",
       "        return chart.animate(snapshot_23198fe);\n",
       "    });\n",
       "</script>"
      ]
     },
     "metadata": {},
     "output_type": "display_data"
    },
    {
     "data": {
      "text/html": [
       "<script id=\"myVizzu_5e90983\">\n",
       "    let display_5e90983 = myVizzu_5e90983.parentNode.parentNode.style.display;\n",
       "    myVizzu_5e90983.parentNode.parentNode.style.display = \"none\";\n",
       "    chart_b20525a = chart_b20525a.then(chart => {\n",
       "        if (myVizzu_b20525a.parentNode && myVizzu_b20525a.parentNode.parentNode) {\n",
       "            myVizzu_b20525a.parentNode.parentNode.style.display = \"none\";\n",
       "        }\n",
       "        myVizzu_5e90983.parentNode.parentNode.style.display = display_5e90983;\n",
       "        myVizzu_5e90983.parentNode.insertBefore(myVizzu_b20525a, myVizzu_5e90983);\n",
       "        return chart.animate({\"config\": {\"title\": \"Title font size\"}});\n",
       "    });\n",
       "</script>"
      ]
     },
     "metadata": {},
     "output_type": "display_data"
    },
    {
     "data": {
      "text/html": [
       "<script id=\"myVizzu_bb26d3d\">\n",
       "    let display_bb26d3d = myVizzu_bb26d3d.parentNode.parentNode.style.display;\n",
       "    myVizzu_bb26d3d.parentNode.parentNode.style.display = \"none\";\n",
       "    chart_b20525a = chart_b20525a.then(chart => {\n",
       "        if (myVizzu_b20525a.parentNode && myVizzu_b20525a.parentNode.parentNode) {\n",
       "            myVizzu_b20525a.parentNode.parentNode.style.display = \"none\";\n",
       "        }\n",
       "        myVizzu_bb26d3d.parentNode.parentNode.style.display = display_bb26d3d;\n",
       "        myVizzu_bb26d3d.parentNode.insertBefore(myVizzu_b20525a, myVizzu_bb26d3d);\n",
       "        return chart.animate({\"style\": {\"title\": {\"fontSize\": 50}}});\n",
       "    });\n",
       "</script>"
      ]
     },
     "metadata": {},
     "output_type": "display_data"
    },
    {
     "data": {
      "text/html": [
       "<script id=\"myVizzu_b8d96be\">\n",
       "    myVizzu_b8d96be.parentNode.parentNode.style.display = \"none\";\n",
       "    let snapshot_b8d96be;\n",
       "    chart_b20525a = chart_b20525a.then(chart => {\n",
       "        snapshot_b8d96be = chart.store();\n",
       "        return chart;\n",
       "    });\n",
       "</script>"
      ]
     },
     "metadata": {},
     "output_type": "display_data"
    }
   ],
   "source": [
    "chart.animate(snapshot1)\n",
    "\n",
    "chart.animate(Config({\"title\": \"Title font size\"}))\n",
    "\n",
    "chart.animate(Style({\n",
    "    \"title\": {\n",
    "        \"fontSize\": 50\n",
    "    }\n",
    "}))\n",
    "\n",
    "snapshot2 = chart.store()"
   ]
  },
  {
   "cell_type": "markdown",
   "id": "fa329122",
   "metadata": {},
   "source": [
    "This is how to set the font size back to its default value."
   ]
  },
  {
   "cell_type": "code",
   "execution_count": 3,
   "id": "88fa24a8",
   "metadata": {},
   "outputs": [
    {
     "data": {
      "text/html": [
       "<script id=\"myVizzu_175ffea\">\n",
       "    let display_175ffea = myVizzu_175ffea.parentNode.parentNode.style.display;\n",
       "    myVizzu_175ffea.parentNode.parentNode.style.display = \"none\";\n",
       "    chart_b20525a = chart_b20525a.then(chart => {\n",
       "        if (myVizzu_b20525a.parentNode && myVizzu_b20525a.parentNode.parentNode) {\n",
       "            myVizzu_b20525a.parentNode.parentNode.style.display = \"none\";\n",
       "        }\n",
       "        myVizzu_175ffea.parentNode.parentNode.style.display = display_175ffea;\n",
       "        myVizzu_175ffea.parentNode.insertBefore(myVizzu_b20525a, myVizzu_175ffea);\n",
       "        return chart.animate(snapshot_b8d96be);\n",
       "    });\n",
       "</script>"
      ]
     },
     "metadata": {},
     "output_type": "display_data"
    },
    {
     "data": {
      "text/html": [
       "<script id=\"myVizzu_00f355f\">\n",
       "    let display_00f355f = myVizzu_00f355f.parentNode.parentNode.style.display;\n",
       "    myVizzu_00f355f.parentNode.parentNode.style.display = \"none\";\n",
       "    chart_b20525a = chart_b20525a.then(chart => {\n",
       "        if (myVizzu_b20525a.parentNode && myVizzu_b20525a.parentNode.parentNode) {\n",
       "            myVizzu_b20525a.parentNode.parentNode.style.display = \"none\";\n",
       "        }\n",
       "        myVizzu_00f355f.parentNode.parentNode.style.display = display_00f355f;\n",
       "        myVizzu_00f355f.parentNode.insertBefore(myVizzu_b20525a, myVizzu_00f355f);\n",
       "        return chart.animate({\"config\": {\"title\": \"Title font size - back to default\"}});\n",
       "    });\n",
       "</script>"
      ]
     },
     "metadata": {},
     "output_type": "display_data"
    },
    {
     "data": {
      "text/html": [
       "<script id=\"myVizzu_e69cba7\">\n",
       "    let display_e69cba7 = myVizzu_e69cba7.parentNode.parentNode.style.display;\n",
       "    myVizzu_e69cba7.parentNode.parentNode.style.display = \"none\";\n",
       "    chart_b20525a = chart_b20525a.then(chart => {\n",
       "        if (myVizzu_b20525a.parentNode && myVizzu_b20525a.parentNode.parentNode) {\n",
       "            myVizzu_b20525a.parentNode.parentNode.style.display = \"none\";\n",
       "        }\n",
       "        myVizzu_e69cba7.parentNode.parentNode.style.display = display_e69cba7;\n",
       "        myVizzu_e69cba7.parentNode.insertBefore(myVizzu_b20525a, myVizzu_e69cba7);\n",
       "        return chart.animate({\"style\": {\"title\": {\"fontSize\": null}}});\n",
       "    });\n",
       "</script>"
      ]
     },
     "metadata": {},
     "output_type": "display_data"
    },
    {
     "data": {
      "text/html": [
       "<script id=\"myVizzu_f441211\">\n",
       "    myVizzu_f441211.parentNode.parentNode.style.display = \"none\";\n",
       "    let snapshot_f441211;\n",
       "    chart_b20525a = chart_b20525a.then(chart => {\n",
       "        snapshot_f441211 = chart.store();\n",
       "        return chart;\n",
       "    });\n",
       "</script>"
      ]
     },
     "metadata": {},
     "output_type": "display_data"
    }
   ],
   "source": [
    "chart.animate(snapshot2)\n",
    "\n",
    "chart.animate(Config({\"title\": \"Title font size - back to default\"}))\n",
    "\n",
    "chart.animate(Style({\n",
    "    \"title\": {\n",
    "        \"fontSize\": None\n",
    "    }\n",
    "}))\n",
    "\n",
    "snapshot3 = chart.store()"
   ]
  },
  {
   "cell_type": "markdown",
   "id": "3d68c376",
   "metadata": {},
   "source": [
    "In case you change the font size of the whole chart with the top-level fontSize parameter then every font on the chart will grow/shrink proportionally. The size refers to the font size of the axis labels by default."
   ]
  },
  {
   "cell_type": "code",
   "execution_count": 4,
   "id": "c7e60196",
   "metadata": {},
   "outputs": [
    {
     "data": {
      "text/html": [
       "<script id=\"myVizzu_4c6f252\">\n",
       "    let display_4c6f252 = myVizzu_4c6f252.parentNode.parentNode.style.display;\n",
       "    myVizzu_4c6f252.parentNode.parentNode.style.display = \"none\";\n",
       "    chart_b20525a = chart_b20525a.then(chart => {\n",
       "        if (myVizzu_b20525a.parentNode && myVizzu_b20525a.parentNode.parentNode) {\n",
       "            myVizzu_b20525a.parentNode.parentNode.style.display = \"none\";\n",
       "        }\n",
       "        myVizzu_4c6f252.parentNode.parentNode.style.display = display_4c6f252;\n",
       "        myVizzu_4c6f252.parentNode.insertBefore(myVizzu_b20525a, myVizzu_4c6f252);\n",
       "        return chart.animate(snapshot_f441211);\n",
       "    });\n",
       "</script>"
      ]
     },
     "metadata": {},
     "output_type": "display_data"
    },
    {
     "data": {
      "text/html": [
       "<script id=\"myVizzu_3f4ba6b\">\n",
       "    let display_3f4ba6b = myVizzu_3f4ba6b.parentNode.parentNode.style.display;\n",
       "    myVizzu_3f4ba6b.parentNode.parentNode.style.display = \"none\";\n",
       "    chart_b20525a = chart_b20525a.then(chart => {\n",
       "        if (myVizzu_b20525a.parentNode && myVizzu_b20525a.parentNode.parentNode) {\n",
       "            myVizzu_b20525a.parentNode.parentNode.style.display = \"none\";\n",
       "        }\n",
       "        myVizzu_3f4ba6b.parentNode.parentNode.style.display = display_3f4ba6b;\n",
       "        myVizzu_3f4ba6b.parentNode.insertBefore(myVizzu_b20525a, myVizzu_3f4ba6b);\n",
       "        return chart.animate({\"config\": {\"title\": \"Setting all font sizes in one step\"}});\n",
       "    });\n",
       "</script>"
      ]
     },
     "metadata": {},
     "output_type": "display_data"
    },
    {
     "data": {
      "text/html": [
       "<script id=\"myVizzu_f819c85\">\n",
       "    let display_f819c85 = myVizzu_f819c85.parentNode.parentNode.style.display;\n",
       "    myVizzu_f819c85.parentNode.parentNode.style.display = \"none\";\n",
       "    chart_b20525a = chart_b20525a.then(chart => {\n",
       "        if (myVizzu_b20525a.parentNode && myVizzu_b20525a.parentNode.parentNode) {\n",
       "            myVizzu_b20525a.parentNode.parentNode.style.display = \"none\";\n",
       "        }\n",
       "        myVizzu_f819c85.parentNode.parentNode.style.display = display_f819c85;\n",
       "        myVizzu_f819c85.parentNode.insertBefore(myVizzu_b20525a, myVizzu_f819c85);\n",
       "        return chart.animate({\"style\": {\"fontSize\": 20}});\n",
       "    });\n",
       "</script>"
      ]
     },
     "metadata": {},
     "output_type": "display_data"
    },
    {
     "data": {
      "text/html": [
       "<script id=\"myVizzu_e5e8e7f\">\n",
       "    myVizzu_e5e8e7f.parentNode.parentNode.style.display = \"none\";\n",
       "    let snapshot_e5e8e7f;\n",
       "    chart_b20525a = chart_b20525a.then(chart => {\n",
       "        snapshot_e5e8e7f = chart.store();\n",
       "        return chart;\n",
       "    });\n",
       "</script>"
      ]
     },
     "metadata": {},
     "output_type": "display_data"
    }
   ],
   "source": [
    "chart.animate(snapshot3)\n",
    "\n",
    "chart.animate(Config({\"title\": \"Setting all font sizes in one step\"}))\n",
    "\n",
    "chart.animate(Style({\n",
    "    \"fontSize\": 20\n",
    "}))\n",
    "\n",
    "snapshot4 = chart.store()"
   ]
  },
  {
   "cell_type": "markdown",
   "id": "b45e96b6",
   "metadata": {},
   "source": [
    "You can reset styles to default on any levels by setting them to null."
   ]
  },
  {
   "cell_type": "code",
   "execution_count": 5,
   "id": "d58b14d9",
   "metadata": {},
   "outputs": [
    {
     "data": {
      "text/html": [
       "<script id=\"myVizzu_3e3a3db\">\n",
       "    let display_3e3a3db = myVizzu_3e3a3db.parentNode.parentNode.style.display;\n",
       "    myVizzu_3e3a3db.parentNode.parentNode.style.display = \"none\";\n",
       "    chart_b20525a = chart_b20525a.then(chart => {\n",
       "        if (myVizzu_b20525a.parentNode && myVizzu_b20525a.parentNode.parentNode) {\n",
       "            myVizzu_b20525a.parentNode.parentNode.style.display = \"none\";\n",
       "        }\n",
       "        myVizzu_3e3a3db.parentNode.parentNode.style.display = display_3e3a3db;\n",
       "        myVizzu_3e3a3db.parentNode.insertBefore(myVizzu_b20525a, myVizzu_3e3a3db);\n",
       "        return chart.animate(snapshot_e5e8e7f);\n",
       "    });\n",
       "</script>"
      ]
     },
     "metadata": {},
     "output_type": "display_data"
    },
    {
     "data": {
      "text/html": [
       "<script id=\"myVizzu_687eaf7\">\n",
       "    let display_687eaf7 = myVizzu_687eaf7.parentNode.parentNode.style.display;\n",
       "    myVizzu_687eaf7.parentNode.parentNode.style.display = \"none\";\n",
       "    chart_b20525a = chart_b20525a.then(chart => {\n",
       "        if (myVizzu_b20525a.parentNode && myVizzu_b20525a.parentNode.parentNode) {\n",
       "            myVizzu_b20525a.parentNode.parentNode.style.display = \"none\";\n",
       "        }\n",
       "        myVizzu_687eaf7.parentNode.parentNode.style.display = display_687eaf7;\n",
       "        myVizzu_687eaf7.parentNode.insertBefore(myVizzu_b20525a, myVizzu_687eaf7);\n",
       "        return chart.animate({\"config\": {\"title\": \"Setting all style settings back to default\"}});\n",
       "    });\n",
       "</script>"
      ]
     },
     "metadata": {},
     "output_type": "display_data"
    },
    {
     "data": {
      "text/html": [
       "<script id=\"myVizzu_dd409d6\">\n",
       "    let display_dd409d6 = myVizzu_dd409d6.parentNode.parentNode.style.display;\n",
       "    myVizzu_dd409d6.parentNode.parentNode.style.display = \"none\";\n",
       "    chart_b20525a = chart_b20525a.then(chart => {\n",
       "        if (myVizzu_b20525a.parentNode && myVizzu_b20525a.parentNode.parentNode) {\n",
       "            myVizzu_b20525a.parentNode.parentNode.style.display = \"none\";\n",
       "        }\n",
       "        myVizzu_dd409d6.parentNode.parentNode.style.display = display_dd409d6;\n",
       "        myVizzu_dd409d6.parentNode.insertBefore(myVizzu_b20525a, myVizzu_dd409d6);\n",
       "        return chart.animate({\"style\": null});\n",
       "    });\n",
       "</script>"
      ]
     },
     "metadata": {},
     "output_type": "display_data"
    }
   ],
   "source": [
    "chart.animate(snapshot4)\n",
    "\n",
    "chart.animate(Config({\"title\": \"Setting all style settings back to default\"}))\n",
    "\n",
    "chart.animate(Style(None))"
   ]
  }
 ],
 "metadata": {
  "kernelspec": {
   "display_name": "Python 3 (ipykernel)",
   "language": "python",
   "name": "python3"
  },
  "language_info": {
   "codemirror_mode": {
    "name": "ipython",
    "version": 3
   },
   "file_extension": ".py",
   "mimetype": "text/x-python",
   "name": "python",
   "nbconvert_exporter": "python",
   "pygments_lexer": "ipython3",
   "version": "3.8.10"
  }
 },
 "nbformat": 4,
 "nbformat_minor": 5
}
