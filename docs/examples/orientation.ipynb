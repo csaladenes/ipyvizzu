{
 "cells": [
  {
   "cell_type": "markdown",
   "id": "6dbc8df4",
   "metadata": {},
   "source": [
    "## Orientation, split & polar\n",
    "\n",
    "Now that you are familiar with the basic logic and operation of Vizzu, let's dive in with some more advanced features that you can use to create animated data stories and show the data from different perspectives.\n",
    "\n",
    "Switching orientation means that you put a measure from one axis to the other to see the data from a different perspective. This is once again a state you should only use temporarily."
   ]
  },
  {
   "cell_type": "code",
   "execution_count": 1,
   "id": "d5da6794",
   "metadata": {},
   "outputs": [
    {
     "data": {
      "text/html": [
       "<script id=\"myVizzu_f6be08b\">\n",
       "    myVizzu_f6be08b.parentNode.parentNode.style.display = \"none\";\n",
       "    let myVizzu_4e31c5e = document.createElement(\"div\");\n",
       "    myVizzu_4e31c5e.style.cssText = \"width: 800px; height: 480px;\";\n",
       "    let chart_4e31c5e = import(\"https://cdn.jsdelivr.net/npm/vizzu@~0.4.0/dist/vizzu.min.js\").then(Vizzu => new Vizzu.default(myVizzu_4e31c5e).initializing);\n",
       "</script>"
      ]
     },
     "metadata": {},
     "output_type": "display_data"
    },
    {
     "data": {
      "text/html": [
       "<script id=\"myVizzu_794995b\">\n",
       "    let display_794995b = myVizzu_794995b.parentNode.parentNode.style.display;\n",
       "    myVizzu_794995b.parentNode.parentNode.style.display = \"none\";\n",
       "    chart_4e31c5e = chart_4e31c5e.then(chart => {\n",
       "        if (myVizzu_4e31c5e.parentNode && myVizzu_4e31c5e.parentNode.parentNode) {\n",
       "            myVizzu_4e31c5e.parentNode.parentNode.style.display = \"none\";\n",
       "        }\n",
       "        myVizzu_794995b.parentNode.parentNode.style.display = display_794995b;\n",
       "        myVizzu_794995b.parentNode.insertBefore(myVizzu_4e31c5e, myVizzu_794995b);\n",
       "        return chart.animate({\"data\": {\"dimensions\": [{\"name\": \"Genres\", \"values\": [\"Pop\", \"Rock\", \"Jazz\", \"Metal\"]}, {\"name\": \"Types\", \"values\": [\"Hard\", \"Smooth\", \"Experimental\"]}], \"measures\": [{\"name\": \"Popularity\", \"values\": [[114, 96, 78, 52], [56, 36, 174, 121], [127, 83, 94, 58]]}]}});\n",
       "    });\n",
       "</script>"
      ]
     },
     "metadata": {},
     "output_type": "display_data"
    },
    {
     "data": {
      "text/html": [
       "<script id=\"myVizzu_0eda49d\">\n",
       "    let display_0eda49d = myVizzu_0eda49d.parentNode.parentNode.style.display;\n",
       "    myVizzu_0eda49d.parentNode.parentNode.style.display = \"none\";\n",
       "    chart_4e31c5e = chart_4e31c5e.then(chart => {\n",
       "        if (myVizzu_4e31c5e.parentNode && myVizzu_4e31c5e.parentNode.parentNode) {\n",
       "            myVizzu_4e31c5e.parentNode.parentNode.style.display = \"none\";\n",
       "        }\n",
       "        myVizzu_0eda49d.parentNode.parentNode.style.display = display_0eda49d;\n",
       "        myVizzu_0eda49d.parentNode.insertBefore(myVizzu_4e31c5e, myVizzu_0eda49d);\n",
       "        return chart.animate({\"config\": {\"channels\": {\"y\": {\"set\": [\"Popularity\", \"Types\"]}, \"x\": {\"set\": \"Genres\"}, \"label\": {\"attach\": \"Popularity\"}}, \"color\": {\"attach\": \"Types\"}, \"title\": \"Switch the orientation = arrange by other axis\"}});\n",
       "    });\n",
       "</script>"
      ]
     },
     "metadata": {},
     "output_type": "display_data"
    },
    {
     "data": {
      "text/html": [
       "<script id=\"myVizzu_5a4b3a4\">\n",
       "    let display_5a4b3a4 = myVizzu_5a4b3a4.parentNode.parentNode.style.display;\n",
       "    myVizzu_5a4b3a4.parentNode.parentNode.style.display = \"none\";\n",
       "    chart_4e31c5e = chart_4e31c5e.then(chart => {\n",
       "        if (myVizzu_4e31c5e.parentNode && myVizzu_4e31c5e.parentNode.parentNode) {\n",
       "            myVizzu_4e31c5e.parentNode.parentNode.style.display = \"none\";\n",
       "        }\n",
       "        myVizzu_5a4b3a4.parentNode.parentNode.style.display = display_5a4b3a4;\n",
       "        myVizzu_5a4b3a4.parentNode.insertBefore(myVizzu_4e31c5e, myVizzu_5a4b3a4);\n",
       "        return chart.animate({\"config\": {\"channels\": {\"y\": {\"detach\": \"Popularity\"}, \"x\": {\"attach\": \"Popularity\"}}}});\n",
       "    });\n",
       "</script>"
      ]
     },
     "metadata": {},
     "output_type": "display_data"
    },
    {
     "data": {
      "text/html": [
       "<script id=\"myVizzu_8407c2d\">\n",
       "    myVizzu_8407c2d.parentNode.parentNode.style.display = \"none\";\n",
       "    let snapshot_8407c2d;\n",
       "    chart_4e31c5e = chart_4e31c5e.then(chart => {\n",
       "        snapshot_8407c2d = chart.store();\n",
       "        return chart;\n",
       "    });\n",
       "</script>"
      ]
     },
     "metadata": {},
     "output_type": "display_data"
    }
   ],
   "source": [
    "from ipyvizzu import Chart, Data, Config\n",
    "\n",
    "chart = Chart()\n",
    "\n",
    "data = Data.from_json(\"../data/music_example_data.json\")\n",
    "\n",
    "chart.animate(data)\n",
    "\n",
    "chart.animate(Config({\n",
    "    \"channels\": {\n",
    "        \"y\": {\n",
    "            \"set\": [\"Popularity\", \"Types\"]\n",
    "        }, \n",
    "        \"x\": {\n",
    "            \"set\": \"Genres\"\n",
    "        },\n",
    "        \"label\": {\n",
    "            \"attach\": \"Popularity\"\n",
    "        }\n",
    "    },\n",
    "    \"color\": {\n",
    "        \"attach\": \"Types\"\n",
    "    },\n",
    "    \"title\": \"Switch the orientation = arrange by other axis\"\n",
    "}))\n",
    "\n",
    "chart.animate(Config({\n",
    "    \"channels\": {\n",
    "        \"y\": {\n",
    "            \"detach\": \"Popularity\",\n",
    "        },\n",
    "        \"x\": {\n",
    "            \"attach\": \"Popularity\",\n",
    "        }\n",
    "    }\n",
    "}))\n",
    "\n",
    "snapshot1 = chart.store()"
   ]
  },
  {
   "cell_type": "markdown",
   "id": "64a0effc",
   "metadata": {},
   "source": [
    "By turning the split parameter on, you can see stacked elements side-by-side, which enables the comparison of the components."
   ]
  },
  {
   "cell_type": "code",
   "execution_count": 2,
   "id": "f977713f",
   "metadata": {},
   "outputs": [
    {
     "data": {
      "text/html": [
       "<script id=\"myVizzu_00019f2\">\n",
       "    let display_00019f2 = myVizzu_00019f2.parentNode.parentNode.style.display;\n",
       "    myVizzu_00019f2.parentNode.parentNode.style.display = \"none\";\n",
       "    chart_4e31c5e = chart_4e31c5e.then(chart => {\n",
       "        if (myVizzu_4e31c5e.parentNode && myVizzu_4e31c5e.parentNode.parentNode) {\n",
       "            myVizzu_4e31c5e.parentNode.parentNode.style.display = \"none\";\n",
       "        }\n",
       "        myVizzu_00019f2.parentNode.parentNode.style.display = display_00019f2;\n",
       "        myVizzu_00019f2.parentNode.insertBefore(myVizzu_4e31c5e, myVizzu_00019f2);\n",
       "        return chart.animate(snapshot_8407c2d);\n",
       "    });\n",
       "</script>"
      ]
     },
     "metadata": {},
     "output_type": "display_data"
    },
    {
     "data": {
      "text/html": [
       "<script id=\"myVizzu_fb5cbb3\">\n",
       "    let display_fb5cbb3 = myVizzu_fb5cbb3.parentNode.parentNode.style.display;\n",
       "    myVizzu_fb5cbb3.parentNode.parentNode.style.display = \"none\";\n",
       "    chart_4e31c5e = chart_4e31c5e.then(chart => {\n",
       "        if (myVizzu_4e31c5e.parentNode && myVizzu_4e31c5e.parentNode.parentNode) {\n",
       "            myVizzu_4e31c5e.parentNode.parentNode.style.display = \"none\";\n",
       "        }\n",
       "        myVizzu_fb5cbb3.parentNode.parentNode.style.display = display_fb5cbb3;\n",
       "        myVizzu_fb5cbb3.parentNode.insertBefore(myVizzu_4e31c5e, myVizzu_fb5cbb3);\n",
       "        return chart.animate({\"config\": {\"title\": \"Split stacked values = show side-by-side\"}});\n",
       "    });\n",
       "</script>"
      ]
     },
     "metadata": {},
     "output_type": "display_data"
    },
    {
     "data": {
      "text/html": [
       "<script id=\"myVizzu_812cee2\">\n",
       "    let display_812cee2 = myVizzu_812cee2.parentNode.parentNode.style.display;\n",
       "    myVizzu_812cee2.parentNode.parentNode.style.display = \"none\";\n",
       "    chart_4e31c5e = chart_4e31c5e.then(chart => {\n",
       "        if (myVizzu_4e31c5e.parentNode && myVizzu_4e31c5e.parentNode.parentNode) {\n",
       "            myVizzu_4e31c5e.parentNode.parentNode.style.display = \"none\";\n",
       "        }\n",
       "        myVizzu_812cee2.parentNode.parentNode.style.display = display_812cee2;\n",
       "        myVizzu_812cee2.parentNode.insertBefore(myVizzu_4e31c5e, myVizzu_812cee2);\n",
       "        return chart.animate({\"config\": {\"split\": true}});\n",
       "    });\n",
       "</script>"
      ]
     },
     "metadata": {},
     "output_type": "display_data"
    },
    {
     "data": {
      "text/html": [
       "<script id=\"myVizzu_7295296\">\n",
       "    myVizzu_7295296.parentNode.parentNode.style.display = \"none\";\n",
       "    let snapshot_7295296;\n",
       "    chart_4e31c5e = chart_4e31c5e.then(chart => {\n",
       "        snapshot_7295296 = chart.store();\n",
       "        return chart;\n",
       "    });\n",
       "</script>"
      ]
     },
     "metadata": {},
     "output_type": "display_data"
    }
   ],
   "source": [
    "chart.animate(snapshot1)\n",
    "\n",
    "chart.animate(Config({\"title\": \"Split stacked values = show side-by-side\"}))\n",
    "\n",
    "chart.animate(Config({\n",
    "    \"split\": True\n",
    "}))\n",
    "\n",
    "snapshot2 = chart.store()"
   ]
  },
  {
   "cell_type": "markdown",
   "id": "0d54187c",
   "metadata": {},
   "source": [
    "Merging the components by turning the split parameter off."
   ]
  },
  {
   "cell_type": "code",
   "execution_count": 3,
   "id": "acfa599d",
   "metadata": {},
   "outputs": [
    {
     "data": {
      "text/html": [
       "<script id=\"myVizzu_5624b62\">\n",
       "    let display_5624b62 = myVizzu_5624b62.parentNode.parentNode.style.display;\n",
       "    myVizzu_5624b62.parentNode.parentNode.style.display = \"none\";\n",
       "    chart_4e31c5e = chart_4e31c5e.then(chart => {\n",
       "        if (myVizzu_4e31c5e.parentNode && myVizzu_4e31c5e.parentNode.parentNode) {\n",
       "            myVizzu_4e31c5e.parentNode.parentNode.style.display = \"none\";\n",
       "        }\n",
       "        myVizzu_5624b62.parentNode.parentNode.style.display = display_5624b62;\n",
       "        myVizzu_5624b62.parentNode.insertBefore(myVizzu_4e31c5e, myVizzu_5624b62);\n",
       "        return chart.animate(snapshot_7295296);\n",
       "    });\n",
       "</script>"
      ]
     },
     "metadata": {},
     "output_type": "display_data"
    },
    {
     "data": {
      "text/html": [
       "<script id=\"myVizzu_4872d03\">\n",
       "    let display_4872d03 = myVizzu_4872d03.parentNode.parentNode.style.display;\n",
       "    myVizzu_4872d03.parentNode.parentNode.style.display = \"none\";\n",
       "    chart_4e31c5e = chart_4e31c5e.then(chart => {\n",
       "        if (myVizzu_4e31c5e.parentNode && myVizzu_4e31c5e.parentNode.parentNode) {\n",
       "            myVizzu_4e31c5e.parentNode.parentNode.style.display = \"none\";\n",
       "        }\n",
       "        myVizzu_4872d03.parentNode.parentNode.style.display = display_4872d03;\n",
       "        myVizzu_4872d03.parentNode.insertBefore(myVizzu_4e31c5e, myVizzu_4872d03);\n",
       "        return chart.animate({\"config\": {\"title\": \"Merge\"}});\n",
       "    });\n",
       "</script>"
      ]
     },
     "metadata": {},
     "output_type": "display_data"
    },
    {
     "data": {
      "text/html": [
       "<script id=\"myVizzu_39127cb\">\n",
       "    let display_39127cb = myVizzu_39127cb.parentNode.parentNode.style.display;\n",
       "    myVizzu_39127cb.parentNode.parentNode.style.display = \"none\";\n",
       "    chart_4e31c5e = chart_4e31c5e.then(chart => {\n",
       "        if (myVizzu_4e31c5e.parentNode && myVizzu_4e31c5e.parentNode.parentNode) {\n",
       "            myVizzu_4e31c5e.parentNode.parentNode.style.display = \"none\";\n",
       "        }\n",
       "        myVizzu_39127cb.parentNode.parentNode.style.display = display_39127cb;\n",
       "        myVizzu_39127cb.parentNode.insertBefore(myVizzu_4e31c5e, myVizzu_39127cb);\n",
       "        return chart.animate({\"config\": {\"split\": false}});\n",
       "    });\n",
       "</script>"
      ]
     },
     "metadata": {},
     "output_type": "display_data"
    },
    {
     "data": {
      "text/html": [
       "<script id=\"myVizzu_ccc1461\">\n",
       "    myVizzu_ccc1461.parentNode.parentNode.style.display = \"none\";\n",
       "    let snapshot_ccc1461;\n",
       "    chart_4e31c5e = chart_4e31c5e.then(chart => {\n",
       "        snapshot_ccc1461 = chart.store();\n",
       "        return chart;\n",
       "    });\n",
       "</script>"
      ]
     },
     "metadata": {},
     "output_type": "display_data"
    }
   ],
   "source": [
    "chart.animate(snapshot2)\n",
    "\n",
    "chart.animate(Config({\"title\": \"Merge\"}))\n",
    "\n",
    "chart.animate(Config({\n",
    "    \"split\": False\n",
    "}))\n",
    "\n",
    "snapshot3 = chart.store()"
   ]
  },
  {
   "cell_type": "markdown",
   "id": "8bdea4dc",
   "metadata": {},
   "source": [
    "We aggregate the data by removing the Genres dimension from the x-axis."
   ]
  },
  {
   "cell_type": "code",
   "execution_count": 4,
   "id": "cd6f4efb",
   "metadata": {},
   "outputs": [
    {
     "data": {
      "text/html": [
       "<script id=\"myVizzu_15bde18\">\n",
       "    let display_15bde18 = myVizzu_15bde18.parentNode.parentNode.style.display;\n",
       "    myVizzu_15bde18.parentNode.parentNode.style.display = \"none\";\n",
       "    chart_4e31c5e = chart_4e31c5e.then(chart => {\n",
       "        if (myVizzu_4e31c5e.parentNode && myVizzu_4e31c5e.parentNode.parentNode) {\n",
       "            myVizzu_4e31c5e.parentNode.parentNode.style.display = \"none\";\n",
       "        }\n",
       "        myVizzu_15bde18.parentNode.parentNode.style.display = display_15bde18;\n",
       "        myVizzu_15bde18.parentNode.insertBefore(myVizzu_4e31c5e, myVizzu_15bde18);\n",
       "        return chart.animate(snapshot_ccc1461);\n",
       "    });\n",
       "</script>"
      ]
     },
     "metadata": {},
     "output_type": "display_data"
    },
    {
     "data": {
      "text/html": [
       "<script id=\"myVizzu_60c29bf\">\n",
       "    let display_60c29bf = myVizzu_60c29bf.parentNode.parentNode.style.display;\n",
       "    myVizzu_60c29bf.parentNode.parentNode.style.display = \"none\";\n",
       "    chart_4e31c5e = chart_4e31c5e.then(chart => {\n",
       "        if (myVizzu_4e31c5e.parentNode && myVizzu_4e31c5e.parentNode.parentNode) {\n",
       "            myVizzu_4e31c5e.parentNode.parentNode.style.display = \"none\";\n",
       "        }\n",
       "        myVizzu_60c29bf.parentNode.parentNode.style.display = display_60c29bf;\n",
       "        myVizzu_60c29bf.parentNode.insertBefore(myVizzu_4e31c5e, myVizzu_60c29bf);\n",
       "        return chart.animate({\"config\": {\"title\": \"Aggregate\"}});\n",
       "    });\n",
       "</script>"
      ]
     },
     "metadata": {},
     "output_type": "display_data"
    },
    {
     "data": {
      "text/html": [
       "<script id=\"myVizzu_2858bdf\">\n",
       "    let display_2858bdf = myVizzu_2858bdf.parentNode.parentNode.style.display;\n",
       "    myVizzu_2858bdf.parentNode.parentNode.style.display = \"none\";\n",
       "    chart_4e31c5e = chart_4e31c5e.then(chart => {\n",
       "        if (myVizzu_4e31c5e.parentNode && myVizzu_4e31c5e.parentNode.parentNode) {\n",
       "            myVizzu_4e31c5e.parentNode.parentNode.style.display = \"none\";\n",
       "        }\n",
       "        myVizzu_2858bdf.parentNode.parentNode.style.display = display_2858bdf;\n",
       "        myVizzu_2858bdf.parentNode.insertBefore(myVizzu_4e31c5e, myVizzu_2858bdf);\n",
       "        return chart.animate({\"config\": {\"channels\": {\"x\": {\"detach\": \"Genres\"}}}});\n",
       "    });\n",
       "</script>"
      ]
     },
     "metadata": {},
     "output_type": "display_data"
    },
    {
     "data": {
      "text/html": [
       "<script id=\"myVizzu_58365d7\">\n",
       "    myVizzu_58365d7.parentNode.parentNode.style.display = \"none\";\n",
       "    let snapshot_58365d7;\n",
       "    chart_4e31c5e = chart_4e31c5e.then(chart => {\n",
       "        snapshot_58365d7 = chart.store();\n",
       "        return chart;\n",
       "    });\n",
       "</script>"
      ]
     },
     "metadata": {},
     "output_type": "display_data"
    }
   ],
   "source": [
    "chart.animate(snapshot3)\n",
    "\n",
    "chart.animate(Config({\"title\": \"Aggregate\"}))\n",
    "\n",
    "chart.animate(Config({\n",
    "    \"channels\": {\n",
    "        \"x\": {\n",
    "            \"detach\": \"Genres\",\n",
    "        }\n",
    "    }\n",
    "}))\n",
    "\n",
    "snapshot4 = chart.store()"
   ]
  },
  {
   "cell_type": "markdown",
   "id": "57f51f7b",
   "metadata": {},
   "source": [
    "Switching from cartesian coordinates to polar. When doing so, it is worth setting the axis range on the axis with the dimension so that the viewers can easily compare the values shown. If you want to return to the default cartesian coordinates, just set the coordSystem parameter to ‘cartesian’.\n",
    "\n",
    "Note: The range of the x-axis is automatically set to max:133% as this is the standard way to show radial charts."
   ]
  },
  {
   "cell_type": "code",
   "execution_count": 5,
   "id": "dc6866f3",
   "metadata": {},
   "outputs": [
    {
     "data": {
      "text/html": [
       "<script id=\"myVizzu_976f571\">\n",
       "    let display_976f571 = myVizzu_976f571.parentNode.parentNode.style.display;\n",
       "    myVizzu_976f571.parentNode.parentNode.style.display = \"none\";\n",
       "    chart_4e31c5e = chart_4e31c5e.then(chart => {\n",
       "        if (myVizzu_4e31c5e.parentNode && myVizzu_4e31c5e.parentNode.parentNode) {\n",
       "            myVizzu_4e31c5e.parentNode.parentNode.style.display = \"none\";\n",
       "        }\n",
       "        myVizzu_976f571.parentNode.parentNode.style.display = display_976f571;\n",
       "        myVizzu_976f571.parentNode.insertBefore(myVizzu_4e31c5e, myVizzu_976f571);\n",
       "        return chart.animate(snapshot_58365d7);\n",
       "    });\n",
       "</script>"
      ]
     },
     "metadata": {},
     "output_type": "display_data"
    },
    {
     "data": {
      "text/html": [
       "<script id=\"myVizzu_284a27c\">\n",
       "    let display_284a27c = myVizzu_284a27c.parentNode.parentNode.style.display;\n",
       "    myVizzu_284a27c.parentNode.parentNode.style.display = \"none\";\n",
       "    chart_4e31c5e = chart_4e31c5e.then(chart => {\n",
       "        if (myVizzu_4e31c5e.parentNode && myVizzu_4e31c5e.parentNode.parentNode) {\n",
       "            myVizzu_4e31c5e.parentNode.parentNode.style.display = \"none\";\n",
       "        }\n",
       "        myVizzu_284a27c.parentNode.parentNode.style.display = display_284a27c;\n",
       "        myVizzu_284a27c.parentNode.insertBefore(myVizzu_4e31c5e, myVizzu_284a27c);\n",
       "        return chart.animate({\"config\": {\"title\": \"Polar coordinates\"}});\n",
       "    });\n",
       "</script>"
      ]
     },
     "metadata": {},
     "output_type": "display_data"
    },
    {
     "data": {
      "text/html": [
       "<script id=\"myVizzu_f25b7b6\">\n",
       "    let display_f25b7b6 = myVizzu_f25b7b6.parentNode.parentNode.style.display;\n",
       "    myVizzu_f25b7b6.parentNode.parentNode.style.display = \"none\";\n",
       "    chart_4e31c5e = chart_4e31c5e.then(chart => {\n",
       "        if (myVizzu_4e31c5e.parentNode && myVizzu_4e31c5e.parentNode.parentNode) {\n",
       "            myVizzu_4e31c5e.parentNode.parentNode.style.display = \"none\";\n",
       "        }\n",
       "        myVizzu_f25b7b6.parentNode.parentNode.style.display = display_f25b7b6;\n",
       "        myVizzu_f25b7b6.parentNode.insertBefore(myVizzu_4e31c5e, myVizzu_f25b7b6);\n",
       "        return chart.animate({\"config\": {\"channels\": {\"y\": {\"range\": {\"min\": \"-30%\"}}}, \"coordSystem\": \"polar\"}});\n",
       "    });\n",
       "</script>"
      ]
     },
     "metadata": {},
     "output_type": "display_data"
    }
   ],
   "source": [
    "chart.animate(snapshot4)\n",
    "\n",
    "chart.animate(Config({\"title\": \"Polar coordinates\"}))\n",
    "\n",
    "chart.animate(Config({\n",
    "    \"channels\": {\n",
    "        \"y\": {\n",
    "            \"range\": {\n",
    "                \"min\": \"-30%\",\n",
    "            },\n",
    "        },\n",
    "    },\n",
    "    \"coordSystem\": \"polar\"\n",
    "}))"
   ]
  }
 ],
 "metadata": {
  "kernelspec": {
   "display_name": "Python 3 (ipykernel)",
   "language": "python",
   "name": "python3"
  },
  "language_info": {
   "codemirror_mode": {
    "name": "ipython",
    "version": 3
   },
   "file_extension": ".py",
   "mimetype": "text/x-python",
   "name": "python",
   "nbconvert_exporter": "python",
   "pygments_lexer": "ipython3",
   "version": "3.8.10"
  }
 },
 "nbformat": 4,
 "nbformat_minor": 5
}
