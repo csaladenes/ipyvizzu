{
 "cells": [
  {
   "cell_type": "markdown",
   "id": "8518ab11",
   "metadata": {},
   "source": [
    "## Animation options\n",
    "\n",
    "In Vizzu you can set the timing and duration of the animation. You can do this either for the whole animation, or for animation groups such as the elements moving along the x-axis or the y-axis, appearing or disappearing or when the coordinate system is changed.\n",
    "\n",
    "Let’s see first a simple example when a stacked column chart is grouped using the default animation options."
   ]
  },
  {
   "cell_type": "code",
   "execution_count": 1,
   "id": "b0552636",
   "metadata": {},
   "outputs": [
    {
     "data": {
      "text/html": [
       "<script id=\"myVizzu_b26e5ec\">\n",
       "    myVizzu_b26e5ec.parentNode.parentNode.style.display = \"none\";\n",
       "    let myVizzu_7088fbc = document.createElement(\"div\");\n",
       "    myVizzu_7088fbc.style.cssText = \"width: 800px; height: 480px;\";\n",
       "    let chart_7088fbc = import(\"https://cdn.jsdelivr.net/npm/vizzu@~0.4.0/dist/vizzu.min.js\").then(Vizzu => new Vizzu.default(myVizzu_7088fbc).initializing);\n",
       "</script>"
      ]
     },
     "metadata": {},
     "output_type": "display_data"
    },
    {
     "data": {
      "text/html": [
       "<script id=\"myVizzu_bfed6c5\">\n",
       "    let display_bfed6c5 = myVizzu_bfed6c5.parentNode.parentNode.style.display;\n",
       "    myVizzu_bfed6c5.parentNode.parentNode.style.display = \"none\";\n",
       "    chart_7088fbc = chart_7088fbc.then(chart => {\n",
       "        if (myVizzu_7088fbc.parentNode && myVizzu_7088fbc.parentNode.parentNode) {\n",
       "            myVizzu_7088fbc.parentNode.parentNode.style.display = \"none\";\n",
       "        }\n",
       "        myVizzu_bfed6c5.parentNode.parentNode.style.display = display_bfed6c5;\n",
       "        myVizzu_bfed6c5.parentNode.insertBefore(myVizzu_7088fbc, myVizzu_bfed6c5);\n",
       "        return chart.animate({\"data\": {\"dimensions\": [{\"name\": \"Genres\", \"values\": [\"Pop\", \"Rock\", \"Jazz\", \"Metal\"]}, {\"name\": \"Types\", \"values\": [\"Hard\", \"Smooth\", \"Experimental\"]}], \"measures\": [{\"name\": \"Popularity\", \"values\": [[114, 96, 78, 52], [56, 36, 174, 121], [127, 83, 94, 58]]}]}});\n",
       "    });\n",
       "</script>"
      ]
     },
     "metadata": {},
     "output_type": "display_data"
    },
    {
     "data": {
      "text/html": [
       "<script id=\"myVizzu_eee64a4\">\n",
       "    let display_eee64a4 = myVizzu_eee64a4.parentNode.parentNode.style.display;\n",
       "    myVizzu_eee64a4.parentNode.parentNode.style.display = \"none\";\n",
       "    chart_7088fbc = chart_7088fbc.then(chart => {\n",
       "        if (myVizzu_7088fbc.parentNode && myVizzu_7088fbc.parentNode.parentNode) {\n",
       "            myVizzu_7088fbc.parentNode.parentNode.style.display = \"none\";\n",
       "        }\n",
       "        myVizzu_eee64a4.parentNode.parentNode.style.display = display_eee64a4;\n",
       "        myVizzu_eee64a4.parentNode.insertBefore(myVizzu_7088fbc, myVizzu_eee64a4);\n",
       "        return chart.animate({\"config\": {\"channels\": {\"y\": {\"set\": [\"Popularity\", \"Types\"]}, \"x\": {\"set\": \"Genres\"}}, \"label\": {\"attach\": \"Popularity\"}, \"color\": {\"set\": \"Types\"}, \"title\": \"Default options - step 1\"}});\n",
       "    });\n",
       "</script>"
      ]
     },
     "metadata": {},
     "output_type": "display_data"
    },
    {
     "data": {
      "text/html": [
       "<script id=\"myVizzu_90583d5\">\n",
       "    let display_90583d5 = myVizzu_90583d5.parentNode.parentNode.style.display;\n",
       "    myVizzu_90583d5.parentNode.parentNode.style.display = \"none\";\n",
       "    chart_7088fbc = chart_7088fbc.then(chart => {\n",
       "        if (myVizzu_7088fbc.parentNode && myVizzu_7088fbc.parentNode.parentNode) {\n",
       "            myVizzu_7088fbc.parentNode.parentNode.style.display = \"none\";\n",
       "        }\n",
       "        myVizzu_90583d5.parentNode.parentNode.style.display = display_90583d5;\n",
       "        myVizzu_90583d5.parentNode.insertBefore(myVizzu_7088fbc, myVizzu_90583d5);\n",
       "        return chart.animate({\"config\": {\"channels\": {\"y\": {\"detach\": \"Types\"}, \"x\": {\"attach\": \"Types\"}}}});\n",
       "    });\n",
       "</script>"
      ]
     },
     "metadata": {},
     "output_type": "display_data"
    },
    {
     "data": {
      "text/html": [
       "<script id=\"myVizzu_de4c8cc\">\n",
       "    myVizzu_de4c8cc.parentNode.parentNode.style.display = \"none\";\n",
       "    let snapshot_de4c8cc;\n",
       "    chart_7088fbc = chart_7088fbc.then(chart => {\n",
       "        snapshot_de4c8cc = chart.store();\n",
       "        return chart;\n",
       "    });\n",
       "</script>"
      ]
     },
     "metadata": {},
     "output_type": "display_data"
    }
   ],
   "source": [
    "from ipyvizzu import Chart, Data, Config\n",
    "\n",
    "chart = Chart()\n",
    "\n",
    "data = Data.from_json(\"../data/music_example_data.json\")\n",
    "\n",
    "chart.animate(data)\n",
    "\n",
    "chart.animate(Config({\n",
    "    \"channels\": {\n",
    "        \"y\": {\n",
    "            \"set\": [\"Popularity\", \"Types\"]\n",
    "        }, \n",
    "        \"x\": {\n",
    "            \"set\": \"Genres\"\n",
    "        }\n",
    "    }, \n",
    "    \"label\": {\n",
    "        \"attach\": \"Popularity\"\n",
    "    },\n",
    "    \"color\": {\n",
    "        \"set\": \"Types\"\n",
    "    },\n",
    "    \"title\": \"Default options - step 1\"\n",
    "}))\n",
    "\n",
    "chart.animate(Config({\n",
    "    \"channels\": {\n",
    "        \"y\": {\n",
    "            \"detach\": \"Types\"\n",
    "        }, \n",
    "        \"x\": {\n",
    "            \"attach\": \"Types\"\n",
    "        }\n",
    "    }\n",
    "}))\n",
    "\n",
    "snapshot1 = chart.store()"
   ]
  },
  {
   "cell_type": "markdown",
   "id": "703a28af",
   "metadata": {},
   "source": [
    "We stack the columns, still with the default options."
   ]
  },
  {
   "cell_type": "code",
   "execution_count": 2,
   "id": "ebce53a8",
   "metadata": {},
   "outputs": [
    {
     "data": {
      "text/html": [
       "<script id=\"myVizzu_5b0ac2b\">\n",
       "    let display_5b0ac2b = myVizzu_5b0ac2b.parentNode.parentNode.style.display;\n",
       "    myVizzu_5b0ac2b.parentNode.parentNode.style.display = \"none\";\n",
       "    chart_7088fbc = chart_7088fbc.then(chart => {\n",
       "        if (myVizzu_7088fbc.parentNode && myVizzu_7088fbc.parentNode.parentNode) {\n",
       "            myVizzu_7088fbc.parentNode.parentNode.style.display = \"none\";\n",
       "        }\n",
       "        myVizzu_5b0ac2b.parentNode.parentNode.style.display = display_5b0ac2b;\n",
       "        myVizzu_5b0ac2b.parentNode.insertBefore(myVizzu_7088fbc, myVizzu_5b0ac2b);\n",
       "        return chart.animate(snapshot_de4c8cc);\n",
       "    });\n",
       "</script>"
      ]
     },
     "metadata": {},
     "output_type": "display_data"
    },
    {
     "data": {
      "text/html": [
       "<script id=\"myVizzu_4e3e236\">\n",
       "    let display_4e3e236 = myVizzu_4e3e236.parentNode.parentNode.style.display;\n",
       "    myVizzu_4e3e236.parentNode.parentNode.style.display = \"none\";\n",
       "    chart_7088fbc = chart_7088fbc.then(chart => {\n",
       "        if (myVizzu_7088fbc.parentNode && myVizzu_7088fbc.parentNode.parentNode) {\n",
       "            myVizzu_7088fbc.parentNode.parentNode.style.display = \"none\";\n",
       "        }\n",
       "        myVizzu_4e3e236.parentNode.parentNode.style.display = display_4e3e236;\n",
       "        myVizzu_4e3e236.parentNode.insertBefore(myVizzu_7088fbc, myVizzu_4e3e236);\n",
       "        return chart.animate({\"config\": {\"title\": \"Default options - step 2\"}});\n",
       "    });\n",
       "</script>"
      ]
     },
     "metadata": {},
     "output_type": "display_data"
    },
    {
     "data": {
      "text/html": [
       "<script id=\"myVizzu_7835e87\">\n",
       "    let display_7835e87 = myVizzu_7835e87.parentNode.parentNode.style.display;\n",
       "    myVizzu_7835e87.parentNode.parentNode.style.display = \"none\";\n",
       "    chart_7088fbc = chart_7088fbc.then(chart => {\n",
       "        if (myVizzu_7088fbc.parentNode && myVizzu_7088fbc.parentNode.parentNode) {\n",
       "            myVizzu_7088fbc.parentNode.parentNode.style.display = \"none\";\n",
       "        }\n",
       "        myVizzu_7835e87.parentNode.parentNode.style.display = display_7835e87;\n",
       "        myVizzu_7835e87.parentNode.insertBefore(myVizzu_7088fbc, myVizzu_7835e87);\n",
       "        return chart.animate({\"config\": {\"channels\": {\"x\": {\"detach\": \"Types\"}, \"y\": {\"attach\": \"Types\"}}}});\n",
       "    });\n",
       "</script>"
      ]
     },
     "metadata": {},
     "output_type": "display_data"
    },
    {
     "data": {
      "text/html": [
       "<script id=\"myVizzu_eb403c6\">\n",
       "    myVizzu_eb403c6.parentNode.parentNode.style.display = \"none\";\n",
       "    let snapshot_eb403c6;\n",
       "    chart_7088fbc = chart_7088fbc.then(chart => {\n",
       "        snapshot_eb403c6 = chart.store();\n",
       "        return chart;\n",
       "    });\n",
       "</script>"
      ]
     },
     "metadata": {},
     "output_type": "display_data"
    }
   ],
   "source": [
    "chart.animate(snapshot1)\n",
    "\n",
    "chart.animate(Config({\"title\": \"Default options - step 2\"}))\n",
    "\n",
    "chart.animate(Config({\n",
    "    \"channels\": {\n",
    "        \"x\": {\n",
    "            \"detach\": \"Types\"\n",
    "        }, \n",
    "        \"y\": {\n",
    "            \"attach\": \"Types\"\n",
    "        }\n",
    "    }\n",
    "}))\n",
    "\n",
    "snapshot2 = chart.store()"
   ]
  },
  {
   "cell_type": "markdown",
   "id": "3c5ed3f8",
   "metadata": {},
   "source": [
    "Now we change the animation settings for the elements moving along the y-axis and also the change in styles, more specifically when the labels on the markers move from the center of the chart elements to the top of them."
   ]
  },
  {
   "cell_type": "code",
   "execution_count": 3,
   "id": "31c17b7c",
   "metadata": {},
   "outputs": [
    {
     "data": {
      "text/html": [
       "<script id=\"myVizzu_494f5e6\">\n",
       "    let display_494f5e6 = myVizzu_494f5e6.parentNode.parentNode.style.display;\n",
       "    myVizzu_494f5e6.parentNode.parentNode.style.display = \"none\";\n",
       "    chart_7088fbc = chart_7088fbc.then(chart => {\n",
       "        if (myVizzu_7088fbc.parentNode && myVizzu_7088fbc.parentNode.parentNode) {\n",
       "            myVizzu_7088fbc.parentNode.parentNode.style.display = \"none\";\n",
       "        }\n",
       "        myVizzu_494f5e6.parentNode.parentNode.style.display = display_494f5e6;\n",
       "        myVizzu_494f5e6.parentNode.insertBefore(myVizzu_7088fbc, myVizzu_494f5e6);\n",
       "        return chart.animate(snapshot_eb403c6);\n",
       "    });\n",
       "</script>"
      ]
     },
     "metadata": {},
     "output_type": "display_data"
    },
    {
     "data": {
      "text/html": [
       "<script id=\"myVizzu_3175383\">\n",
       "    let display_3175383 = myVizzu_3175383.parentNode.parentNode.style.display;\n",
       "    myVizzu_3175383.parentNode.parentNode.style.display = \"none\";\n",
       "    chart_7088fbc = chart_7088fbc.then(chart => {\n",
       "        if (myVizzu_7088fbc.parentNode && myVizzu_7088fbc.parentNode.parentNode) {\n",
       "            myVizzu_7088fbc.parentNode.parentNode.style.display = \"none\";\n",
       "        }\n",
       "        myVizzu_3175383.parentNode.parentNode.style.display = display_3175383;\n",
       "        myVizzu_3175383.parentNode.insertBefore(myVizzu_7088fbc, myVizzu_3175383);\n",
       "        return chart.animate({\"config\": {\"title\": \"Custom animation settings for specific groups\"}});\n",
       "    });\n",
       "</script>"
      ]
     },
     "metadata": {},
     "output_type": "display_data"
    },
    {
     "data": {
      "text/html": [
       "<script id=\"myVizzu_677bb62\">\n",
       "    let display_677bb62 = myVizzu_677bb62.parentNode.parentNode.style.display;\n",
       "    myVizzu_677bb62.parentNode.parentNode.style.display = \"none\";\n",
       "    chart_7088fbc = chart_7088fbc.then(chart => {\n",
       "        if (myVizzu_7088fbc.parentNode && myVizzu_7088fbc.parentNode.parentNode) {\n",
       "            myVizzu_7088fbc.parentNode.parentNode.style.display = \"none\";\n",
       "        }\n",
       "        myVizzu_677bb62.parentNode.parentNode.style.display = display_677bb62;\n",
       "        myVizzu_677bb62.parentNode.insertBefore(myVizzu_7088fbc, myVizzu_677bb62);\n",
       "        return chart.animate({\"config\": {\"channels\": {\"y\": {\"detach\": \"Types\"}, \"x\": {\"attach\": \"Types\"}}}}, {\"y\": {\"duration\": 2, \"delay\": 2}, \"style\": {\"duration\": 2, \"delay\": 4}});\n",
       "    });\n",
       "</script>"
      ]
     },
     "metadata": {},
     "output_type": "display_data"
    },
    {
     "data": {
      "text/html": [
       "<script id=\"myVizzu_5eb01e9\">\n",
       "    myVizzu_5eb01e9.parentNode.parentNode.style.display = \"none\";\n",
       "    let snapshot_5eb01e9;\n",
       "    chart_7088fbc = chart_7088fbc.then(chart => {\n",
       "        snapshot_5eb01e9 = chart.store();\n",
       "        return chart;\n",
       "    });\n",
       "</script>"
      ]
     },
     "metadata": {},
     "output_type": "display_data"
    }
   ],
   "source": [
    "chart.animate(snapshot2)\n",
    "\n",
    "chart.animate(Config({\"title\": \"Custom animation settings for specific groups\"}))\n",
    "\n",
    "chart.animate(\n",
    "    Config({\n",
    "        \"channels\": {\n",
    "            \"y\": {\n",
    "                \"detach\": \"Types\"\n",
    "            }, \n",
    "            \"x\": {\n",
    "                \"attach\": \"Types\"\n",
    "            }\n",
    "        }\n",
    "    }),\n",
    "    y={\n",
    "        \"duration\": 2,\n",
    "        \"delay\": 2\n",
    "    },\n",
    "    style={\n",
    "        \"duration\": 2,\n",
    "        \"delay\": 4\n",
    "    }\n",
    ")\n",
    "\n",
    "snapshot3 = chart.store()"
   ]
  },
  {
   "cell_type": "markdown",
   "id": "0ea85836",
   "metadata": {},
   "source": [
    "This is an example of changing the settings for the whole animation at once."
   ]
  },
  {
   "cell_type": "code",
   "execution_count": 4,
   "id": "b835da76",
   "metadata": {},
   "outputs": [
    {
     "data": {
      "text/html": [
       "<script id=\"myVizzu_65aac7b\">\n",
       "    let display_65aac7b = myVizzu_65aac7b.parentNode.parentNode.style.display;\n",
       "    myVizzu_65aac7b.parentNode.parentNode.style.display = \"none\";\n",
       "    chart_7088fbc = chart_7088fbc.then(chart => {\n",
       "        if (myVizzu_7088fbc.parentNode && myVizzu_7088fbc.parentNode.parentNode) {\n",
       "            myVizzu_7088fbc.parentNode.parentNode.style.display = \"none\";\n",
       "        }\n",
       "        myVizzu_65aac7b.parentNode.parentNode.style.display = display_65aac7b;\n",
       "        myVizzu_65aac7b.parentNode.insertBefore(myVizzu_7088fbc, myVizzu_65aac7b);\n",
       "        return chart.animate(snapshot_5eb01e9);\n",
       "    });\n",
       "</script>"
      ]
     },
     "metadata": {},
     "output_type": "display_data"
    },
    {
     "data": {
      "text/html": [
       "<script id=\"myVizzu_3f1ff43\">\n",
       "    let display_3f1ff43 = myVizzu_3f1ff43.parentNode.parentNode.style.display;\n",
       "    myVizzu_3f1ff43.parentNode.parentNode.style.display = \"none\";\n",
       "    chart_7088fbc = chart_7088fbc.then(chart => {\n",
       "        if (myVizzu_7088fbc.parentNode && myVizzu_7088fbc.parentNode.parentNode) {\n",
       "            myVizzu_7088fbc.parentNode.parentNode.style.display = \"none\";\n",
       "        }\n",
       "        myVizzu_3f1ff43.parentNode.parentNode.style.display = display_3f1ff43;\n",
       "        myVizzu_3f1ff43.parentNode.insertBefore(myVizzu_7088fbc, myVizzu_3f1ff43);\n",
       "        return chart.animate({\"config\": {\"title\": \"Custom options for the whole animation\"}});\n",
       "    });\n",
       "</script>"
      ]
     },
     "metadata": {},
     "output_type": "display_data"
    },
    {
     "data": {
      "text/html": [
       "<script id=\"myVizzu_91ee46a\">\n",
       "    let display_91ee46a = myVizzu_91ee46a.parentNode.parentNode.style.display;\n",
       "    myVizzu_91ee46a.parentNode.parentNode.style.display = \"none\";\n",
       "    chart_7088fbc = chart_7088fbc.then(chart => {\n",
       "        if (myVizzu_7088fbc.parentNode && myVizzu_7088fbc.parentNode.parentNode) {\n",
       "            myVizzu_7088fbc.parentNode.parentNode.style.display = \"none\";\n",
       "        }\n",
       "        myVizzu_91ee46a.parentNode.parentNode.style.display = display_91ee46a;\n",
       "        myVizzu_91ee46a.parentNode.insertBefore(myVizzu_7088fbc, myVizzu_91ee46a);\n",
       "        return chart.animate({\"config\": {\"channels\": {\"x\": {\"detach\": \"Types\"}, \"y\": {\"attach\": \"Types\"}}}}, {\"duration\": 1, \"easing\": \"linear\"});\n",
       "    });\n",
       "</script>"
      ]
     },
     "metadata": {},
     "output_type": "display_data"
    },
    {
     "data": {
      "text/html": [
       "<script id=\"myVizzu_318d59b\">\n",
       "    myVizzu_318d59b.parentNode.parentNode.style.display = \"none\";\n",
       "    let snapshot_318d59b;\n",
       "    chart_7088fbc = chart_7088fbc.then(chart => {\n",
       "        snapshot_318d59b = chart.store();\n",
       "        return chart;\n",
       "    });\n",
       "</script>"
      ]
     },
     "metadata": {},
     "output_type": "display_data"
    }
   ],
   "source": [
    "chart.animate(snapshot3)\n",
    "\n",
    "chart.animate(Config({\"title\": \"Custom options for the whole animation\"}))\n",
    "\n",
    "chart.animate(\n",
    "    Config({\n",
    "        \"channels\": {\n",
    "            \"x\": {\n",
    "                \"detach\": \"Types\"\n",
    "            }, \n",
    "            \"y\": {\n",
    "                \"attach\": \"Types\"\n",
    "            }\n",
    "        }\n",
    "    }),\n",
    "    duration=1,\n",
    "    easing=\"linear\"\n",
    ")\n",
    "\n",
    "snapshot4 = chart.store()"
   ]
  },
  {
   "cell_type": "markdown",
   "id": "7397ac85",
   "metadata": {},
   "source": [
    "When the two settings are combined, Vizzu will use the general animation options and spread the unique settings for specific groups proportionally. This is why you can see the same animation as two steps before but happening much quicker since the duration of the whole animation is set to 1 second."
   ]
  },
  {
   "cell_type": "code",
   "execution_count": 5,
   "id": "b9fe93a3",
   "metadata": {},
   "outputs": [
    {
     "data": {
      "text/html": [
       "<script id=\"myVizzu_bd28f96\">\n",
       "    let display_bd28f96 = myVizzu_bd28f96.parentNode.parentNode.style.display;\n",
       "    myVizzu_bd28f96.parentNode.parentNode.style.display = \"none\";\n",
       "    chart_7088fbc = chart_7088fbc.then(chart => {\n",
       "        if (myVizzu_7088fbc.parentNode && myVizzu_7088fbc.parentNode.parentNode) {\n",
       "            myVizzu_7088fbc.parentNode.parentNode.style.display = \"none\";\n",
       "        }\n",
       "        myVizzu_bd28f96.parentNode.parentNode.style.display = display_bd28f96;\n",
       "        myVizzu_bd28f96.parentNode.insertBefore(myVizzu_7088fbc, myVizzu_bd28f96);\n",
       "        return chart.animate(snapshot_318d59b);\n",
       "    });\n",
       "</script>"
      ]
     },
     "metadata": {},
     "output_type": "display_data"
    },
    {
     "data": {
      "text/html": [
       "<script id=\"myVizzu_2e1c45a\">\n",
       "    let display_2e1c45a = myVizzu_2e1c45a.parentNode.parentNode.style.display;\n",
       "    myVizzu_2e1c45a.parentNode.parentNode.style.display = \"none\";\n",
       "    chart_7088fbc = chart_7088fbc.then(chart => {\n",
       "        if (myVizzu_7088fbc.parentNode && myVizzu_7088fbc.parentNode.parentNode) {\n",
       "            myVizzu_7088fbc.parentNode.parentNode.style.display = \"none\";\n",
       "        }\n",
       "        myVizzu_2e1c45a.parentNode.parentNode.style.display = display_2e1c45a;\n",
       "        myVizzu_2e1c45a.parentNode.insertBefore(myVizzu_7088fbc, myVizzu_2e1c45a);\n",
       "        return chart.animate({\"config\": {\"title\": \"Custom settings for both\"}});\n",
       "    });\n",
       "</script>"
      ]
     },
     "metadata": {},
     "output_type": "display_data"
    },
    {
     "data": {
      "text/html": [
       "<script id=\"myVizzu_c2f5167\">\n",
       "    let display_c2f5167 = myVizzu_c2f5167.parentNode.parentNode.style.display;\n",
       "    myVizzu_c2f5167.parentNode.parentNode.style.display = \"none\";\n",
       "    chart_7088fbc = chart_7088fbc.then(chart => {\n",
       "        if (myVizzu_7088fbc.parentNode && myVizzu_7088fbc.parentNode.parentNode) {\n",
       "            myVizzu_7088fbc.parentNode.parentNode.style.display = \"none\";\n",
       "        }\n",
       "        myVizzu_c2f5167.parentNode.parentNode.style.display = display_c2f5167;\n",
       "        myVizzu_c2f5167.parentNode.insertBefore(myVizzu_7088fbc, myVizzu_c2f5167);\n",
       "        return chart.animate({\"config\": {\"channels\": {\"y\": {\"detach\": \"Types\"}, \"x\": {\"attach\": \"Types\"}}}}, {\"duration\": 1, \"easing\": \"linear\", \"y\": {\"duration\": 2, \"delay\": 2}, \"style\": {\"duration\": 2, \"delay\": 4}});\n",
       "    });\n",
       "</script>"
      ]
     },
     "metadata": {},
     "output_type": "display_data"
    }
   ],
   "source": [
    "chart.animate(snapshot4)\n",
    "\n",
    "chart.animate(Config({\"title\": \"Custom settings for both\"}))\n",
    "\n",
    "chart.animate(\n",
    "    Config({\n",
    "        \"channels\": {\n",
    "            \"y\": {\n",
    "                \"detach\": \"Types\"\n",
    "            }, \n",
    "            \"x\": {\n",
    "                \"attach\": \"Types\"\n",
    "            }\n",
    "        }\n",
    "    }),\n",
    "    duration=1,\n",
    "    easing=\"linear\",\n",
    "    y={\n",
    "        \"duration\": 2,\n",
    "        \"delay\": 2\n",
    "    },\n",
    "    style={\n",
    "        \"duration\": 2,\n",
    "        \"delay\": 4\n",
    "    }\n",
    ")"
   ]
  }
 ],
 "metadata": {
  "kernelspec": {
   "display_name": "Python 3 (ipykernel)",
   "language": "python",
   "name": "python3"
  },
  "language_info": {
   "codemirror_mode": {
    "name": "ipython",
    "version": 3
   },
   "file_extension": ".py",
   "mimetype": "text/x-python",
   "name": "python",
   "nbconvert_exporter": "python",
   "pygments_lexer": "ipython3",
   "version": "3.8.10"
  }
 },
 "nbformat": 4,
 "nbformat_minor": 5
}
