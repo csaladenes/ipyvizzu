{
 "cells": [
  {
   "cell_type": "markdown",
   "id": "8518ab11",
   "metadata": {},
   "source": [
    "## Geometry\n",
    "\n",
    "In Vizzu you can set the geometric elements used to represent your data by the geometry property within the config object.\n",
    "\n",
    "The first step is switching the geometry to area.\n",
    "\n",
    "The second step is drawing a line chart.\n",
    "\n",
    "The third step is switching the geometry to circle. This setting is the most useful when used together with the size channel, as shown in the next chapter of the tutorial.\n",
    "\n",
    "The last step is switching the geometry to rectangle. Rectangle geometry is the default setting in Vizzu, used for most common charts like bar and column charts."
   ]
  },
  {
   "cell_type": "code",
   "execution_count": 1,
   "id": "b0552636",
   "metadata": {},
   "outputs": [
    {
     "data": {
      "text/html": [
       "<script id=\"myVizzu_40cf366\">\n",
       "    myVizzu_40cf366.parentNode.parentNode.style.display = \"none\";\n",
       "    let myVizzu_88bcd0c = document.createElement(\"div\");\n",
       "    myVizzu_88bcd0c.style.cssText = \"width: 800px; height: 480px;\";\n",
       "    let chart_88bcd0c = import(\"https://cdn.jsdelivr.net/npm/vizzu@~0.4.0/dist/vizzu.min.js\").then(Vizzu => new Vizzu.default(myVizzu_88bcd0c).initializing);\n",
       "</script>"
      ]
     },
     "metadata": {},
     "output_type": "display_data"
    },
    {
     "data": {
      "text/html": [
       "<script id=\"myVizzu_ded876c\">\n",
       "    let display_ded876c = myVizzu_ded876c.parentNode.parentNode.style.display;\n",
       "    myVizzu_ded876c.parentNode.parentNode.style.display = \"none\";\n",
       "    chart_88bcd0c = chart_88bcd0c.then(chart => {\n",
       "        if (myVizzu_88bcd0c.parentNode && myVizzu_88bcd0c.parentNode.parentNode) {\n",
       "            myVizzu_88bcd0c.parentNode.parentNode.style.display = \"none\";\n",
       "        }\n",
       "        myVizzu_ded876c.parentNode.parentNode.style.display = display_ded876c;\n",
       "        myVizzu_ded876c.parentNode.insertBefore(myVizzu_88bcd0c, myVizzu_ded876c);\n",
       "        return chart.animate({\"data\": {\"dimensions\": [{\"name\": \"Genres\", \"values\": [\"Pop\", \"Rock\", \"Jazz\", \"Metal\"]}, {\"name\": \"Types\", \"values\": [\"Hard\", \"Smooth\", \"Experimental\"]}], \"measures\": [{\"name\": \"Popularity\", \"values\": [[114, 96, 78, 52], [56, 36, 174, 121], [127, 83, 94, 58]]}]}});\n",
       "    });\n",
       "</script>"
      ]
     },
     "metadata": {},
     "output_type": "display_data"
    },
    {
     "data": {
      "text/html": [
       "<script id=\"myVizzu_92d1b43\">\n",
       "    let display_92d1b43 = myVizzu_92d1b43.parentNode.parentNode.style.display;\n",
       "    myVizzu_92d1b43.parentNode.parentNode.style.display = \"none\";\n",
       "    chart_88bcd0c = chart_88bcd0c.then(chart => {\n",
       "        if (myVizzu_88bcd0c.parentNode && myVizzu_88bcd0c.parentNode.parentNode) {\n",
       "            myVizzu_88bcd0c.parentNode.parentNode.style.display = \"none\";\n",
       "        }\n",
       "        myVizzu_92d1b43.parentNode.parentNode.style.display = display_92d1b43;\n",
       "        myVizzu_92d1b43.parentNode.insertBefore(myVizzu_88bcd0c, myVizzu_92d1b43);\n",
       "        return chart.animate({\"config\": {\"channels\": {\"y\": {\"set\": \"Popularity\"}, \"x\": {\"set\": \"Genres\"}}}});\n",
       "    });\n",
       "</script>"
      ]
     },
     "metadata": {},
     "output_type": "display_data"
    },
    {
     "data": {
      "text/html": [
       "<script id=\"myVizzu_8b92f33\">\n",
       "    let display_8b92f33 = myVizzu_8b92f33.parentNode.parentNode.style.display;\n",
       "    myVizzu_8b92f33.parentNode.parentNode.style.display = \"none\";\n",
       "    chart_88bcd0c = chart_88bcd0c.then(chart => {\n",
       "        if (myVizzu_88bcd0c.parentNode && myVizzu_88bcd0c.parentNode.parentNode) {\n",
       "            myVizzu_88bcd0c.parentNode.parentNode.style.display = \"none\";\n",
       "        }\n",
       "        myVizzu_8b92f33.parentNode.parentNode.style.display = display_8b92f33;\n",
       "        myVizzu_8b92f33.parentNode.insertBefore(myVizzu_88bcd0c, myVizzu_8b92f33);\n",
       "        return chart.animate({\"config\": {\"title\": \"Geometry: area\"}});\n",
       "    });\n",
       "</script>"
      ]
     },
     "metadata": {},
     "output_type": "display_data"
    },
    {
     "data": {
      "text/html": [
       "<script id=\"myVizzu_a9b28b3\">\n",
       "    let display_a9b28b3 = myVizzu_a9b28b3.parentNode.parentNode.style.display;\n",
       "    myVizzu_a9b28b3.parentNode.parentNode.style.display = \"none\";\n",
       "    chart_88bcd0c = chart_88bcd0c.then(chart => {\n",
       "        if (myVizzu_88bcd0c.parentNode && myVizzu_88bcd0c.parentNode.parentNode) {\n",
       "            myVizzu_88bcd0c.parentNode.parentNode.style.display = \"none\";\n",
       "        }\n",
       "        myVizzu_a9b28b3.parentNode.parentNode.style.display = display_a9b28b3;\n",
       "        myVizzu_a9b28b3.parentNode.insertBefore(myVizzu_88bcd0c, myVizzu_a9b28b3);\n",
       "        return chart.animate({\"config\": {\"geometry\": \"area\"}});\n",
       "    });\n",
       "</script>"
      ]
     },
     "metadata": {},
     "output_type": "display_data"
    },
    {
     "data": {
      "text/html": [
       "<script id=\"myVizzu_87032f1\">\n",
       "    let display_87032f1 = myVizzu_87032f1.parentNode.parentNode.style.display;\n",
       "    myVizzu_87032f1.parentNode.parentNode.style.display = \"none\";\n",
       "    chart_88bcd0c = chart_88bcd0c.then(chart => {\n",
       "        if (myVizzu_88bcd0c.parentNode && myVizzu_88bcd0c.parentNode.parentNode) {\n",
       "            myVizzu_88bcd0c.parentNode.parentNode.style.display = \"none\";\n",
       "        }\n",
       "        myVizzu_87032f1.parentNode.parentNode.style.display = display_87032f1;\n",
       "        myVizzu_87032f1.parentNode.insertBefore(myVizzu_88bcd0c, myVizzu_87032f1);\n",
       "        return chart.animate({\"config\": {\"title\": \"Geometry: line\"}});\n",
       "    });\n",
       "</script>"
      ]
     },
     "metadata": {},
     "output_type": "display_data"
    },
    {
     "data": {
      "text/html": [
       "<script id=\"myVizzu_c53152c\">\n",
       "    let display_c53152c = myVizzu_c53152c.parentNode.parentNode.style.display;\n",
       "    myVizzu_c53152c.parentNode.parentNode.style.display = \"none\";\n",
       "    chart_88bcd0c = chart_88bcd0c.then(chart => {\n",
       "        if (myVizzu_88bcd0c.parentNode && myVizzu_88bcd0c.parentNode.parentNode) {\n",
       "            myVizzu_88bcd0c.parentNode.parentNode.style.display = \"none\";\n",
       "        }\n",
       "        myVizzu_c53152c.parentNode.parentNode.style.display = display_c53152c;\n",
       "        myVizzu_c53152c.parentNode.insertBefore(myVizzu_88bcd0c, myVizzu_c53152c);\n",
       "        return chart.animate({\"config\": {\"geometry\": \"line\"}});\n",
       "    });\n",
       "</script>"
      ]
     },
     "metadata": {},
     "output_type": "display_data"
    },
    {
     "data": {
      "text/html": [
       "<script id=\"myVizzu_f8a52dc\">\n",
       "    let display_f8a52dc = myVizzu_f8a52dc.parentNode.parentNode.style.display;\n",
       "    myVizzu_f8a52dc.parentNode.parentNode.style.display = \"none\";\n",
       "    chart_88bcd0c = chart_88bcd0c.then(chart => {\n",
       "        if (myVizzu_88bcd0c.parentNode && myVizzu_88bcd0c.parentNode.parentNode) {\n",
       "            myVizzu_88bcd0c.parentNode.parentNode.style.display = \"none\";\n",
       "        }\n",
       "        myVizzu_f8a52dc.parentNode.parentNode.style.display = display_f8a52dc;\n",
       "        myVizzu_f8a52dc.parentNode.insertBefore(myVizzu_88bcd0c, myVizzu_f8a52dc);\n",
       "        return chart.animate({\"config\": {\"title\": \"Geometry: circle\"}});\n",
       "    });\n",
       "</script>"
      ]
     },
     "metadata": {},
     "output_type": "display_data"
    },
    {
     "data": {
      "text/html": [
       "<script id=\"myVizzu_53ac0bf\">\n",
       "    let display_53ac0bf = myVizzu_53ac0bf.parentNode.parentNode.style.display;\n",
       "    myVizzu_53ac0bf.parentNode.parentNode.style.display = \"none\";\n",
       "    chart_88bcd0c = chart_88bcd0c.then(chart => {\n",
       "        if (myVizzu_88bcd0c.parentNode && myVizzu_88bcd0c.parentNode.parentNode) {\n",
       "            myVizzu_88bcd0c.parentNode.parentNode.style.display = \"none\";\n",
       "        }\n",
       "        myVizzu_53ac0bf.parentNode.parentNode.style.display = display_53ac0bf;\n",
       "        myVizzu_53ac0bf.parentNode.insertBefore(myVizzu_88bcd0c, myVizzu_53ac0bf);\n",
       "        return chart.animate({\"config\": {\"geometry\": \"circle\"}});\n",
       "    });\n",
       "</script>"
      ]
     },
     "metadata": {},
     "output_type": "display_data"
    },
    {
     "data": {
      "text/html": [
       "<script id=\"myVizzu_dcb421b\">\n",
       "    let display_dcb421b = myVizzu_dcb421b.parentNode.parentNode.style.display;\n",
       "    myVizzu_dcb421b.parentNode.parentNode.style.display = \"none\";\n",
       "    chart_88bcd0c = chart_88bcd0c.then(chart => {\n",
       "        if (myVizzu_88bcd0c.parentNode && myVizzu_88bcd0c.parentNode.parentNode) {\n",
       "            myVizzu_88bcd0c.parentNode.parentNode.style.display = \"none\";\n",
       "        }\n",
       "        myVizzu_dcb421b.parentNode.parentNode.style.display = display_dcb421b;\n",
       "        myVizzu_dcb421b.parentNode.insertBefore(myVizzu_88bcd0c, myVizzu_dcb421b);\n",
       "        return chart.animate({\"config\": {\"title\": \"Geometry: rectangle - default\"}});\n",
       "    });\n",
       "</script>"
      ]
     },
     "metadata": {},
     "output_type": "display_data"
    },
    {
     "data": {
      "text/html": [
       "<script id=\"myVizzu_0e01063\">\n",
       "    let display_0e01063 = myVizzu_0e01063.parentNode.parentNode.style.display;\n",
       "    myVizzu_0e01063.parentNode.parentNode.style.display = \"none\";\n",
       "    chart_88bcd0c = chart_88bcd0c.then(chart => {\n",
       "        if (myVizzu_88bcd0c.parentNode && myVizzu_88bcd0c.parentNode.parentNode) {\n",
       "            myVizzu_88bcd0c.parentNode.parentNode.style.display = \"none\";\n",
       "        }\n",
       "        myVizzu_0e01063.parentNode.parentNode.style.display = display_0e01063;\n",
       "        myVizzu_0e01063.parentNode.insertBefore(myVizzu_88bcd0c, myVizzu_0e01063);\n",
       "        return chart.animate({\"config\": {\"geometry\": \"rectangle\"}});\n",
       "    });\n",
       "</script>"
      ]
     },
     "metadata": {},
     "output_type": "display_data"
    }
   ],
   "source": [
    "from ipyvizzu import Chart, Data, Config\n",
    "\n",
    "chart = Chart()\n",
    "\n",
    "data = Data.from_json(\"../data/music_example_data.json\")\n",
    "\n",
    "chart.animate(data)\n",
    "\n",
    "chart.animate(Config({\n",
    "    \"channels\": {\n",
    "        \"y\": {\n",
    "            \"set\": \"Popularity\"\n",
    "        }, \n",
    "        \"x\": {\n",
    "            \"set\": \"Genres\"\n",
    "        }\n",
    "    }\n",
    "}))\n",
    "\n",
    "chart.animate(Config({\n",
    "    \"title\": \"Geometry: area\"\n",
    "}))\n",
    "\n",
    "chart.animate(Config({\n",
    "    \"geometry\": \"area\"\n",
    "}))\n",
    "\n",
    "chart.animate(Config({\n",
    "    \"title\": \"Geometry: line\"\n",
    "}))\n",
    "\n",
    "chart.animate(Config({\n",
    "    \"geometry\": \"line\"\n",
    "}))\n",
    "\n",
    "chart.animate(Config({\n",
    "    \"title\": \"Geometry: circle\"\n",
    "}))\n",
    "\n",
    "chart.animate(Config({\n",
    "    \"geometry\": \"circle\"\n",
    "}))\n",
    "\n",
    "chart.animate(Config({\n",
    "    \"title\": \"Geometry: rectangle - default\"\n",
    "}))\n",
    "\n",
    "chart.animate(Config({\n",
    "    \"geometry\": \"rectangle\"\n",
    "}))"
   ]
  }
 ],
 "metadata": {
  "kernelspec": {
   "display_name": "Python 3 (ipykernel)",
   "language": "python",
   "name": "python3"
  },
  "language_info": {
   "codemirror_mode": {
    "name": "ipython",
    "version": 3
   },
   "file_extension": ".py",
   "mimetype": "text/x-python",
   "name": "python",
   "nbconvert_exporter": "python",
   "pygments_lexer": "ipython3",
   "version": "3.8.10"
  }
 },
 "nbformat": 4,
 "nbformat_minor": 5
}
