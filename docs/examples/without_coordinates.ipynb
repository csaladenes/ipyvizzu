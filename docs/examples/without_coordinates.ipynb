{
 "cells": [
  {
   "cell_type": "markdown",
   "id": "59cd2f9b",
   "metadata": {},
   "source": [
    "## Without coordinates & noop channel\n",
    "\n",
    "Certain chart types have neither measures nor dimensions on the axes such as treemaps and bubble charts. This is a case when the noop channel comes in handy for grouping and stacking elements in these kinds of charts.\n",
    "\n",
    "To get to a treemap, we have to detach all dimensions and the measure from the axes and put two of them on the size channel, whereas the other dimension is still on the color channel. Since the same dimensions are used in both cases Vizzu will be able to animate between these states."
   ]
  },
  {
   "cell_type": "code",
   "execution_count": 1,
   "id": "1c575574",
   "metadata": {},
   "outputs": [
    {
     "data": {
      "text/html": [
       "<script id=\"myVizzu_f60fc58\">\n",
       "    myVizzu_f60fc58.parentNode.parentNode.style.display = \"none\";\n",
       "    let myVizzu_7baec5d = document.createElement(\"div\");\n",
       "    myVizzu_7baec5d.style.cssText = \"width: 800px; height: 480px;\";\n",
       "    let chart_7baec5d = import(\"https://cdn.jsdelivr.net/npm/vizzu@~0.4.0/dist/vizzu.min.js\").then(Vizzu => new Vizzu.default(myVizzu_7baec5d).initializing);\n",
       "</script>"
      ]
     },
     "metadata": {},
     "output_type": "display_data"
    },
    {
     "data": {
      "text/html": [
       "<script id=\"myVizzu_50e93a8\">\n",
       "    let display_50e93a8 = myVizzu_50e93a8.parentNode.parentNode.style.display;\n",
       "    myVizzu_50e93a8.parentNode.parentNode.style.display = \"none\";\n",
       "    chart_7baec5d = chart_7baec5d.then(chart => {\n",
       "        if (myVizzu_7baec5d.parentNode && myVizzu_7baec5d.parentNode.parentNode) {\n",
       "            myVizzu_7baec5d.parentNode.parentNode.style.display = \"none\";\n",
       "        }\n",
       "        myVizzu_50e93a8.parentNode.parentNode.style.display = display_50e93a8;\n",
       "        myVizzu_50e93a8.parentNode.insertBefore(myVizzu_7baec5d, myVizzu_50e93a8);\n",
       "        return chart.animate({\"data\": {\"dimensions\": [{\"name\": \"Genres\", \"values\": [\"Pop\", \"Rock\", \"Jazz\", \"Metal\"]}, {\"name\": \"Types\", \"values\": [\"Hard\", \"Smooth\", \"Experimental\"]}], \"measures\": [{\"name\": \"Popularity\", \"values\": [[114, 96, 78, 52], [56, 36, 174, 121], [127, 83, 94, 58]]}]}});\n",
       "    });\n",
       "</script>"
      ]
     },
     "metadata": {},
     "output_type": "display_data"
    },
    {
     "data": {
      "text/html": [
       "<script id=\"myVizzu_5d2e321\">\n",
       "    let display_5d2e321 = myVizzu_5d2e321.parentNode.parentNode.style.display;\n",
       "    myVizzu_5d2e321.parentNode.parentNode.style.display = \"none\";\n",
       "    chart_7baec5d = chart_7baec5d.then(chart => {\n",
       "        if (myVizzu_7baec5d.parentNode && myVizzu_7baec5d.parentNode.parentNode) {\n",
       "            myVizzu_7baec5d.parentNode.parentNode.style.display = \"none\";\n",
       "        }\n",
       "        myVizzu_5d2e321.parentNode.parentNode.style.display = display_5d2e321;\n",
       "        myVizzu_5d2e321.parentNode.insertBefore(myVizzu_7baec5d, myVizzu_5d2e321);\n",
       "        return chart.animate({\"config\": {\"channels\": {\"y\": {\"set\": [\"Types\", \"Popularity\"]}, \"x\": {\"set\": \"Genres\"}, \"label\": {\"attach\": \"Popularity\"}}, \"color\": {\"set\": \"Types\"}, \"title\": \"Treemap\"}});\n",
       "    });\n",
       "</script>"
      ]
     },
     "metadata": {},
     "output_type": "display_data"
    },
    {
     "data": {
      "text/html": [
       "<script id=\"myVizzu_58bca2b\">\n",
       "    let display_58bca2b = myVizzu_58bca2b.parentNode.parentNode.style.display;\n",
       "    myVizzu_58bca2b.parentNode.parentNode.style.display = \"none\";\n",
       "    chart_7baec5d = chart_7baec5d.then(chart => {\n",
       "        if (myVizzu_7baec5d.parentNode && myVizzu_7baec5d.parentNode.parentNode) {\n",
       "            myVizzu_7baec5d.parentNode.parentNode.style.display = \"none\";\n",
       "        }\n",
       "        myVizzu_58bca2b.parentNode.parentNode.style.display = display_58bca2b;\n",
       "        myVizzu_58bca2b.parentNode.insertBefore(myVizzu_7baec5d, myVizzu_58bca2b);\n",
       "        return chart.animate({\"config\": {\"channels\": {\"y\": {\"set\": null}, \"x\": {\"set\": null}, \"size\": {\"attach\": [\"Genres\", \"Popularity\"]}}}});\n",
       "    });\n",
       "</script>"
      ]
     },
     "metadata": {},
     "output_type": "display_data"
    },
    {
     "data": {
      "text/html": [
       "<script id=\"myVizzu_7725a74\">\n",
       "    myVizzu_7725a74.parentNode.parentNode.style.display = \"none\";\n",
       "    let snapshot_7725a74;\n",
       "    chart_7baec5d = chart_7baec5d.then(chart => {\n",
       "        snapshot_7725a74 = chart.store();\n",
       "        return chart;\n",
       "    });\n",
       "</script>"
      ]
     },
     "metadata": {},
     "output_type": "display_data"
    }
   ],
   "source": [
    "from ipyvizzu import Chart, Data, Config\n",
    "\n",
    "chart = Chart()\n",
    "\n",
    "data = Data.from_json(\"../data/music_example_data.json\")\n",
    "\n",
    "chart.animate(data)\n",
    "\n",
    "chart.animate(Config({\n",
    "    \"channels\": {\n",
    "        \"y\": {\n",
    "            \"set\": [\"Types\", \"Popularity\"]\n",
    "        },\n",
    "        \"x\": {\n",
    "            \"set\": \"Genres\"\n",
    "        },\n",
    "        \"label\": {\n",
    "            \"attach\": \"Popularity\"\n",
    "        }\n",
    "    },\n",
    "    \"color\": {\n",
    "        \"set\": \"Types\"\n",
    "    },\n",
    "    \"title\": \"Treemap\"\n",
    "}))\n",
    "\n",
    "chart.animate(Config({\n",
    "    \"channels\": {\n",
    "        \"y\": {\n",
    "            \"set\": None,\n",
    "        },\n",
    "        \"x\": {\n",
    "            \"set\": None,\n",
    "        },\n",
    "        \"size\": {\n",
    "            \"attach\": [\"Genres\", \"Popularity\"],\n",
    "        }\n",
    "    }\n",
    "}))\n",
    "\n",
    "snapshot1 = chart.store()"
   ]
  },
  {
   "cell_type": "markdown",
   "id": "e0bdcefc",
   "metadata": {},
   "source": [
    "Getting from a treemap to a bubble chart is simply by changing the geometry to circle. This bubble chart is stacked by the Type dimension that is on the size channel - this is why the bubbles are in separate, small groups."
   ]
  },
  {
   "cell_type": "code",
   "execution_count": 2,
   "id": "3cdf36b5",
   "metadata": {},
   "outputs": [
    {
     "data": {
      "text/html": [
       "<script id=\"myVizzu_a5cc5bf\">\n",
       "    let display_a5cc5bf = myVizzu_a5cc5bf.parentNode.parentNode.style.display;\n",
       "    myVizzu_a5cc5bf.parentNode.parentNode.style.display = \"none\";\n",
       "    chart_7baec5d = chart_7baec5d.then(chart => {\n",
       "        if (myVizzu_7baec5d.parentNode && myVizzu_7baec5d.parentNode.parentNode) {\n",
       "            myVizzu_7baec5d.parentNode.parentNode.style.display = \"none\";\n",
       "        }\n",
       "        myVizzu_a5cc5bf.parentNode.parentNode.style.display = display_a5cc5bf;\n",
       "        myVizzu_a5cc5bf.parentNode.insertBefore(myVizzu_7baec5d, myVizzu_a5cc5bf);\n",
       "        return chart.animate(snapshot_7725a74);\n",
       "    });\n",
       "</script>"
      ]
     },
     "metadata": {},
     "output_type": "display_data"
    },
    {
     "data": {
      "text/html": [
       "<script id=\"myVizzu_d229279\">\n",
       "    let display_d229279 = myVizzu_d229279.parentNode.parentNode.style.display;\n",
       "    myVizzu_d229279.parentNode.parentNode.style.display = \"none\";\n",
       "    chart_7baec5d = chart_7baec5d.then(chart => {\n",
       "        if (myVizzu_7baec5d.parentNode && myVizzu_7baec5d.parentNode.parentNode) {\n",
       "            myVizzu_7baec5d.parentNode.parentNode.style.display = \"none\";\n",
       "        }\n",
       "        myVizzu_d229279.parentNode.parentNode.style.display = display_d229279;\n",
       "        myVizzu_d229279.parentNode.insertBefore(myVizzu_7baec5d, myVizzu_d229279);\n",
       "        return chart.animate({\"config\": {\"title\": \"Bubble chart - stacked\"}});\n",
       "    });\n",
       "</script>"
      ]
     },
     "metadata": {},
     "output_type": "display_data"
    },
    {
     "data": {
      "text/html": [
       "<script id=\"myVizzu_cc01c27\">\n",
       "    let display_cc01c27 = myVizzu_cc01c27.parentNode.parentNode.style.display;\n",
       "    myVizzu_cc01c27.parentNode.parentNode.style.display = \"none\";\n",
       "    chart_7baec5d = chart_7baec5d.then(chart => {\n",
       "        if (myVizzu_7baec5d.parentNode && myVizzu_7baec5d.parentNode.parentNode) {\n",
       "            myVizzu_7baec5d.parentNode.parentNode.style.display = \"none\";\n",
       "        }\n",
       "        myVizzu_cc01c27.parentNode.parentNode.style.display = display_cc01c27;\n",
       "        myVizzu_cc01c27.parentNode.insertBefore(myVizzu_7baec5d, myVizzu_cc01c27);\n",
       "        return chart.animate({\"config\": {\"geometry\": \"circle\"}});\n",
       "    });\n",
       "</script>"
      ]
     },
     "metadata": {},
     "output_type": "display_data"
    },
    {
     "data": {
      "text/html": [
       "<script id=\"myVizzu_48d437d\">\n",
       "    myVizzu_48d437d.parentNode.parentNode.style.display = \"none\";\n",
       "    let snapshot_48d437d;\n",
       "    chart_7baec5d = chart_7baec5d.then(chart => {\n",
       "        snapshot_48d437d = chart.store();\n",
       "        return chart;\n",
       "    });\n",
       "</script>"
      ]
     },
     "metadata": {},
     "output_type": "display_data"
    }
   ],
   "source": [
    "chart.animate(snapshot1)\n",
    "\n",
    "chart.animate(Config({\"title\": \"Bubble chart - stacked\"}))\n",
    "\n",
    "chart.animate(Config({\n",
    "    \"geometry\": \"circle\",\n",
    "}))\n",
    "\n",
    "snapshot2 = chart.store()"
   ]
  },
  {
   "cell_type": "markdown",
   "id": "f57e6095",
   "metadata": {},
   "source": [
    "In order to show all bubbles as one group, we use the noop (no operations) channel for the Genres dimension. The noop channel enables us to have a dimension on the chart, that doesn’t affect any parameter of the elements, only their count."
   ]
  },
  {
   "cell_type": "code",
   "execution_count": 3,
   "id": "4fc62e64",
   "metadata": {},
   "outputs": [
    {
     "data": {
      "text/html": [
       "<script id=\"myVizzu_13b7a2a\">\n",
       "    let display_13b7a2a = myVizzu_13b7a2a.parentNode.parentNode.style.display;\n",
       "    myVizzu_13b7a2a.parentNode.parentNode.style.display = \"none\";\n",
       "    chart_7baec5d = chart_7baec5d.then(chart => {\n",
       "        if (myVizzu_7baec5d.parentNode && myVizzu_7baec5d.parentNode.parentNode) {\n",
       "            myVizzu_7baec5d.parentNode.parentNode.style.display = \"none\";\n",
       "        }\n",
       "        myVizzu_13b7a2a.parentNode.parentNode.style.display = display_13b7a2a;\n",
       "        myVizzu_13b7a2a.parentNode.insertBefore(myVizzu_7baec5d, myVizzu_13b7a2a);\n",
       "        return chart.animate(snapshot_48d437d);\n",
       "    });\n",
       "</script>"
      ]
     },
     "metadata": {},
     "output_type": "display_data"
    },
    {
     "data": {
      "text/html": [
       "<script id=\"myVizzu_ce33cc1\">\n",
       "    let display_ce33cc1 = myVizzu_ce33cc1.parentNode.parentNode.style.display;\n",
       "    myVizzu_ce33cc1.parentNode.parentNode.style.display = \"none\";\n",
       "    chart_7baec5d = chart_7baec5d.then(chart => {\n",
       "        if (myVizzu_7baec5d.parentNode && myVizzu_7baec5d.parentNode.parentNode) {\n",
       "            myVizzu_7baec5d.parentNode.parentNode.style.display = \"none\";\n",
       "        }\n",
       "        myVizzu_ce33cc1.parentNode.parentNode.style.display = display_ce33cc1;\n",
       "        myVizzu_ce33cc1.parentNode.insertBefore(myVizzu_7baec5d, myVizzu_ce33cc1);\n",
       "        return chart.animate({\"config\": {\"title\": \"Bubble chart - grouped - using the noop channel\"}});\n",
       "    });\n",
       "</script>"
      ]
     },
     "metadata": {},
     "output_type": "display_data"
    },
    {
     "data": {
      "text/html": [
       "<script id=\"myVizzu_136cc8a\">\n",
       "    let display_136cc8a = myVizzu_136cc8a.parentNode.parentNode.style.display;\n",
       "    myVizzu_136cc8a.parentNode.parentNode.style.display = \"none\";\n",
       "    chart_7baec5d = chart_7baec5d.then(chart => {\n",
       "        if (myVizzu_7baec5d.parentNode && myVizzu_7baec5d.parentNode.parentNode) {\n",
       "            myVizzu_7baec5d.parentNode.parentNode.style.display = \"none\";\n",
       "        }\n",
       "        myVizzu_136cc8a.parentNode.parentNode.style.display = display_136cc8a;\n",
       "        myVizzu_136cc8a.parentNode.insertBefore(myVizzu_7baec5d, myVizzu_136cc8a);\n",
       "        return chart.animate({\"config\": {\"channels\": {\"size\": {\"detach\": \"Genres\"}, \"noop\": {\"set\": \"Genres\"}}}});\n",
       "    });\n",
       "</script>"
      ]
     },
     "metadata": {},
     "output_type": "display_data"
    }
   ],
   "source": [
    "chart.animate(snapshot2)\n",
    "\n",
    "chart.animate(Config({\"title\": \"Bubble chart - grouped - using the noop channel\"}))\n",
    "\n",
    "chart.animate(Config({\n",
    "    \"channels\": {\n",
    "        \"size\": {\n",
    "            \"detach\": 'Genres'\n",
    "        },\n",
    "        \"noop\": {\n",
    "            \"set\": 'Genres'\n",
    "        }\n",
    "    }\n",
    "}))"
   ]
  }
 ],
 "metadata": {
  "kernelspec": {
   "display_name": "Python 3 (ipykernel)",
   "language": "python",
   "name": "python3"
  },
  "language_info": {
   "codemirror_mode": {
    "name": "ipython",
    "version": 3
   },
   "file_extension": ".py",
   "mimetype": "text/x-python",
   "name": "python",
   "nbconvert_exporter": "python",
   "pygments_lexer": "ipython3",
   "version": "3.8.10"
  }
 },
 "nbformat": 4,
 "nbformat_minor": 5
}
