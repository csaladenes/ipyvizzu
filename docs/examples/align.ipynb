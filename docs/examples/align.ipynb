{
 "cells": [
  {
   "cell_type": "markdown",
   "id": "454600ae",
   "metadata": {},
   "source": [
    "## Align & range\n",
    "\n",
    "Vizzu offers different options to align your chart elements and to set the range of values shown on the axes. Alignment can be used to create charts like a stream chart where the elements are vertically centered. A good example for using range is when you fix the y-axis so that it would not adapt to the data being shown.\n",
    "\n",
    "Centered alignment. The effect of this parameter depends on the orientation of the chart. For example, on a column chart, elements will be vertically centered, whereas on a bar chart, horizontally."
   ]
  },
  {
   "cell_type": "code",
   "execution_count": 1,
   "id": "5a6a5806",
   "metadata": {},
   "outputs": [
    {
     "data": {
      "text/html": [
       "<script id=\"myVizzu_73e2c26\">\n",
       "    myVizzu_73e2c26.parentNode.parentNode.style.display = \"none\";\n",
       "    let myVizzu_17407df = document.createElement(\"div\");\n",
       "    myVizzu_17407df.style.cssText = \"width: 800px; height: 480px;\";\n",
       "    let chart_17407df = import(\"https://cdn.jsdelivr.net/npm/vizzu@~0.4.0/dist/vizzu.min.js\").then(Vizzu => new Vizzu.default(myVizzu_17407df).initializing);\n",
       "</script>"
      ]
     },
     "metadata": {},
     "output_type": "display_data"
    },
    {
     "data": {
      "text/html": [
       "<script id=\"myVizzu_0007991\">\n",
       "    let display_0007991 = myVizzu_0007991.parentNode.parentNode.style.display;\n",
       "    myVizzu_0007991.parentNode.parentNode.style.display = \"none\";\n",
       "    chart_17407df = chart_17407df.then(chart => {\n",
       "        if (myVizzu_17407df.parentNode && myVizzu_17407df.parentNode.parentNode) {\n",
       "            myVizzu_17407df.parentNode.parentNode.style.display = \"none\";\n",
       "        }\n",
       "        myVizzu_0007991.parentNode.parentNode.style.display = display_0007991;\n",
       "        myVizzu_0007991.parentNode.insertBefore(myVizzu_17407df, myVizzu_0007991);\n",
       "        return chart.animate({\"data\": {\"dimensions\": [{\"name\": \"Genres\", \"values\": [\"Pop\", \"Rock\", \"Jazz\", \"Metal\"]}, {\"name\": \"Types\", \"values\": [\"Hard\", \"Smooth\", \"Experimental\"]}], \"measures\": [{\"name\": \"Popularity\", \"values\": [[114, 96, 78, 52], [56, 36, 174, 121], [127, 83, 94, 58]]}]}});\n",
       "    });\n",
       "</script>"
      ]
     },
     "metadata": {},
     "output_type": "display_data"
    },
    {
     "data": {
      "text/html": [
       "<script id=\"myVizzu_acf1787\">\n",
       "    let display_acf1787 = myVizzu_acf1787.parentNode.parentNode.style.display;\n",
       "    myVizzu_acf1787.parentNode.parentNode.style.display = \"none\";\n",
       "    chart_17407df = chart_17407df.then(chart => {\n",
       "        if (myVizzu_17407df.parentNode && myVizzu_17407df.parentNode.parentNode) {\n",
       "            myVizzu_17407df.parentNode.parentNode.style.display = \"none\";\n",
       "        }\n",
       "        myVizzu_acf1787.parentNode.parentNode.style.display = display_acf1787;\n",
       "        myVizzu_acf1787.parentNode.insertBefore(myVizzu_17407df, myVizzu_acf1787);\n",
       "        return chart.animate({\"config\": {\"channels\": {\"y\": {\"set\": [\"Popularity\", \"Types\"]}, \"x\": {\"set\": \"Genres\"}, \"label\": {\"attach\": \"Popularity\"}}, \"color\": {\"attach\": \"Types\"}, \"title\": \"Align: center\"}});\n",
       "    });\n",
       "</script>"
      ]
     },
     "metadata": {},
     "output_type": "display_data"
    },
    {
     "data": {
      "text/html": [
       "<script id=\"myVizzu_6bc0f2f\">\n",
       "    let display_6bc0f2f = myVizzu_6bc0f2f.parentNode.parentNode.style.display;\n",
       "    myVizzu_6bc0f2f.parentNode.parentNode.style.display = \"none\";\n",
       "    chart_17407df = chart_17407df.then(chart => {\n",
       "        if (myVizzu_17407df.parentNode && myVizzu_17407df.parentNode.parentNode) {\n",
       "            myVizzu_17407df.parentNode.parentNode.style.display = \"none\";\n",
       "        }\n",
       "        myVizzu_6bc0f2f.parentNode.parentNode.style.display = display_6bc0f2f;\n",
       "        myVizzu_6bc0f2f.parentNode.insertBefore(myVizzu_17407df, myVizzu_6bc0f2f);\n",
       "        return chart.animate({\"config\": {\"align\": \"center\"}});\n",
       "    });\n",
       "</script>"
      ]
     },
     "metadata": {},
     "output_type": "display_data"
    },
    {
     "data": {
      "text/html": [
       "<script id=\"myVizzu_90a050e\">\n",
       "    myVizzu_90a050e.parentNode.parentNode.style.display = \"none\";\n",
       "    let snapshot_90a050e;\n",
       "    chart_17407df = chart_17407df.then(chart => {\n",
       "        snapshot_90a050e = chart.store();\n",
       "        return chart;\n",
       "    });\n",
       "</script>"
      ]
     },
     "metadata": {},
     "output_type": "display_data"
    }
   ],
   "source": [
    "from ipyvizzu import Chart, Data, Config\n",
    "\n",
    "chart = Chart()\n",
    "\n",
    "data = Data.from_json(\"../data/music_example_data.json\")\n",
    "\n",
    "chart.animate(data)\n",
    "\n",
    "chart.animate(Config({\n",
    "    \"channels\": {\n",
    "        \"y\": {\n",
    "            \"set\": [\"Popularity\", \"Types\"]\n",
    "        }, \n",
    "        \"x\": {\n",
    "            \"set\": \"Genres\"\n",
    "        },\n",
    "        \"label\": {\n",
    "            \"attach\": \"Popularity\"\n",
    "        }\n",
    "    },\n",
    "    \"color\": {\n",
    "        \"attach\": \"Types\"\n",
    "    },\n",
    "    \"title\": \"Align: center\"\n",
    "}))\n",
    "\n",
    "chart.animate(Config({\n",
    "    \"align\": \"center\"\n",
    "}))\n",
    "\n",
    "snapshot1 = chart.store()"
   ]
  },
  {
   "cell_type": "markdown",
   "id": "de236c9d",
   "metadata": {},
   "source": [
    "Stretched alignment. This way the elements will proportionally fill the entire plot area, effectively showing proportions in stacked charts. This is why the scale will also switch from values to percentages when used."
   ]
  },
  {
   "cell_type": "code",
   "execution_count": 2,
   "id": "2570dfc5",
   "metadata": {},
   "outputs": [
    {
     "data": {
      "text/html": [
       "<script id=\"myVizzu_0b6f504\">\n",
       "    let display_0b6f504 = myVizzu_0b6f504.parentNode.parentNode.style.display;\n",
       "    myVizzu_0b6f504.parentNode.parentNode.style.display = \"none\";\n",
       "    chart_17407df = chart_17407df.then(chart => {\n",
       "        if (myVizzu_17407df.parentNode && myVizzu_17407df.parentNode.parentNode) {\n",
       "            myVizzu_17407df.parentNode.parentNode.style.display = \"none\";\n",
       "        }\n",
       "        myVizzu_0b6f504.parentNode.parentNode.style.display = display_0b6f504;\n",
       "        myVizzu_0b6f504.parentNode.insertBefore(myVizzu_17407df, myVizzu_0b6f504);\n",
       "        return chart.animate(snapshot_90a050e);\n",
       "    });\n",
       "</script>"
      ]
     },
     "metadata": {},
     "output_type": "display_data"
    },
    {
     "data": {
      "text/html": [
       "<script id=\"myVizzu_9b43680\">\n",
       "    let display_9b43680 = myVizzu_9b43680.parentNode.parentNode.style.display;\n",
       "    myVizzu_9b43680.parentNode.parentNode.style.display = \"none\";\n",
       "    chart_17407df = chart_17407df.then(chart => {\n",
       "        if (myVizzu_17407df.parentNode && myVizzu_17407df.parentNode.parentNode) {\n",
       "            myVizzu_17407df.parentNode.parentNode.style.display = \"none\";\n",
       "        }\n",
       "        myVizzu_9b43680.parentNode.parentNode.style.display = display_9b43680;\n",
       "        myVizzu_9b43680.parentNode.insertBefore(myVizzu_17407df, myVizzu_9b43680);\n",
       "        return chart.animate({\"config\": {\"title\": \"Align: stretch = % view\"}});\n",
       "    });\n",
       "</script>"
      ]
     },
     "metadata": {},
     "output_type": "display_data"
    },
    {
     "data": {
      "text/html": [
       "<script id=\"myVizzu_c5b223b\">\n",
       "    let display_c5b223b = myVizzu_c5b223b.parentNode.parentNode.style.display;\n",
       "    myVizzu_c5b223b.parentNode.parentNode.style.display = \"none\";\n",
       "    chart_17407df = chart_17407df.then(chart => {\n",
       "        if (myVizzu_17407df.parentNode && myVizzu_17407df.parentNode.parentNode) {\n",
       "            myVizzu_17407df.parentNode.parentNode.style.display = \"none\";\n",
       "        }\n",
       "        myVizzu_c5b223b.parentNode.parentNode.style.display = display_c5b223b;\n",
       "        myVizzu_c5b223b.parentNode.insertBefore(myVizzu_17407df, myVizzu_c5b223b);\n",
       "        return chart.animate({\"config\": {\"align\": \"stretch\"}});\n",
       "    });\n",
       "</script>"
      ]
     },
     "metadata": {},
     "output_type": "display_data"
    },
    {
     "data": {
      "text/html": [
       "<script id=\"myVizzu_7d54226\">\n",
       "    myVizzu_7d54226.parentNode.parentNode.style.display = \"none\";\n",
       "    let snapshot_7d54226;\n",
       "    chart_17407df = chart_17407df.then(chart => {\n",
       "        snapshot_7d54226 = chart.store();\n",
       "        return chart;\n",
       "    });\n",
       "</script>"
      ]
     },
     "metadata": {},
     "output_type": "display_data"
    }
   ],
   "source": [
    "chart.animate(snapshot1)\n",
    "\n",
    "chart.animate(Config({\"title\": \"Align: stretch = % view\"}))\n",
    "\n",
    "chart.animate(Config({\n",
    "    \"align\": \"stretch\"\n",
    "}))\n",
    "\n",
    "snapshot2 = chart.store()"
   ]
  },
  {
   "cell_type": "markdown",
   "id": "2fe74668",
   "metadata": {},
   "source": [
    "Getting back to the default alignment."
   ]
  },
  {
   "cell_type": "code",
   "execution_count": 3,
   "id": "968c95e7",
   "metadata": {},
   "outputs": [
    {
     "data": {
      "text/html": [
       "<script id=\"myVizzu_39fb114\">\n",
       "    let display_39fb114 = myVizzu_39fb114.parentNode.parentNode.style.display;\n",
       "    myVizzu_39fb114.parentNode.parentNode.style.display = \"none\";\n",
       "    chart_17407df = chart_17407df.then(chart => {\n",
       "        if (myVizzu_17407df.parentNode && myVizzu_17407df.parentNode.parentNode) {\n",
       "            myVizzu_17407df.parentNode.parentNode.style.display = \"none\";\n",
       "        }\n",
       "        myVizzu_39fb114.parentNode.parentNode.style.display = display_39fb114;\n",
       "        myVizzu_39fb114.parentNode.insertBefore(myVizzu_17407df, myVizzu_39fb114);\n",
       "        return chart.animate(snapshot_7d54226);\n",
       "    });\n",
       "</script>"
      ]
     },
     "metadata": {},
     "output_type": "display_data"
    },
    {
     "data": {
      "text/html": [
       "<script id=\"myVizzu_f991a13\">\n",
       "    let display_f991a13 = myVizzu_f991a13.parentNode.parentNode.style.display;\n",
       "    myVizzu_f991a13.parentNode.parentNode.style.display = \"none\";\n",
       "    chart_17407df = chart_17407df.then(chart => {\n",
       "        if (myVizzu_17407df.parentNode && myVizzu_17407df.parentNode.parentNode) {\n",
       "            myVizzu_17407df.parentNode.parentNode.style.display = \"none\";\n",
       "        }\n",
       "        myVizzu_f991a13.parentNode.parentNode.style.display = display_f991a13;\n",
       "        myVizzu_f991a13.parentNode.insertBefore(myVizzu_17407df, myVizzu_f991a13);\n",
       "        return chart.animate({\"config\": {\"title\": \"Align: none - default\"}});\n",
       "    });\n",
       "</script>"
      ]
     },
     "metadata": {},
     "output_type": "display_data"
    },
    {
     "data": {
      "text/html": [
       "<script id=\"myVizzu_ab9f7db\">\n",
       "    let display_ab9f7db = myVizzu_ab9f7db.parentNode.parentNode.style.display;\n",
       "    myVizzu_ab9f7db.parentNode.parentNode.style.display = \"none\";\n",
       "    chart_17407df = chart_17407df.then(chart => {\n",
       "        if (myVizzu_17407df.parentNode && myVizzu_17407df.parentNode.parentNode) {\n",
       "            myVizzu_17407df.parentNode.parentNode.style.display = \"none\";\n",
       "        }\n",
       "        myVizzu_ab9f7db.parentNode.parentNode.style.display = display_ab9f7db;\n",
       "        myVizzu_ab9f7db.parentNode.insertBefore(myVizzu_17407df, myVizzu_ab9f7db);\n",
       "        return chart.animate({\"config\": {\"align\": \"none\"}});\n",
       "    });\n",
       "</script>"
      ]
     },
     "metadata": {},
     "output_type": "display_data"
    },
    {
     "data": {
      "text/html": [
       "<script id=\"myVizzu_330fbc8\">\n",
       "    myVizzu_330fbc8.parentNode.parentNode.style.display = \"none\";\n",
       "    let snapshot_330fbc8;\n",
       "    chart_17407df = chart_17407df.then(chart => {\n",
       "        snapshot_330fbc8 = chart.store();\n",
       "        return chart;\n",
       "    });\n",
       "</script>"
      ]
     },
     "metadata": {},
     "output_type": "display_data"
    }
   ],
   "source": [
    "chart.animate(snapshot2)\n",
    "\n",
    "chart.animate(Config({\"title\": \"Align: none - default\"}))\n",
    "\n",
    "chart.animate(Config({\n",
    "    \"align\": \"none\"\n",
    "}))\n",
    "\n",
    "snapshot3 = chart.store()"
   ]
  },
  {
   "cell_type": "markdown",
   "id": "000773c1",
   "metadata": {},
   "source": [
    "You can set the range of an axis by setting the minimum and maximum values of it. Both parameters are optional so that you can set only one of those, and you either set specific values or a relative value by adding the % sign. In this example, we set the range of the y-axis in a way that the max value is 150% of the biggest element’s value."
   ]
  },
  {
   "cell_type": "code",
   "execution_count": 4,
   "id": "7aeb7745",
   "metadata": {},
   "outputs": [
    {
     "data": {
      "text/html": [
       "<script id=\"myVizzu_d8f2047\">\n",
       "    let display_d8f2047 = myVizzu_d8f2047.parentNode.parentNode.style.display;\n",
       "    myVizzu_d8f2047.parentNode.parentNode.style.display = \"none\";\n",
       "    chart_17407df = chart_17407df.then(chart => {\n",
       "        if (myVizzu_17407df.parentNode && myVizzu_17407df.parentNode.parentNode) {\n",
       "            myVizzu_17407df.parentNode.parentNode.style.display = \"none\";\n",
       "        }\n",
       "        myVizzu_d8f2047.parentNode.parentNode.style.display = display_d8f2047;\n",
       "        myVizzu_d8f2047.parentNode.insertBefore(myVizzu_17407df, myVizzu_d8f2047);\n",
       "        return chart.animate(snapshot_330fbc8);\n",
       "    });\n",
       "</script>"
      ]
     },
     "metadata": {},
     "output_type": "display_data"
    },
    {
     "data": {
      "text/html": [
       "<script id=\"myVizzu_8fe1b34\">\n",
       "    let display_8fe1b34 = myVizzu_8fe1b34.parentNode.parentNode.style.display;\n",
       "    myVizzu_8fe1b34.parentNode.parentNode.style.display = \"none\";\n",
       "    chart_17407df = chart_17407df.then(chart => {\n",
       "        if (myVizzu_17407df.parentNode && myVizzu_17407df.parentNode.parentNode) {\n",
       "            myVizzu_17407df.parentNode.parentNode.style.display = \"none\";\n",
       "        }\n",
       "        myVizzu_8fe1b34.parentNode.parentNode.style.display = display_8fe1b34;\n",
       "        myVizzu_8fe1b34.parentNode.insertBefore(myVizzu_17407df, myVizzu_8fe1b34);\n",
       "        return chart.animate({\"config\": {\"title\": \"Axis range set proportionally to shown values\"}});\n",
       "    });\n",
       "</script>"
      ]
     },
     "metadata": {},
     "output_type": "display_data"
    },
    {
     "data": {
      "text/html": [
       "<script id=\"myVizzu_3ee7ff2\">\n",
       "    let display_3ee7ff2 = myVizzu_3ee7ff2.parentNode.parentNode.style.display;\n",
       "    myVizzu_3ee7ff2.parentNode.parentNode.style.display = \"none\";\n",
       "    chart_17407df = chart_17407df.then(chart => {\n",
       "        if (myVizzu_17407df.parentNode && myVizzu_17407df.parentNode.parentNode) {\n",
       "            myVizzu_17407df.parentNode.parentNode.style.display = \"none\";\n",
       "        }\n",
       "        myVizzu_3ee7ff2.parentNode.parentNode.style.display = display_3ee7ff2;\n",
       "        myVizzu_3ee7ff2.parentNode.insertBefore(myVizzu_17407df, myVizzu_3ee7ff2);\n",
       "        return chart.animate({\"config\": {\"channels\": {\"y\": {\"range\": {\"max\": \"150%\"}}}}});\n",
       "    });\n",
       "</script>"
      ]
     },
     "metadata": {},
     "output_type": "display_data"
    },
    {
     "data": {
      "text/html": [
       "<script id=\"myVizzu_b5d7d5d\">\n",
       "    myVizzu_b5d7d5d.parentNode.parentNode.style.display = \"none\";\n",
       "    let snapshot_b5d7d5d;\n",
       "    chart_17407df = chart_17407df.then(chart => {\n",
       "        snapshot_b5d7d5d = chart.store();\n",
       "        return chart;\n",
       "    });\n",
       "</script>"
      ]
     },
     "metadata": {},
     "output_type": "display_data"
    }
   ],
   "source": [
    "chart.animate(snapshot3)\n",
    "\n",
    "chart.animate(Config({\"title\": \"Axis range set proportionally to shown values\"}))\n",
    "\n",
    "chart.animate(Config({\n",
    "    \"channels\": {\n",
    "        \"y\": {\n",
    "            \"range\": {\n",
    "                \"max\": \"150%\"\n",
    "            }\n",
    "        }\n",
    "    }\n",
    "}))\n",
    "\n",
    "snapshot4 = chart.store()"
   ]
  },
  {
   "cell_type": "markdown",
   "id": "119ea887",
   "metadata": {},
   "source": [
    "You can also set the range for an axis with a dimension on it. You can even use this feature to filter certain elements, just like in the following example."
   ]
  },
  {
   "cell_type": "code",
   "execution_count": 5,
   "id": "aeeeb6a4",
   "metadata": {},
   "outputs": [
    {
     "data": {
      "text/html": [
       "<script id=\"myVizzu_907efbd\">\n",
       "    let display_907efbd = myVizzu_907efbd.parentNode.parentNode.style.display;\n",
       "    myVizzu_907efbd.parentNode.parentNode.style.display = \"none\";\n",
       "    chart_17407df = chart_17407df.then(chart => {\n",
       "        if (myVizzu_17407df.parentNode && myVizzu_17407df.parentNode.parentNode) {\n",
       "            myVizzu_17407df.parentNode.parentNode.style.display = \"none\";\n",
       "        }\n",
       "        myVizzu_907efbd.parentNode.parentNode.style.display = display_907efbd;\n",
       "        myVizzu_907efbd.parentNode.insertBefore(myVizzu_17407df, myVizzu_907efbd);\n",
       "        return chart.animate(snapshot_b5d7d5d);\n",
       "    });\n",
       "</script>"
      ]
     },
     "metadata": {},
     "output_type": "display_data"
    },
    {
     "data": {
      "text/html": [
       "<script id=\"myVizzu_6e5ca2b\">\n",
       "    let display_6e5ca2b = myVizzu_6e5ca2b.parentNode.parentNode.style.display;\n",
       "    myVizzu_6e5ca2b.parentNode.parentNode.style.display = \"none\";\n",
       "    chart_17407df = chart_17407df.then(chart => {\n",
       "        if (myVizzu_17407df.parentNode && myVizzu_17407df.parentNode.parentNode) {\n",
       "            myVizzu_17407df.parentNode.parentNode.style.display = \"none\";\n",
       "        }\n",
       "        myVizzu_6e5ca2b.parentNode.parentNode.style.display = display_6e5ca2b;\n",
       "        myVizzu_6e5ca2b.parentNode.insertBefore(myVizzu_17407df, myVizzu_6e5ca2b);\n",
       "        return chart.animate({\"config\": {\"title\": \"Axis range set explicitly on an axis with discrete series\"}});\n",
       "    });\n",
       "</script>"
      ]
     },
     "metadata": {},
     "output_type": "display_data"
    },
    {
     "data": {
      "text/html": [
       "<script id=\"myVizzu_b29c642\">\n",
       "    let display_b29c642 = myVizzu_b29c642.parentNode.parentNode.style.display;\n",
       "    myVizzu_b29c642.parentNode.parentNode.style.display = \"none\";\n",
       "    chart_17407df = chart_17407df.then(chart => {\n",
       "        if (myVizzu_17407df.parentNode && myVizzu_17407df.parentNode.parentNode) {\n",
       "            myVizzu_17407df.parentNode.parentNode.style.display = \"none\";\n",
       "        }\n",
       "        myVizzu_b29c642.parentNode.parentNode.style.display = display_b29c642;\n",
       "        myVizzu_b29c642.parentNode.insertBefore(myVizzu_17407df, myVizzu_b29c642);\n",
       "        return chart.animate({\"config\": {\"channels\": {\"x\": {\"range\": {\"min\": -2, \"max\": 3}}}}});\n",
       "    });\n",
       "</script>"
      ]
     },
     "metadata": {},
     "output_type": "display_data"
    },
    {
     "data": {
      "text/html": [
       "<script id=\"myVizzu_151fcb9\">\n",
       "    myVizzu_151fcb9.parentNode.parentNode.style.display = \"none\";\n",
       "    let snapshot_151fcb9;\n",
       "    chart_17407df = chart_17407df.then(chart => {\n",
       "        snapshot_151fcb9 = chart.store();\n",
       "        return chart;\n",
       "    });\n",
       "</script>"
      ]
     },
     "metadata": {},
     "output_type": "display_data"
    }
   ],
   "source": [
    "chart.animate(snapshot4)\n",
    "\n",
    "chart.animate(Config({\"title\": \"Axis range set explicitly on an axis with discrete series\"}))\n",
    "\n",
    "chart.animate(Config({\n",
    "    \"channels\": {\n",
    "        \"x\": {\n",
    "            \"range\": {\n",
    "                \"min\": -2,\n",
    "                \"max\": 3,\n",
    "            }\n",
    "        }\n",
    "    }\n",
    "}))\n",
    "\n",
    "snapshot5 = chart.store()"
   ]
  },
  {
   "cell_type": "markdown",
   "id": "8d504699",
   "metadata": {},
   "source": [
    "Ranges have certain defaults depending on the chart's configuration, based on common data viz guidelines because we wanted to make it easy for you to create sleek charts. For example, in the cartesian coordinate system, the range will be automatically set to the max:110% for an axis with a measure on it. Polar coordinates work differently, as you can see for yourself in the Orientation, split & polar chapter.\n",
    "\n",
    "Whenever you want to set your ranges back to the default value, just set them to ‘auto’."
   ]
  },
  {
   "cell_type": "code",
   "execution_count": 6,
   "id": "db518966",
   "metadata": {},
   "outputs": [
    {
     "data": {
      "text/html": [
       "<script id=\"myVizzu_aca8040\">\n",
       "    let display_aca8040 = myVizzu_aca8040.parentNode.parentNode.style.display;\n",
       "    myVizzu_aca8040.parentNode.parentNode.style.display = \"none\";\n",
       "    chart_17407df = chart_17407df.then(chart => {\n",
       "        if (myVizzu_17407df.parentNode && myVizzu_17407df.parentNode.parentNode) {\n",
       "            myVizzu_17407df.parentNode.parentNode.style.display = \"none\";\n",
       "        }\n",
       "        myVizzu_aca8040.parentNode.parentNode.style.display = display_aca8040;\n",
       "        myVizzu_aca8040.parentNode.insertBefore(myVizzu_17407df, myVizzu_aca8040);\n",
       "        return chart.animate(snapshot_151fcb9);\n",
       "    });\n",
       "</script>"
      ]
     },
     "metadata": {},
     "output_type": "display_data"
    },
    {
     "data": {
      "text/html": [
       "<script id=\"myVizzu_49714cf\">\n",
       "    let display_49714cf = myVizzu_49714cf.parentNode.parentNode.style.display;\n",
       "    myVizzu_49714cf.parentNode.parentNode.style.display = \"none\";\n",
       "    chart_17407df = chart_17407df.then(chart => {\n",
       "        if (myVizzu_17407df.parentNode && myVizzu_17407df.parentNode.parentNode) {\n",
       "            myVizzu_17407df.parentNode.parentNode.style.display = \"none\";\n",
       "        }\n",
       "        myVizzu_49714cf.parentNode.parentNode.style.display = display_49714cf;\n",
       "        myVizzu_49714cf.parentNode.insertBefore(myVizzu_17407df, myVizzu_49714cf);\n",
       "        return chart.animate({\"config\": {\"title\": \"Back to the default ranges\"}});\n",
       "    });\n",
       "</script>"
      ]
     },
     "metadata": {},
     "output_type": "display_data"
    },
    {
     "data": {
      "text/html": [
       "<script id=\"myVizzu_239dc78\">\n",
       "    let display_239dc78 = myVizzu_239dc78.parentNode.parentNode.style.display;\n",
       "    myVizzu_239dc78.parentNode.parentNode.style.display = \"none\";\n",
       "    chart_17407df = chart_17407df.then(chart => {\n",
       "        if (myVizzu_17407df.parentNode && myVizzu_17407df.parentNode.parentNode) {\n",
       "            myVizzu_17407df.parentNode.parentNode.style.display = \"none\";\n",
       "        }\n",
       "        myVizzu_239dc78.parentNode.parentNode.style.display = display_239dc78;\n",
       "        myVizzu_239dc78.parentNode.insertBefore(myVizzu_17407df, myVizzu_239dc78);\n",
       "        return chart.animate({\"config\": {\"channels\": {\"y\": {\"range\": {\"max\": \"auto\"}}, \"x\": {\"range\": {\"min\": \"auto\", \"max\": \"auto\"}}}}});\n",
       "    });\n",
       "</script>"
      ]
     },
     "metadata": {},
     "output_type": "display_data"
    }
   ],
   "source": [
    "chart.animate(snapshot5)\n",
    "\n",
    "chart.animate(Config({\"title\": \"Back to the default ranges\"}))\n",
    "\n",
    "chart.animate(Config({\n",
    "    \"channels\": {\n",
    "        \"y\": {\n",
    "            \"range\": {\n",
    "                \"max\": \"auto\"\n",
    "            }\n",
    "        },\n",
    "        \"x\": {\n",
    "            \"range\": {\n",
    "                \"min\": \"auto\",\n",
    "                \"max\": \"auto\",\n",
    "            }\n",
    "        }\n",
    "    }\n",
    "}))"
   ]
  }
 ],
 "metadata": {
  "kernelspec": {
   "display_name": "Python 3 (ipykernel)",
   "language": "python",
   "name": "python3"
  },
  "language_info": {
   "codemirror_mode": {
    "name": "ipython",
    "version": 3
   },
   "file_extension": ".py",
   "mimetype": "text/x-python",
   "name": "python",
   "nbconvert_exporter": "python",
   "pygments_lexer": "ipython3",
   "version": "3.8.10"
  }
 },
 "nbformat": 4,
 "nbformat_minor": 5
}
