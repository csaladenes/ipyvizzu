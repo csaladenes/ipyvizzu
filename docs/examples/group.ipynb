{
 "cells": [
  {
   "cell_type": "markdown",
   "id": "6a4ffcba",
   "metadata": {},
   "source": [
    "## Group/stack\n",
    "\n",
    "When you add dimensions to the channels, there is a simple rule to keep in mind in the current beta phase of Vizzu. The following example also shows how to group and stack elements of a bar chart.\n",
    "\n",
    "The rule: When you add a dimension (Type) to a channel (x-axis) with only dimensions on it, Vizzu will fade between the states, as shown here. Thus, you get a grouped bar chart, but the connection between the original state and this one will be unclear for the viewer because of the fading."
   ]
  },
  {
   "cell_type": "code",
   "execution_count": 1,
   "id": "15e0586a",
   "metadata": {},
   "outputs": [
    {
     "data": {
      "text/html": [
       "<script id=\"myVizzu_7990521\">\n",
       "    myVizzu_7990521.parentNode.parentNode.style.display = \"none\";\n",
       "    let myVizzu_f996a95 = document.createElement(\"div\");\n",
       "    myVizzu_f996a95.style.cssText = \"width: 800px; height: 480px;\";\n",
       "    let chart_f996a95 = import(\"https://cdn.jsdelivr.net/npm/vizzu@~0.4.0/dist/vizzu.min.js\").then(Vizzu => new Vizzu.default(myVizzu_f996a95).initializing);\n",
       "</script>"
      ]
     },
     "metadata": {},
     "output_type": "display_data"
    },
    {
     "data": {
      "text/html": [
       "<script id=\"myVizzu_a9e8ea6\">\n",
       "    let display_a9e8ea6 = myVizzu_a9e8ea6.parentNode.parentNode.style.display;\n",
       "    myVizzu_a9e8ea6.parentNode.parentNode.style.display = \"none\";\n",
       "    chart_f996a95 = chart_f996a95.then(chart => {\n",
       "        if (myVizzu_f996a95.parentNode && myVizzu_f996a95.parentNode.parentNode) {\n",
       "            myVizzu_f996a95.parentNode.parentNode.style.display = \"none\";\n",
       "        }\n",
       "        myVizzu_a9e8ea6.parentNode.parentNode.style.display = display_a9e8ea6;\n",
       "        myVizzu_a9e8ea6.parentNode.insertBefore(myVizzu_f996a95, myVizzu_a9e8ea6);\n",
       "        return chart.animate({\"data\": {\"dimensions\": [{\"name\": \"Genres\", \"values\": [\"Pop\", \"Rock\", \"Jazz\", \"Metal\"]}, {\"name\": \"Types\", \"values\": [\"Hard\", \"Smooth\", \"Experimental\"]}], \"measures\": [{\"name\": \"Popularity\", \"values\": [[114, 96, 78, 52], [56, 36, 174, 121], [127, 83, 94, 58]]}]}});\n",
       "    });\n",
       "</script>"
      ]
     },
     "metadata": {},
     "output_type": "display_data"
    },
    {
     "data": {
      "text/html": [
       "<script id=\"myVizzu_4011da5\">\n",
       "    let display_4011da5 = myVizzu_4011da5.parentNode.parentNode.style.display;\n",
       "    myVizzu_4011da5.parentNode.parentNode.style.display = \"none\";\n",
       "    chart_f996a95 = chart_f996a95.then(chart => {\n",
       "        if (myVizzu_f996a95.parentNode && myVizzu_f996a95.parentNode.parentNode) {\n",
       "            myVizzu_f996a95.parentNode.parentNode.style.display = \"none\";\n",
       "        }\n",
       "        myVizzu_4011da5.parentNode.parentNode.style.display = display_4011da5;\n",
       "        myVizzu_4011da5.parentNode.insertBefore(myVizzu_f996a95, myVizzu_4011da5);\n",
       "        return chart.animate({\"config\": {\"channels\": {\"y\": {\"set\": \"Popularity\"}, \"x\": {\"set\": \"Genres\"}}, \"title\": \"The wrong way means no animation\"}});\n",
       "    });\n",
       "</script>"
      ]
     },
     "metadata": {},
     "output_type": "display_data"
    },
    {
     "data": {
      "text/html": [
       "<script id=\"myVizzu_3338294\">\n",
       "    let display_3338294 = myVizzu_3338294.parentNode.parentNode.style.display;\n",
       "    myVizzu_3338294.parentNode.parentNode.style.display = \"none\";\n",
       "    chart_f996a95 = chart_f996a95.then(chart => {\n",
       "        if (myVizzu_f996a95.parentNode && myVizzu_f996a95.parentNode.parentNode) {\n",
       "            myVizzu_f996a95.parentNode.parentNode.style.display = \"none\";\n",
       "        }\n",
       "        myVizzu_3338294.parentNode.parentNode.style.display = display_3338294;\n",
       "        myVizzu_3338294.parentNode.insertBefore(myVizzu_f996a95, myVizzu_3338294);\n",
       "        return chart.animate({\"config\": {\"channels\": {\"x\": {\"set\": [\"Genres\", \"Types\"]}, \"color\": {\"attach\": \"Types\"}}}});\n",
       "    });\n",
       "</script>"
      ]
     },
     "metadata": {},
     "output_type": "display_data"
    },
    {
     "data": {
      "text/html": [
       "<script id=\"myVizzu_4a8d5fb\">\n",
       "    myVizzu_4a8d5fb.parentNode.parentNode.style.display = \"none\";\n",
       "    let snapshot_4a8d5fb;\n",
       "    chart_f996a95 = chart_f996a95.then(chart => {\n",
       "        snapshot_4a8d5fb = chart.store();\n",
       "        return chart;\n",
       "    });\n",
       "</script>"
      ]
     },
     "metadata": {},
     "output_type": "display_data"
    }
   ],
   "source": [
    "from ipyvizzu import Chart, Data, Config\n",
    "\n",
    "chart = Chart()\n",
    "\n",
    "data = Data.from_json(\"../data/music_example_data.json\")\n",
    "\n",
    "chart.animate(data)\n",
    "\n",
    "chart.animate(Config({\n",
    "    \"channels\": {\n",
    "        \"y\": {\n",
    "            \"set\": \"Popularity\"\n",
    "        },\n",
    "        \"x\": {\n",
    "            \"set\": \"Genres\"\n",
    "        }\n",
    "    },\n",
    "    \"title\": \"The wrong way means no animation\"\n",
    "}))\n",
    "\n",
    "chart.animate(Config({\n",
    "    \"channels\": {\n",
    "        \"x\": {\n",
    "            \"set\": [\"Genres\", \"Types\"]\n",
    "        },\n",
    "        \"color\": {\n",
    "            \"attach\": \"Types\"\n",
    "        },\n",
    "    },\n",
    "}))\n",
    "\n",
    "snapshot1 = chart.store()"
   ]
  },
  {
   "cell_type": "markdown",
   "id": "87e38239",
   "metadata": {},
   "source": [
    "Let’s get back to the original state by removing the extra dimension - Vizzu will also simply fade between these states."
   ]
  },
  {
   "cell_type": "code",
   "execution_count": 2,
   "id": "4840001d",
   "metadata": {},
   "outputs": [
    {
     "data": {
      "text/html": [
       "<script id=\"myVizzu_4c1b711\">\n",
       "    let display_4c1b711 = myVizzu_4c1b711.parentNode.parentNode.style.display;\n",
       "    myVizzu_4c1b711.parentNode.parentNode.style.display = \"none\";\n",
       "    chart_f996a95 = chart_f996a95.then(chart => {\n",
       "        if (myVizzu_f996a95.parentNode && myVizzu_f996a95.parentNode.parentNode) {\n",
       "            myVizzu_f996a95.parentNode.parentNode.style.display = \"none\";\n",
       "        }\n",
       "        myVizzu_4c1b711.parentNode.parentNode.style.display = display_4c1b711;\n",
       "        myVizzu_4c1b711.parentNode.insertBefore(myVizzu_f996a95, myVizzu_4c1b711);\n",
       "        return chart.animate(snapshot_4a8d5fb);\n",
       "    });\n",
       "</script>"
      ]
     },
     "metadata": {},
     "output_type": "display_data"
    },
    {
     "data": {
      "text/html": [
       "<script id=\"myVizzu_78d2bbb\">\n",
       "    let display_78d2bbb = myVizzu_78d2bbb.parentNode.parentNode.style.display;\n",
       "    myVizzu_78d2bbb.parentNode.parentNode.style.display = \"none\";\n",
       "    chart_f996a95 = chart_f996a95.then(chart => {\n",
       "        if (myVizzu_f996a95.parentNode && myVizzu_f996a95.parentNode.parentNode) {\n",
       "            myVizzu_f996a95.parentNode.parentNode.style.display = \"none\";\n",
       "        }\n",
       "        myVizzu_78d2bbb.parentNode.parentNode.style.display = display_78d2bbb;\n",
       "        myVizzu_78d2bbb.parentNode.insertBefore(myVizzu_f996a95, myVizzu_78d2bbb);\n",
       "        return chart.animate({\"config\": {\"title\": \"Let's get back to where we were\"}});\n",
       "    });\n",
       "</script>"
      ]
     },
     "metadata": {},
     "output_type": "display_data"
    },
    {
     "data": {
      "text/html": [
       "<script id=\"myVizzu_be09d3c\">\n",
       "    let display_be09d3c = myVizzu_be09d3c.parentNode.parentNode.style.display;\n",
       "    myVizzu_be09d3c.parentNode.parentNode.style.display = \"none\";\n",
       "    chart_f996a95 = chart_f996a95.then(chart => {\n",
       "        if (myVizzu_f996a95.parentNode && myVizzu_f996a95.parentNode.parentNode) {\n",
       "            myVizzu_f996a95.parentNode.parentNode.style.display = \"none\";\n",
       "        }\n",
       "        myVizzu_be09d3c.parentNode.parentNode.style.display = display_be09d3c;\n",
       "        myVizzu_be09d3c.parentNode.insertBefore(myVizzu_f996a95, myVizzu_be09d3c);\n",
       "        return chart.animate({\"config\": {\"channels\": {\"x\": {\"detach\": \"Types\"}, \"color\": {\"set\": null}}}});\n",
       "    });\n",
       "</script>"
      ]
     },
     "metadata": {},
     "output_type": "display_data"
    },
    {
     "data": {
      "text/html": [
       "<script id=\"myVizzu_55ea69a\">\n",
       "    myVizzu_55ea69a.parentNode.parentNode.style.display = \"none\";\n",
       "    let snapshot_55ea69a;\n",
       "    chart_f996a95 = chart_f996a95.then(chart => {\n",
       "        snapshot_55ea69a = chart.store();\n",
       "        return chart;\n",
       "    });\n",
       "</script>"
      ]
     },
     "metadata": {},
     "output_type": "display_data"
    }
   ],
   "source": [
    "chart.animate(snapshot1)\n",
    "\n",
    "chart.animate(Config({\"title\": \"Let's get back to where we were\"}))\n",
    "\n",
    "chart.animate(Config({\n",
    "    \"channels\": {\n",
    "        \"x\": {\n",
    "            \"detach\": \"Types\"\n",
    "        },\n",
    "        \"color\": {\n",
    "            \"set\": None\n",
    "        },\n",
    "    }\n",
    "}))\n",
    "\n",
    "snapshot2 = chart.store()"
   ]
  },
  {
   "cell_type": "markdown",
   "id": "c28f9825",
   "metadata": {},
   "source": [
    "The right way is to add the new dimension to the same channel where the measure is: the y-axis. However, since doing only this would result in multiple column chart elements with the same color stacked on top of each other, we also add the same dimension (Type) to the color channel."
   ]
  },
  {
   "cell_type": "code",
   "execution_count": 3,
   "id": "c9f206b4",
   "metadata": {},
   "outputs": [
    {
     "data": {
      "text/html": [
       "<script id=\"myVizzu_79089c6\">\n",
       "    let display_79089c6 = myVizzu_79089c6.parentNode.parentNode.style.display;\n",
       "    myVizzu_79089c6.parentNode.parentNode.style.display = \"none\";\n",
       "    chart_f996a95 = chart_f996a95.then(chart => {\n",
       "        if (myVizzu_f996a95.parentNode && myVizzu_f996a95.parentNode.parentNode) {\n",
       "            myVizzu_f996a95.parentNode.parentNode.style.display = \"none\";\n",
       "        }\n",
       "        myVizzu_79089c6.parentNode.parentNode.style.display = display_79089c6;\n",
       "        myVizzu_79089c6.parentNode.insertBefore(myVizzu_f996a95, myVizzu_79089c6);\n",
       "        return chart.animate(snapshot_55ea69a);\n",
       "    });\n",
       "</script>"
      ]
     },
     "metadata": {},
     "output_type": "display_data"
    },
    {
     "data": {
      "text/html": [
       "<script id=\"myVizzu_ee15241\">\n",
       "    let display_ee15241 = myVizzu_ee15241.parentNode.parentNode.style.display;\n",
       "    myVizzu_ee15241.parentNode.parentNode.style.display = \"none\";\n",
       "    chart_f996a95 = chart_f996a95.then(chart => {\n",
       "        if (myVizzu_f996a95.parentNode && myVizzu_f996a95.parentNode.parentNode) {\n",
       "            myVizzu_f996a95.parentNode.parentNode.style.display = \"none\";\n",
       "        }\n",
       "        myVizzu_ee15241.parentNode.parentNode.style.display = display_ee15241;\n",
       "        myVizzu_ee15241.parentNode.insertBefore(myVizzu_f996a95, myVizzu_ee15241);\n",
       "        return chart.animate({\"config\": {\"title\": \"The right way: add to the same channel where the measure is\"}});\n",
       "    });\n",
       "</script>"
      ]
     },
     "metadata": {},
     "output_type": "display_data"
    },
    {
     "data": {
      "text/html": [
       "<script id=\"myVizzu_30d3d18\">\n",
       "    let display_30d3d18 = myVizzu_30d3d18.parentNode.parentNode.style.display;\n",
       "    myVizzu_30d3d18.parentNode.parentNode.style.display = \"none\";\n",
       "    chart_f996a95 = chart_f996a95.then(chart => {\n",
       "        if (myVizzu_f996a95.parentNode && myVizzu_f996a95.parentNode.parentNode) {\n",
       "            myVizzu_f996a95.parentNode.parentNode.style.display = \"none\";\n",
       "        }\n",
       "        myVizzu_30d3d18.parentNode.parentNode.style.display = display_30d3d18;\n",
       "        myVizzu_30d3d18.parentNode.insertBefore(myVizzu_f996a95, myVizzu_30d3d18);\n",
       "        return chart.animate({\"config\": {\"channels\": {\"y\": {\"attach\": \"Types\"}, \"color\": {\"attach\": \"Types\"}}}});\n",
       "    });\n",
       "</script>"
      ]
     },
     "metadata": {},
     "output_type": "display_data"
    },
    {
     "data": {
      "text/html": [
       "<script id=\"myVizzu_c8b2900\">\n",
       "    myVizzu_c8b2900.parentNode.parentNode.style.display = \"none\";\n",
       "    let snapshot_c8b2900;\n",
       "    chart_f996a95 = chart_f996a95.then(chart => {\n",
       "        snapshot_c8b2900 = chart.store();\n",
       "        return chart;\n",
       "    });\n",
       "</script>"
      ]
     },
     "metadata": {},
     "output_type": "display_data"
    }
   ],
   "source": [
    "chart.animate(snapshot2)\n",
    "\n",
    "chart.animate(Config({\"title\": \"The right way: add to the same channel where the measure is\"}))\n",
    "\n",
    "chart.animate(Config({\n",
    "    \"channels\": {\n",
    "        \"y\": {\n",
    "            \"attach\": \"Types\"\n",
    "        },\n",
    "        \"color\": {\n",
    "            \"attach\": \"Types\"\n",
    "        },\n",
    "    }\n",
    "}))\n",
    "\n",
    "snapshot3 = chart.store()"
   ]
  },
  {
   "cell_type": "markdown",
   "id": "a7b863e0",
   "metadata": {},
   "source": [
    "By detaching this newly added dimension from the y-axis and attaching it to the x-axis, you get to the same grouped bar chart as in the first step but in a way that is easy to follow for the viewer."
   ]
  },
  {
   "cell_type": "code",
   "execution_count": 4,
   "id": "d8a3b336",
   "metadata": {},
   "outputs": [
    {
     "data": {
      "text/html": [
       "<script id=\"myVizzu_fd72d7a\">\n",
       "    let display_fd72d7a = myVizzu_fd72d7a.parentNode.parentNode.style.display;\n",
       "    myVizzu_fd72d7a.parentNode.parentNode.style.display = \"none\";\n",
       "    chart_f996a95 = chart_f996a95.then(chart => {\n",
       "        if (myVizzu_f996a95.parentNode && myVizzu_f996a95.parentNode.parentNode) {\n",
       "            myVizzu_f996a95.parentNode.parentNode.style.display = \"none\";\n",
       "        }\n",
       "        myVizzu_fd72d7a.parentNode.parentNode.style.display = display_fd72d7a;\n",
       "        myVizzu_fd72d7a.parentNode.insertBefore(myVizzu_f996a95, myVizzu_fd72d7a);\n",
       "        return chart.animate(snapshot_c8b2900);\n",
       "    });\n",
       "</script>"
      ]
     },
     "metadata": {},
     "output_type": "display_data"
    },
    {
     "data": {
      "text/html": [
       "<script id=\"myVizzu_520cada\">\n",
       "    let display_520cada = myVizzu_520cada.parentNode.parentNode.style.display;\n",
       "    myVizzu_520cada.parentNode.parentNode.style.display = \"none\";\n",
       "    chart_f996a95 = chart_f996a95.then(chart => {\n",
       "        if (myVizzu_f996a95.parentNode && myVizzu_f996a95.parentNode.parentNode) {\n",
       "            myVizzu_f996a95.parentNode.parentNode.style.display = \"none\";\n",
       "        }\n",
       "        myVizzu_520cada.parentNode.parentNode.style.display = display_520cada;\n",
       "        myVizzu_520cada.parentNode.insertBefore(myVizzu_f996a95, myVizzu_520cada);\n",
       "        return chart.animate({\"config\": {\"title\": \"...then you can add it to another channel = group elements...\"}});\n",
       "    });\n",
       "</script>"
      ]
     },
     "metadata": {},
     "output_type": "display_data"
    },
    {
     "data": {
      "text/html": [
       "<script id=\"myVizzu_d381670\">\n",
       "    let display_d381670 = myVizzu_d381670.parentNode.parentNode.style.display;\n",
       "    myVizzu_d381670.parentNode.parentNode.style.display = \"none\";\n",
       "    chart_f996a95 = chart_f996a95.then(chart => {\n",
       "        if (myVizzu_f996a95.parentNode && myVizzu_f996a95.parentNode.parentNode) {\n",
       "            myVizzu_f996a95.parentNode.parentNode.style.display = \"none\";\n",
       "        }\n",
       "        myVizzu_d381670.parentNode.parentNode.style.display = display_d381670;\n",
       "        myVizzu_d381670.parentNode.insertBefore(myVizzu_f996a95, myVizzu_d381670);\n",
       "        return chart.animate({\"config\": {\"channels\": {\"y\": {\"detach\": \"Types\"}, \"x\": {\"attach\": \"Types\"}}}});\n",
       "    });\n",
       "</script>"
      ]
     },
     "metadata": {},
     "output_type": "display_data"
    },
    {
     "data": {
      "text/html": [
       "<script id=\"myVizzu_b0a582b\">\n",
       "    myVizzu_b0a582b.parentNode.parentNode.style.display = \"none\";\n",
       "    let snapshot_b0a582b;\n",
       "    chart_f996a95 = chart_f996a95.then(chart => {\n",
       "        snapshot_b0a582b = chart.store();\n",
       "        return chart;\n",
       "    });\n",
       "</script>"
      ]
     },
     "metadata": {},
     "output_type": "display_data"
    }
   ],
   "source": [
    "chart.animate(snapshot3)\n",
    "\n",
    "chart.animate(Config({\"title\": \"...then you can add it to another channel = group elements...\"}))\n",
    "\n",
    "chart.animate(Config({\n",
    "    \"channels\": {\n",
    "        \"y\": {\n",
    "            \"detach\": \"Types\"\n",
    "        },\n",
    "        \"x\": {\n",
    "            \"attach\": \"Types\"\n",
    "        },\n",
    "    }\n",
    "}))\n",
    "\n",
    "snapshot4 = chart.store()"
   ]
  },
  {
   "cell_type": "markdown",
   "id": "46cb4d25",
   "metadata": {},
   "source": [
    "To stack a grouped chart, you just have to do the same thing the other way around: detach the dimension from the x-axis and attach it to the y-axis."
   ]
  },
  {
   "cell_type": "code",
   "execution_count": 5,
   "id": "075bb4c9",
   "metadata": {},
   "outputs": [
    {
     "data": {
      "text/html": [
       "<script id=\"myVizzu_b12491e\">\n",
       "    let display_b12491e = myVizzu_b12491e.parentNode.parentNode.style.display;\n",
       "    myVizzu_b12491e.parentNode.parentNode.style.display = \"none\";\n",
       "    chart_f996a95 = chart_f996a95.then(chart => {\n",
       "        if (myVizzu_f996a95.parentNode && myVizzu_f996a95.parentNode.parentNode) {\n",
       "            myVizzu_f996a95.parentNode.parentNode.style.display = \"none\";\n",
       "        }\n",
       "        myVizzu_b12491e.parentNode.parentNode.style.display = display_b12491e;\n",
       "        myVizzu_b12491e.parentNode.insertBefore(myVizzu_f996a95, myVizzu_b12491e);\n",
       "        return chart.animate(snapshot_b0a582b);\n",
       "    });\n",
       "</script>"
      ]
     },
     "metadata": {},
     "output_type": "display_data"
    },
    {
     "data": {
      "text/html": [
       "<script id=\"myVizzu_eeb0f08\">\n",
       "    let display_eeb0f08 = myVizzu_eeb0f08.parentNode.parentNode.style.display;\n",
       "    myVizzu_eeb0f08.parentNode.parentNode.style.display = \"none\";\n",
       "    chart_f996a95 = chart_f996a95.then(chart => {\n",
       "        if (myVizzu_f996a95.parentNode && myVizzu_f996a95.parentNode.parentNode) {\n",
       "            myVizzu_f996a95.parentNode.parentNode.style.display = \"none\";\n",
       "        }\n",
       "        myVizzu_eeb0f08.parentNode.parentNode.style.display = display_eeb0f08;\n",
       "        myVizzu_eeb0f08.parentNode.insertBefore(myVizzu_f996a95, myVizzu_eeb0f08);\n",
       "        return chart.animate({\"config\": {\"title\": \"...doing it the other way is how you stack your chart\"}});\n",
       "    });\n",
       "</script>"
      ]
     },
     "metadata": {},
     "output_type": "display_data"
    },
    {
     "data": {
      "text/html": [
       "<script id=\"myVizzu_54e35f4\">\n",
       "    let display_54e35f4 = myVizzu_54e35f4.parentNode.parentNode.style.display;\n",
       "    myVizzu_54e35f4.parentNode.parentNode.style.display = \"none\";\n",
       "    chart_f996a95 = chart_f996a95.then(chart => {\n",
       "        if (myVizzu_f996a95.parentNode && myVizzu_f996a95.parentNode.parentNode) {\n",
       "            myVizzu_f996a95.parentNode.parentNode.style.display = \"none\";\n",
       "        }\n",
       "        myVizzu_54e35f4.parentNode.parentNode.style.display = display_54e35f4;\n",
       "        myVizzu_54e35f4.parentNode.insertBefore(myVizzu_f996a95, myVizzu_54e35f4);\n",
       "        return chart.animate({\"config\": {\"channels\": {\"y\": {\"attach\": \"Types\"}, \"x\": {\"detach\": \"Types\"}}}});\n",
       "    });\n",
       "</script>"
      ]
     },
     "metadata": {},
     "output_type": "display_data"
    }
   ],
   "source": [
    "chart.animate(snapshot4)\n",
    "\n",
    "chart.animate(Config({\"title\": \"...doing it the other way is how you stack your chart\"}))\n",
    "\n",
    "chart.animate(Config({\n",
    "    \"channels\": {\n",
    "        \"y\": {\n",
    "            \"attach\": \"Types\"\n",
    "        },\n",
    "        \"x\": {\n",
    "            \"detach\": \"Types\"\n",
    "        },\n",
    "    }\n",
    "}))"
   ]
  }
 ],
 "metadata": {
  "kernelspec": {
   "display_name": "Python 3 (ipykernel)",
   "language": "python",
   "name": "python3"
  },
  "language_info": {
   "codemirror_mode": {
    "name": "ipython",
    "version": 3
   },
   "file_extension": ".py",
   "mimetype": "text/x-python",
   "name": "python",
   "nbconvert_exporter": "python",
   "pygments_lexer": "ipython3",
   "version": "3.8.10"
  }
 },
 "nbformat": 4,
 "nbformat_minor": 5
}
