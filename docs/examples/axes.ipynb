{
 "cells": [
  {
   "cell_type": "markdown",
   "id": "789167c4",
   "metadata": {},
   "source": [
    "## Axes, title, tooltip\n",
    "\n",
    "To build a chart with Vizzu, you have to add data series to the channels.\n",
    "\n",
    "The first step is to create a simple column chart, adding one of the dimensions (Genre) to the x-axis and the measure (Popularity) to the y-axis using the set property.\n",
    "\n",
    "In the next step, the chart is rearranged by putting both series on the y-axis using once again the set property, resulting in a single column chart. Vizzu automatically animates between the initial state and this one.\n",
    "\n",
    "Or instead of set, you can use attach and detach to add or remove series to/from the channels.\n",
    "\n",
    "Using attach & detach makes it easier to build your animated charts step-by-step, however you either have to keep in mind what you had on which channel in the previous step."
   ]
  },
  {
   "cell_type": "code",
   "execution_count": 1,
   "id": "8f05ec83",
   "metadata": {},
   "outputs": [
    {
     "data": {
      "text/html": [
       "<script id=\"myVizzu_367640f\">\n",
       "    myVizzu_367640f.parentNode.parentNode.style.display = \"none\";\n",
       "    let myVizzu_fffca16 = document.createElement(\"div\");\n",
       "    myVizzu_fffca16.style.cssText = \"width: 800px; height: 480px;\";\n",
       "    let chart_fffca16 = import(\"https://cdn.jsdelivr.net/npm/vizzu@~0.4.0/dist/vizzu.min.js\").then(Vizzu => new Vizzu.default(myVizzu_fffca16).initializing);\n",
       "</script>"
      ]
     },
     "metadata": {},
     "output_type": "display_data"
    },
    {
     "data": {
      "text/html": [
       "<script id=\"myVizzu_2683529\">\n",
       "    let display_2683529 = myVizzu_2683529.parentNode.parentNode.style.display;\n",
       "    myVizzu_2683529.parentNode.parentNode.style.display = \"none\";\n",
       "    chart_fffca16 = chart_fffca16.then(chart => {\n",
       "        if (myVizzu_fffca16.parentNode && myVizzu_fffca16.parentNode.parentNode) {\n",
       "            myVizzu_fffca16.parentNode.parentNode.style.display = \"none\";\n",
       "        }\n",
       "        myVizzu_2683529.parentNode.parentNode.style.display = display_2683529;\n",
       "        myVizzu_2683529.parentNode.insertBefore(myVizzu_fffca16, myVizzu_2683529);\n",
       "        return chart.animate({\"data\": {\"dimensions\": [{\"name\": \"Genres\", \"values\": [\"Pop\", \"Rock\", \"Jazz\", \"Metal\"]}, {\"name\": \"Types\", \"values\": [\"Hard\", \"Smooth\", \"Experimental\"]}], \"measures\": [{\"name\": \"Popularity\", \"values\": [[114, 96, 78, 52], [56, 36, 174, 121], [127, 83, 94, 58]]}]}});\n",
       "    });\n",
       "</script>"
      ]
     },
     "metadata": {},
     "output_type": "display_data"
    },
    {
     "data": {
      "text/html": [
       "<script id=\"myVizzu_077e7db\">\n",
       "    let display_077e7db = myVizzu_077e7db.parentNode.parentNode.style.display;\n",
       "    myVizzu_077e7db.parentNode.parentNode.style.display = \"none\";\n",
       "    chart_fffca16 = chart_fffca16.then(chart => {\n",
       "        if (myVizzu_fffca16.parentNode && myVizzu_fffca16.parentNode.parentNode) {\n",
       "            myVizzu_fffca16.parentNode.parentNode.style.display = \"none\";\n",
       "        }\n",
       "        myVizzu_077e7db.parentNode.parentNode.style.display = display_077e7db;\n",
       "        myVizzu_077e7db.parentNode.insertBefore(myVizzu_fffca16, myVizzu_077e7db);\n",
       "        return chart.animate({\"config\": {\"channels\": {\"y\": {\"set\": \"Popularity\"}, \"x\": {\"set\": \"Genres\"}}}});\n",
       "    });\n",
       "</script>"
      ]
     },
     "metadata": {},
     "output_type": "display_data"
    },
    {
     "data": {
      "text/html": [
       "<script id=\"myVizzu_cad0a5b\">\n",
       "    let display_cad0a5b = myVizzu_cad0a5b.parentNode.parentNode.style.display;\n",
       "    myVizzu_cad0a5b.parentNode.parentNode.style.display = \"none\";\n",
       "    chart_fffca16 = chart_fffca16.then(chart => {\n",
       "        if (myVizzu_fffca16.parentNode && myVizzu_fffca16.parentNode.parentNode) {\n",
       "            myVizzu_fffca16.parentNode.parentNode.style.display = \"none\";\n",
       "        }\n",
       "        myVizzu_cad0a5b.parentNode.parentNode.style.display = display_cad0a5b;\n",
       "        myVizzu_cad0a5b.parentNode.insertBefore(myVizzu_fffca16, myVizzu_cad0a5b);\n",
       "        return chart.animate({\"config\": {\"channels\": {\"y\": {\"set\": [\"Popularity\", \"Genres\"]}, \"x\": {\"set\": null}}}});\n",
       "    });\n",
       "</script>"
      ]
     },
     "metadata": {},
     "output_type": "display_data"
    },
    {
     "data": {
      "text/html": [
       "<script id=\"myVizzu_5a3aba2\">\n",
       "    let display_5a3aba2 = myVizzu_5a3aba2.parentNode.parentNode.style.display;\n",
       "    myVizzu_5a3aba2.parentNode.parentNode.style.display = \"none\";\n",
       "    chart_fffca16 = chart_fffca16.then(chart => {\n",
       "        if (myVizzu_fffca16.parentNode && myVizzu_fffca16.parentNode.parentNode) {\n",
       "            myVizzu_fffca16.parentNode.parentNode.style.display = \"none\";\n",
       "        }\n",
       "        myVizzu_5a3aba2.parentNode.parentNode.style.display = display_5a3aba2;\n",
       "        myVizzu_5a3aba2.parentNode.insertBefore(myVizzu_fffca16, myVizzu_5a3aba2);\n",
       "        return chart.animate({\"config\": {\"channels\": {\"y\": {\"detach\": \"Popularity\"}, \"x\": {\"attach\": \"Popularity\"}}}});\n",
       "    });\n",
       "</script>"
      ]
     },
     "metadata": {},
     "output_type": "display_data"
    },
    {
     "data": {
      "text/html": [
       "<script id=\"myVizzu_8aee626\">\n",
       "    myVizzu_8aee626.parentNode.parentNode.style.display = \"none\";\n",
       "    let snapshot_8aee626;\n",
       "    chart_fffca16 = chart_fffca16.then(chart => {\n",
       "        snapshot_8aee626 = chart.store();\n",
       "        return chart;\n",
       "    });\n",
       "</script>"
      ]
     },
     "metadata": {},
     "output_type": "display_data"
    }
   ],
   "source": [
    "from ipyvizzu import Chart, Data, Config\n",
    "\n",
    "chart = Chart()\n",
    "\n",
    "data = Data.from_json(\"../data/music_example_data.json\")\n",
    "\n",
    "chart.animate(data)\n",
    "\n",
    "chart.animate(Config({\n",
    "    \"channels\": {\n",
    "        \"y\": {\n",
    "            \"set\": \"Popularity\"\n",
    "        }, \n",
    "        \"x\": {\n",
    "            \"set\": \"Genres\"\n",
    "        }\n",
    "    }\n",
    "}))\n",
    "\n",
    "chart.animate(Config({\n",
    "    \"channels\": {\n",
    "        \"y\": {\n",
    "            \"set\": [\"Popularity\", \"Genres\"]\n",
    "        }, \n",
    "        \"x\": {\n",
    "            \"set\": None\n",
    "        }\n",
    "    }\n",
    "}))\n",
    "\n",
    "chart.animate(Config({\n",
    "    \"channels\": {\n",
    "        \"y\": {\n",
    "            \"detach\": \"Popularity\"\n",
    "        }, \n",
    "        \"x\": {\n",
    "            \"attach\": \"Popularity\"\n",
    "        }\n",
    "    }\n",
    "}))\n",
    "\n",
    "snapshot1 = chart.store()"
   ]
  },
  {
   "cell_type": "markdown",
   "id": "86c8b72b",
   "metadata": {},
   "source": [
    "Setting the chart title with the title command."
   ]
  },
  {
   "cell_type": "code",
   "execution_count": 2,
   "id": "e642e113",
   "metadata": {},
   "outputs": [
    {
     "data": {
      "text/html": [
       "<script id=\"myVizzu_f1ec956\">\n",
       "    let display_f1ec956 = myVizzu_f1ec956.parentNode.parentNode.style.display;\n",
       "    myVizzu_f1ec956.parentNode.parentNode.style.display = \"none\";\n",
       "    chart_fffca16 = chart_fffca16.then(chart => {\n",
       "        if (myVizzu_fffca16.parentNode && myVizzu_fffca16.parentNode.parentNode) {\n",
       "            myVizzu_fffca16.parentNode.parentNode.style.display = \"none\";\n",
       "        }\n",
       "        myVizzu_f1ec956.parentNode.parentNode.style.display = display_f1ec956;\n",
       "        myVizzu_f1ec956.parentNode.insertBefore(myVizzu_fffca16, myVizzu_f1ec956);\n",
       "        return chart.animate(snapshot_8aee626);\n",
       "    });\n",
       "</script>"
      ]
     },
     "metadata": {},
     "output_type": "display_data"
    },
    {
     "data": {
      "text/html": [
       "<script id=\"myVizzu_5675873\">\n",
       "    let display_5675873 = myVizzu_5675873.parentNode.parentNode.style.display;\n",
       "    myVizzu_5675873.parentNode.parentNode.style.display = \"none\";\n",
       "    chart_fffca16 = chart_fffca16.then(chart => {\n",
       "        if (myVizzu_fffca16.parentNode && myVizzu_fffca16.parentNode.parentNode) {\n",
       "            myVizzu_fffca16.parentNode.parentNode.style.display = \"none\";\n",
       "        }\n",
       "        myVizzu_5675873.parentNode.parentNode.style.display = display_5675873;\n",
       "        myVizzu_5675873.parentNode.insertBefore(myVizzu_fffca16, myVizzu_5675873);\n",
       "        return chart.animate({\"config\": {\"title\": \"My first chart\"}});\n",
       "    });\n",
       "</script>"
      ]
     },
     "metadata": {},
     "output_type": "display_data"
    },
    {
     "data": {
      "text/html": [
       "<script id=\"myVizzu_77448d4\">\n",
       "    myVizzu_77448d4.parentNode.parentNode.style.display = \"none\";\n",
       "    let snapshot_77448d4;\n",
       "    chart_fffca16 = chart_fffca16.then(chart => {\n",
       "        snapshot_77448d4 = chart.store();\n",
       "        return chart;\n",
       "    });\n",
       "</script>"
      ]
     },
     "metadata": {},
     "output_type": "display_data"
    }
   ],
   "source": [
    "chart.animate(snapshot1)\n",
    "\n",
    "chart.animate(Config({\n",
    "    \"title\": \"My first chart\"\n",
    "}))\n",
    "\n",
    "snapshot2 = chart.store()"
   ]
  },
  {
   "cell_type": "markdown",
   "id": "faee856f",
   "metadata": {},
   "source": [
    "Switching on the tooltips that appear on the chart elements when the user hovers over them with their mouse by adding the (tooltip, true) parameters to the chart.feature method."
   ]
  },
  {
   "cell_type": "code",
   "execution_count": 3,
   "id": "6a541934",
   "metadata": {},
   "outputs": [
    {
     "data": {
      "text/html": [
       "<script id=\"myVizzu_2c31dab\">\n",
       "    let display_2c31dab = myVizzu_2c31dab.parentNode.parentNode.style.display;\n",
       "    myVizzu_2c31dab.parentNode.parentNode.style.display = \"none\";\n",
       "    chart_fffca16 = chart_fffca16.then(chart => {\n",
       "        if (myVizzu_fffca16.parentNode && myVizzu_fffca16.parentNode.parentNode) {\n",
       "            myVizzu_fffca16.parentNode.parentNode.style.display = \"none\";\n",
       "        }\n",
       "        myVizzu_2c31dab.parentNode.parentNode.style.display = display_2c31dab;\n",
       "        myVizzu_2c31dab.parentNode.insertBefore(myVizzu_fffca16, myVizzu_2c31dab);\n",
       "        return chart.animate(snapshot_77448d4);\n",
       "    });\n",
       "</script>"
      ]
     },
     "metadata": {},
     "output_type": "display_data"
    },
    {
     "data": {
      "text/html": [
       "<script id=\"myVizzu_6730ef8\">\n",
       "    myVizzu_6730ef8.parentNode.parentNode.style.display = \"none\";\n",
       "    chart_fffca16 = chart_fffca16.then(chart => {\n",
       "        chart.feature(\"tooltip\", true);\n",
       "        return chart;\n",
       "    });\n",
       "</script>"
      ]
     },
     "metadata": {},
     "output_type": "display_data"
    }
   ],
   "source": [
    "chart.animate(snapshot2)\n",
    "\n",
    "chart.feature(\"tooltip\", True)"
   ]
  }
 ],
 "metadata": {
  "kernelspec": {
   "display_name": "Python 3 (ipykernel)",
   "language": "python",
   "name": "python3"
  },
  "language_info": {
   "codemirror_mode": {
    "name": "ipython",
    "version": 3
   },
   "file_extension": ".py",
   "mimetype": "text/x-python",
   "name": "python",
   "nbconvert_exporter": "python",
   "pygments_lexer": "ipython3",
   "version": "3.8.10"
  }
 },
 "nbformat": 4,
 "nbformat_minor": 5
}
