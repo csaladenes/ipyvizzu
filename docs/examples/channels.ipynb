{
 "cells": [
  {
   "cell_type": "markdown",
   "id": "22efdcb5",
   "metadata": {},
   "source": [
    "## Channels & legend\n",
    "\n",
    "Besides the x-axis and the y-axis, there are five more channels in Vizzu you can use to visualize your data. Similarly to the axes you can put any number of dimensions and/or one measure to a channel. In the following example the four most commonly used channels are shown. The fifth, noop channel is introduced later in the Without coordinates & noop channel chapter.\n",
    "\n",
    "Data on the label channel will be written on the markers on the chart. Vizzu automatically determines the best way to position these labels, but you can set them differently with the style object introduced in the Color palette & fonts chapter."
   ]
  },
  {
   "cell_type": "code",
   "execution_count": 1,
   "id": "3a2e88db",
   "metadata": {},
   "outputs": [
    {
     "data": {
      "text/html": [
       "<script id=\"myVizzu_cac0a3f\">\n",
       "    myVizzu_cac0a3f.parentNode.parentNode.style.display = \"none\";\n",
       "    let myVizzu_fe4ef3d = document.createElement(\"div\");\n",
       "    myVizzu_fe4ef3d.style.cssText = \"width: 800px; height: 480px;\";\n",
       "    let chart_fe4ef3d = import(\"https://cdn.jsdelivr.net/npm/vizzu@~0.4.0/dist/vizzu.min.js\").then(Vizzu => new Vizzu.default(myVizzu_fe4ef3d).initializing);\n",
       "</script>"
      ]
     },
     "metadata": {},
     "output_type": "display_data"
    },
    {
     "data": {
      "text/html": [
       "<script id=\"myVizzu_996ff26\">\n",
       "    let display_996ff26 = myVizzu_996ff26.parentNode.parentNode.style.display;\n",
       "    myVizzu_996ff26.parentNode.parentNode.style.display = \"none\";\n",
       "    chart_fe4ef3d = chart_fe4ef3d.then(chart => {\n",
       "        if (myVizzu_fe4ef3d.parentNode && myVizzu_fe4ef3d.parentNode.parentNode) {\n",
       "            myVizzu_fe4ef3d.parentNode.parentNode.style.display = \"none\";\n",
       "        }\n",
       "        myVizzu_996ff26.parentNode.parentNode.style.display = display_996ff26;\n",
       "        myVizzu_996ff26.parentNode.insertBefore(myVizzu_fe4ef3d, myVizzu_996ff26);\n",
       "        return chart.animate({\"data\": {\"dimensions\": [{\"name\": \"Genres\", \"values\": [\"Pop\", \"Rock\", \"Jazz\", \"Metal\"]}, {\"name\": \"Types\", \"values\": [\"Hard\", \"Smooth\", \"Experimental\"]}], \"measures\": [{\"name\": \"Popularity\", \"values\": [[114, 96, 78, 52], [56, 36, 174, 121], [127, 83, 94, 58]]}]}});\n",
       "    });\n",
       "</script>"
      ]
     },
     "metadata": {},
     "output_type": "display_data"
    },
    {
     "data": {
      "text/html": [
       "<script id=\"myVizzu_a136a8a\">\n",
       "    let display_a136a8a = myVizzu_a136a8a.parentNode.parentNode.style.display;\n",
       "    myVizzu_a136a8a.parentNode.parentNode.style.display = \"none\";\n",
       "    chart_fe4ef3d = chart_fe4ef3d.then(chart => {\n",
       "        if (myVizzu_fe4ef3d.parentNode && myVizzu_fe4ef3d.parentNode.parentNode) {\n",
       "            myVizzu_fe4ef3d.parentNode.parentNode.style.display = \"none\";\n",
       "        }\n",
       "        myVizzu_a136a8a.parentNode.parentNode.style.display = display_a136a8a;\n",
       "        myVizzu_a136a8a.parentNode.insertBefore(myVizzu_fe4ef3d, myVizzu_a136a8a);\n",
       "        return chart.animate({\"config\": {\"channels\": {\"y\": {\"set\": \"Popularity\"}, \"x\": {\"set\": \"Genres\"}}, \"title\": \"Label\"}});\n",
       "    });\n",
       "</script>"
      ]
     },
     "metadata": {},
     "output_type": "display_data"
    },
    {
     "data": {
      "text/html": [
       "<script id=\"myVizzu_0d0e6ec\">\n",
       "    let display_0d0e6ec = myVizzu_0d0e6ec.parentNode.parentNode.style.display;\n",
       "    myVizzu_0d0e6ec.parentNode.parentNode.style.display = \"none\";\n",
       "    chart_fe4ef3d = chart_fe4ef3d.then(chart => {\n",
       "        if (myVizzu_fe4ef3d.parentNode && myVizzu_fe4ef3d.parentNode.parentNode) {\n",
       "            myVizzu_fe4ef3d.parentNode.parentNode.style.display = \"none\";\n",
       "        }\n",
       "        myVizzu_0d0e6ec.parentNode.parentNode.style.display = display_0d0e6ec;\n",
       "        myVizzu_0d0e6ec.parentNode.insertBefore(myVizzu_fe4ef3d, myVizzu_0d0e6ec);\n",
       "        return chart.animate({\"config\": {\"channels\": {\"label\": {\"attach\": \"Popularity\"}}}});\n",
       "    });\n",
       "</script>"
      ]
     },
     "metadata": {},
     "output_type": "display_data"
    },
    {
     "data": {
      "text/html": [
       "<script id=\"myVizzu_0862848\">\n",
       "    myVizzu_0862848.parentNode.parentNode.style.display = \"none\";\n",
       "    let snapshot_0862848;\n",
       "    chart_fe4ef3d = chart_fe4ef3d.then(chart => {\n",
       "        snapshot_0862848 = chart.store();\n",
       "        return chart;\n",
       "    });\n",
       "</script>"
      ]
     },
     "metadata": {},
     "output_type": "display_data"
    }
   ],
   "source": [
    "from ipyvizzu import Chart, Data, Config\n",
    "\n",
    "chart = Chart()\n",
    "\n",
    "data = Data.from_json(\"../data/music_example_data.json\")\n",
    "\n",
    "chart.animate(data)\n",
    "\n",
    "chart.animate(Config({\n",
    "    \"channels\": {\n",
    "        \"y\": {\n",
    "            \"set\": \"Popularity\"\n",
    "        }, \n",
    "        \"x\": {\n",
    "            \"set\": \"Genres\"\n",
    "        }\n",
    "    }, \n",
    "    \"title\": \"Label\"\n",
    "}))\n",
    "\n",
    "chart.animate(Config({\n",
    "    \"channels\": {\n",
    "        \"label\": {\n",
    "            \"attach\": \"Popularity\"\n",
    "        }\n",
    "    }\n",
    "}))\n",
    "\n",
    "snapshot1 = chart.store()"
   ]
  },
  {
   "cell_type": "markdown",
   "id": "077a2b92",
   "metadata": {},
   "source": [
    "The lightness channel sets the lightness of the markers. In this case the same measure (Popularity) is added to it that is on the y-axis, meaning that columns’ height and lightness represent the same values. The legend for the lightness channel is turned on using the legend property.\n",
    "\n",
    "Note: This is an example when we explicitly instruct Vizzu to show the legend. By default Vizzu automatically shows/hides the legend when it's necessary. You can also turn it off with the legend : null command or set back to automatic mode with legend : 'auto'."
   ]
  },
  {
   "cell_type": "code",
   "execution_count": 2,
   "id": "2b42bdfd",
   "metadata": {},
   "outputs": [
    {
     "data": {
      "text/html": [
       "<script id=\"myVizzu_2fc4d08\">\n",
       "    let display_2fc4d08 = myVizzu_2fc4d08.parentNode.parentNode.style.display;\n",
       "    myVizzu_2fc4d08.parentNode.parentNode.style.display = \"none\";\n",
       "    chart_fe4ef3d = chart_fe4ef3d.then(chart => {\n",
       "        if (myVizzu_fe4ef3d.parentNode && myVizzu_fe4ef3d.parentNode.parentNode) {\n",
       "            myVizzu_fe4ef3d.parentNode.parentNode.style.display = \"none\";\n",
       "        }\n",
       "        myVizzu_2fc4d08.parentNode.parentNode.style.display = display_2fc4d08;\n",
       "        myVizzu_2fc4d08.parentNode.insertBefore(myVizzu_fe4ef3d, myVizzu_2fc4d08);\n",
       "        return chart.animate(snapshot_0862848);\n",
       "    });\n",
       "</script>"
      ]
     },
     "metadata": {},
     "output_type": "display_data"
    },
    {
     "data": {
      "text/html": [
       "<script id=\"myVizzu_6bbc164\">\n",
       "    let display_6bbc164 = myVizzu_6bbc164.parentNode.parentNode.style.display;\n",
       "    myVizzu_6bbc164.parentNode.parentNode.style.display = \"none\";\n",
       "    chart_fe4ef3d = chart_fe4ef3d.then(chart => {\n",
       "        if (myVizzu_fe4ef3d.parentNode && myVizzu_fe4ef3d.parentNode.parentNode) {\n",
       "            myVizzu_fe4ef3d.parentNode.parentNode.style.display = \"none\";\n",
       "        }\n",
       "        myVizzu_6bbc164.parentNode.parentNode.style.display = display_6bbc164;\n",
       "        myVizzu_6bbc164.parentNode.insertBefore(myVizzu_fe4ef3d, myVizzu_6bbc164);\n",
       "        return chart.animate({\"config\": {\"title\": \"Lightness - legend on\"}});\n",
       "    });\n",
       "</script>"
      ]
     },
     "metadata": {},
     "output_type": "display_data"
    },
    {
     "data": {
      "text/html": [
       "<script id=\"myVizzu_73ff589\">\n",
       "    let display_73ff589 = myVizzu_73ff589.parentNode.parentNode.style.display;\n",
       "    myVizzu_73ff589.parentNode.parentNode.style.display = \"none\";\n",
       "    chart_fe4ef3d = chart_fe4ef3d.then(chart => {\n",
       "        if (myVizzu_fe4ef3d.parentNode && myVizzu_fe4ef3d.parentNode.parentNode) {\n",
       "            myVizzu_fe4ef3d.parentNode.parentNode.style.display = \"none\";\n",
       "        }\n",
       "        myVizzu_73ff589.parentNode.parentNode.style.display = display_73ff589;\n",
       "        myVizzu_73ff589.parentNode.insertBefore(myVizzu_fe4ef3d, myVizzu_73ff589);\n",
       "        return chart.animate({\"config\": {\"channels\": {\"lightness\": {\"attach\": \"Popularity\"}}, \"legend\": \"lightness\"}});\n",
       "    });\n",
       "</script>"
      ]
     },
     "metadata": {},
     "output_type": "display_data"
    },
    {
     "data": {
      "text/html": [
       "<script id=\"myVizzu_8612889\">\n",
       "    myVizzu_8612889.parentNode.parentNode.style.display = \"none\";\n",
       "    let snapshot_8612889;\n",
       "    chart_fe4ef3d = chart_fe4ef3d.then(chart => {\n",
       "        snapshot_8612889 = chart.store();\n",
       "        return chart;\n",
       "    });\n",
       "</script>"
      ]
     },
     "metadata": {},
     "output_type": "display_data"
    }
   ],
   "source": [
    "chart.animate(snapshot1)\n",
    "\n",
    "chart.animate(Config({\"title\": \"Lightness - legend on\"}))\n",
    "\n",
    "chart.animate(Config({\n",
    "    \"channels\": {\n",
    "        \"lightness\": {\n",
    "            \"attach\": \"Popularity\"\n",
    "        }\n",
    "    },\n",
    "    \"legend\": \"lightness\"\n",
    "}))\n",
    "\n",
    "snapshot2 = chart.store()"
   ]
  },
  {
   "cell_type": "markdown",
   "id": "33b46377",
   "metadata": {},
   "source": [
    "The color channel sets the color of the markers. The same dimension (Genres) is put on it that is on the x-axis resulting in each bar having a different color. If a measure is put on the color channel, a color range will be used.\n",
    "\n",
    "Note: The value on the lightness channel is removed in this step as it doesn’t make sense to use it together with the color channel in this case."
   ]
  },
  {
   "cell_type": "code",
   "execution_count": 3,
   "id": "1b4481a7",
   "metadata": {},
   "outputs": [
    {
     "data": {
      "text/html": [
       "<script id=\"myVizzu_accae4f\">\n",
       "    let display_accae4f = myVizzu_accae4f.parentNode.parentNode.style.display;\n",
       "    myVizzu_accae4f.parentNode.parentNode.style.display = \"none\";\n",
       "    chart_fe4ef3d = chart_fe4ef3d.then(chart => {\n",
       "        if (myVizzu_fe4ef3d.parentNode && myVizzu_fe4ef3d.parentNode.parentNode) {\n",
       "            myVizzu_fe4ef3d.parentNode.parentNode.style.display = \"none\";\n",
       "        }\n",
       "        myVizzu_accae4f.parentNode.parentNode.style.display = display_accae4f;\n",
       "        myVizzu_accae4f.parentNode.insertBefore(myVizzu_fe4ef3d, myVizzu_accae4f);\n",
       "        return chart.animate(snapshot_8612889);\n",
       "    });\n",
       "</script>"
      ]
     },
     "metadata": {},
     "output_type": "display_data"
    },
    {
     "data": {
      "text/html": [
       "<script id=\"myVizzu_3d9f373\">\n",
       "    let display_3d9f373 = myVizzu_3d9f373.parentNode.parentNode.style.display;\n",
       "    myVizzu_3d9f373.parentNode.parentNode.style.display = \"none\";\n",
       "    chart_fe4ef3d = chart_fe4ef3d.then(chart => {\n",
       "        if (myVizzu_fe4ef3d.parentNode && myVizzu_fe4ef3d.parentNode.parentNode) {\n",
       "            myVizzu_fe4ef3d.parentNode.parentNode.style.display = \"none\";\n",
       "        }\n",
       "        myVizzu_3d9f373.parentNode.parentNode.style.display = display_3d9f373;\n",
       "        myVizzu_3d9f373.parentNode.insertBefore(myVizzu_fe4ef3d, myVizzu_3d9f373);\n",
       "        return chart.animate({\"config\": {\"title\": \"Color\"}});\n",
       "    });\n",
       "</script>"
      ]
     },
     "metadata": {},
     "output_type": "display_data"
    },
    {
     "data": {
      "text/html": [
       "<script id=\"myVizzu_a8529e9\">\n",
       "    let display_a8529e9 = myVizzu_a8529e9.parentNode.parentNode.style.display;\n",
       "    myVizzu_a8529e9.parentNode.parentNode.style.display = \"none\";\n",
       "    chart_fe4ef3d = chart_fe4ef3d.then(chart => {\n",
       "        if (myVizzu_fe4ef3d.parentNode && myVizzu_fe4ef3d.parentNode.parentNode) {\n",
       "            myVizzu_fe4ef3d.parentNode.parentNode.style.display = \"none\";\n",
       "        }\n",
       "        myVizzu_a8529e9.parentNode.parentNode.style.display = display_a8529e9;\n",
       "        myVizzu_a8529e9.parentNode.insertBefore(myVizzu_fe4ef3d, myVizzu_a8529e9);\n",
       "        return chart.animate({\"config\": {\"channels\": {\"color\": {\"attach\": \"Genres\"}}, \"legend\": \"color\"}});\n",
       "    });\n",
       "</script>"
      ]
     },
     "metadata": {},
     "output_type": "display_data"
    },
    {
     "data": {
      "text/html": [
       "<script id=\"myVizzu_ee7a2f8\">\n",
       "    myVizzu_ee7a2f8.parentNode.parentNode.style.display = \"none\";\n",
       "    let snapshot_ee7a2f8;\n",
       "    chart_fe4ef3d = chart_fe4ef3d.then(chart => {\n",
       "        snapshot_ee7a2f8 = chart.store();\n",
       "        return chart;\n",
       "    });\n",
       "</script>"
      ]
     },
     "metadata": {},
     "output_type": "display_data"
    }
   ],
   "source": [
    "chart.animate(snapshot2)\n",
    "\n",
    "chart.animate(Config({\"title\": \"Color\"}))\n",
    "\n",
    "chart.animate(Config({\n",
    "    \"channels\": {\n",
    "        \"color\": {\n",
    "            \"attach\": \"Genres\"\n",
    "        }\n",
    "    },\n",
    "    \"legend\": \"color\"\n",
    "}))\n",
    "\n",
    "snapshot3 = chart.store()"
   ]
  },
  {
   "cell_type": "markdown",
   "id": "b8d322e5",
   "metadata": {},
   "source": [
    "The size channel sets the size of the markers if the geometry is circle - where size sets the radius of the circles - or line - where size determines line width. It is ignored when using rectangle or area geometry. This is why we change the geometry to circle in the example."
   ]
  },
  {
   "cell_type": "code",
   "execution_count": 4,
   "id": "4d951e6b",
   "metadata": {},
   "outputs": [
    {
     "data": {
      "text/html": [
       "<script id=\"myVizzu_8ccf1d6\">\n",
       "    let display_8ccf1d6 = myVizzu_8ccf1d6.parentNode.parentNode.style.display;\n",
       "    myVizzu_8ccf1d6.parentNode.parentNode.style.display = \"none\";\n",
       "    chart_fe4ef3d = chart_fe4ef3d.then(chart => {\n",
       "        if (myVizzu_fe4ef3d.parentNode && myVizzu_fe4ef3d.parentNode.parentNode) {\n",
       "            myVizzu_fe4ef3d.parentNode.parentNode.style.display = \"none\";\n",
       "        }\n",
       "        myVizzu_8ccf1d6.parentNode.parentNode.style.display = display_8ccf1d6;\n",
       "        myVizzu_8ccf1d6.parentNode.insertBefore(myVizzu_fe4ef3d, myVizzu_8ccf1d6);\n",
       "        return chart.animate(snapshot_ee7a2f8);\n",
       "    });\n",
       "</script>"
      ]
     },
     "metadata": {},
     "output_type": "display_data"
    },
    {
     "data": {
      "text/html": [
       "<script id=\"myVizzu_c145f6d\">\n",
       "    let display_c145f6d = myVizzu_c145f6d.parentNode.parentNode.style.display;\n",
       "    myVizzu_c145f6d.parentNode.parentNode.style.display = \"none\";\n",
       "    chart_fe4ef3d = chart_fe4ef3d.then(chart => {\n",
       "        if (myVizzu_fe4ef3d.parentNode && myVizzu_fe4ef3d.parentNode.parentNode) {\n",
       "            myVizzu_fe4ef3d.parentNode.parentNode.style.display = \"none\";\n",
       "        }\n",
       "        myVizzu_c145f6d.parentNode.parentNode.style.display = display_c145f6d;\n",
       "        myVizzu_c145f6d.parentNode.insertBefore(myVizzu_fe4ef3d, myVizzu_c145f6d);\n",
       "        return chart.animate({\"config\": {\"title\": \"Size - change of geometry required\"}});\n",
       "    });\n",
       "</script>"
      ]
     },
     "metadata": {},
     "output_type": "display_data"
    },
    {
     "data": {
      "text/html": [
       "<script id=\"myVizzu_49e3411\">\n",
       "    let display_49e3411 = myVizzu_49e3411.parentNode.parentNode.style.display;\n",
       "    myVizzu_49e3411.parentNode.parentNode.style.display = \"none\";\n",
       "    chart_fe4ef3d = chart_fe4ef3d.then(chart => {\n",
       "        if (myVizzu_fe4ef3d.parentNode && myVizzu_fe4ef3d.parentNode.parentNode) {\n",
       "            myVizzu_fe4ef3d.parentNode.parentNode.style.display = \"none\";\n",
       "        }\n",
       "        myVizzu_49e3411.parentNode.parentNode.style.display = display_49e3411;\n",
       "        myVizzu_49e3411.parentNode.insertBefore(myVizzu_fe4ef3d, myVizzu_49e3411);\n",
       "        return chart.animate({\"config\": {\"channels\": {\"size\": {\"set\": \"Popularity\"}}, \"geometry\": \"circle\"}});\n",
       "    });\n",
       "</script>"
      ]
     },
     "metadata": {},
     "output_type": "display_data"
    }
   ],
   "source": [
    "chart.animate(snapshot3)\n",
    "\n",
    "chart.animate(Config({\"title\": \"Size - change of geometry required\"}))\n",
    "\n",
    "chart.animate(Config({\n",
    "    \"channels\": {\n",
    "        \"size\": {\n",
    "            \"set\": \"Popularity\"\n",
    "        }\n",
    "    },\n",
    "    \"geometry\": \"circle\"\n",
    "}))"
   ]
  }
 ],
 "metadata": {
  "kernelspec": {
   "display_name": "Python 3 (ipykernel)",
   "language": "python",
   "name": "python3"
  },
  "language_info": {
   "codemirror_mode": {
    "name": "ipython",
    "version": 3
   },
   "file_extension": ".py",
   "mimetype": "text/x-python",
   "name": "python",
   "nbconvert_exporter": "python",
   "pygments_lexer": "ipython3",
   "version": "3.8.10"
  }
 },
 "nbformat": 4,
 "nbformat_minor": 5
}
