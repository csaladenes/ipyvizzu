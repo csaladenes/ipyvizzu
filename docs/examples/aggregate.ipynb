{
 "cells": [
  {
   "cell_type": "markdown",
   "id": "e582c95b",
   "metadata": {},
   "source": [
    "## Aggregate/drill-down\n",
    "\n",
    "These features basically mean that you add or remove an additional dimension to/from an axis or another channel. As you can see below, there are some important things to keep in mind when you use them.\n",
    "\n",
    "Let’s stack together the elements by putting the Genres dimension from the x-axis to the y-axis. At the end of this phase, there are chart elements with the same color stacked on top of each other, which is something you would want to avoid."
   ]
  },
  {
   "cell_type": "code",
   "execution_count": 1,
   "id": "6cae8fe1",
   "metadata": {},
   "outputs": [
    {
     "data": {
      "text/html": [
       "<script id=\"myVizzu_6e1c2c3\">\n",
       "    myVizzu_6e1c2c3.parentNode.parentNode.style.display = \"none\";\n",
       "    let myVizzu_8bbd643 = document.createElement(\"div\");\n",
       "    myVizzu_8bbd643.style.cssText = \"width: 800px; height: 480px;\";\n",
       "    let chart_8bbd643 = import(\"https://cdn.jsdelivr.net/npm/vizzu@~0.4.0/dist/vizzu.min.js\").then(Vizzu => new Vizzu.default(myVizzu_8bbd643).initializing);\n",
       "</script>"
      ]
     },
     "metadata": {},
     "output_type": "display_data"
    },
    {
     "data": {
      "text/html": [
       "<script id=\"myVizzu_4c42eb3\">\n",
       "    let display_4c42eb3 = myVizzu_4c42eb3.parentNode.parentNode.style.display;\n",
       "    myVizzu_4c42eb3.parentNode.parentNode.style.display = \"none\";\n",
       "    chart_8bbd643 = chart_8bbd643.then(chart => {\n",
       "        if (myVizzu_8bbd643.parentNode && myVizzu_8bbd643.parentNode.parentNode) {\n",
       "            myVizzu_8bbd643.parentNode.parentNode.style.display = \"none\";\n",
       "        }\n",
       "        myVizzu_4c42eb3.parentNode.parentNode.style.display = display_4c42eb3;\n",
       "        myVizzu_4c42eb3.parentNode.insertBefore(myVizzu_8bbd643, myVizzu_4c42eb3);\n",
       "        return chart.animate({\"data\": {\"dimensions\": [{\"name\": \"Genres\", \"values\": [\"Pop\", \"Rock\", \"Jazz\", \"Metal\"]}, {\"name\": \"Types\", \"values\": [\"Hard\", \"Smooth\", \"Experimental\"]}], \"measures\": [{\"name\": \"Popularity\", \"values\": [[114, 96, 78, 52], [56, 36, 174, 121], [127, 83, 94, 58]]}]}});\n",
       "    });\n",
       "</script>"
      ]
     },
     "metadata": {},
     "output_type": "display_data"
    },
    {
     "data": {
      "text/html": [
       "<script id=\"myVizzu_750478d\">\n",
       "    let display_750478d = myVizzu_750478d.parentNode.parentNode.style.display;\n",
       "    myVizzu_750478d.parentNode.parentNode.style.display = \"none\";\n",
       "    chart_8bbd643 = chart_8bbd643.then(chart => {\n",
       "        if (myVizzu_8bbd643.parentNode && myVizzu_8bbd643.parentNode.parentNode) {\n",
       "            myVizzu_8bbd643.parentNode.parentNode.style.display = \"none\";\n",
       "        }\n",
       "        myVizzu_750478d.parentNode.parentNode.style.display = display_750478d;\n",
       "        myVizzu_750478d.parentNode.insertBefore(myVizzu_8bbd643, myVizzu_750478d);\n",
       "        return chart.animate({\"config\": {\"channels\": {\"y\": {\"set\": [\"Popularity\", \"Types\"]}, \"x\": {\"set\": \"Genres\"}, \"label\": {\"attach\": \"Popularity\"}}, \"color\": {\"attach\": \"Types\"}, \"title\": \"Stack\"}});\n",
       "    });\n",
       "</script>"
      ]
     },
     "metadata": {},
     "output_type": "display_data"
    },
    {
     "data": {
      "text/html": [
       "<script id=\"myVizzu_b5ea30e\">\n",
       "    let display_b5ea30e = myVizzu_b5ea30e.parentNode.parentNode.style.display;\n",
       "    myVizzu_b5ea30e.parentNode.parentNode.style.display = \"none\";\n",
       "    chart_8bbd643 = chart_8bbd643.then(chart => {\n",
       "        if (myVizzu_8bbd643.parentNode && myVizzu_8bbd643.parentNode.parentNode) {\n",
       "            myVizzu_8bbd643.parentNode.parentNode.style.display = \"none\";\n",
       "        }\n",
       "        myVizzu_b5ea30e.parentNode.parentNode.style.display = display_b5ea30e;\n",
       "        myVizzu_b5ea30e.parentNode.insertBefore(myVizzu_8bbd643, myVizzu_b5ea30e);\n",
       "        return chart.animate({\"config\": {\"channels\": {\"y\": {\"attach\": \"Genres\"}, \"x\": {\"set\": null}}}});\n",
       "    });\n",
       "</script>"
      ]
     },
     "metadata": {},
     "output_type": "display_data"
    },
    {
     "data": {
      "text/html": [
       "<script id=\"myVizzu_463884d\">\n",
       "    myVizzu_463884d.parentNode.parentNode.style.display = \"none\";\n",
       "    let snapshot_463884d;\n",
       "    chart_8bbd643 = chart_8bbd643.then(chart => {\n",
       "        snapshot_463884d = chart.store();\n",
       "        return chart;\n",
       "    });\n",
       "</script>"
      ]
     },
     "metadata": {},
     "output_type": "display_data"
    }
   ],
   "source": [
    "from ipyvizzu import Chart, Data, Config\n",
    "\n",
    "chart = Chart()\n",
    "\n",
    "data = Data.from_json(\"../data/music_example_data.json\")\n",
    "\n",
    "chart.animate(data)\n",
    "\n",
    "chart.animate(Config({\n",
    "    \"channels\": {\n",
    "        \"y\": {\n",
    "            \"set\": [\"Popularity\", \"Types\"]\n",
    "        }, \n",
    "        \"x\": {\n",
    "            \"set\": \"Genres\"\n",
    "        },\n",
    "        \"label\": {\n",
    "            \"attach\": \"Popularity\"\n",
    "        }\n",
    "    },\n",
    "    \"color\": {\n",
    "        \"attach\": \"Types\"\n",
    "    },\n",
    "    \"title\": \"Stack\"\n",
    "}))\n",
    "\n",
    "chart.animate(Config({\n",
    "    \"channels\": {\n",
    "        \"y\": {\n",
    "            \"attach\": \"Genres\",\n",
    "        },\n",
    "        \"x\": {\n",
    "            \"set\": None\n",
    "        }\n",
    "    }\n",
    "}))\n",
    "\n",
    "snapshot1 = chart.store()"
   ]
  },
  {
   "cell_type": "markdown",
   "id": "5f11abdd",
   "metadata": {},
   "source": [
    "By taking the Genres off of the y-axis, only one chart element remains for every color, and Vizzu automatically calculates and shows the aggregate value of the elements.\n",
    "\n",
    "Note: Instead of taking the unwanted dimension down from the chart, Genres could have been added to the lightness channel to differentiate the chart elements."
   ]
  },
  {
   "cell_type": "code",
   "execution_count": 2,
   "id": "fca41144",
   "metadata": {},
   "outputs": [
    {
     "data": {
      "text/html": [
       "<script id=\"myVizzu_2ddbe3e\">\n",
       "    let display_2ddbe3e = myVizzu_2ddbe3e.parentNode.parentNode.style.display;\n",
       "    myVizzu_2ddbe3e.parentNode.parentNode.style.display = \"none\";\n",
       "    chart_8bbd643 = chart_8bbd643.then(chart => {\n",
       "        if (myVizzu_8bbd643.parentNode && myVizzu_8bbd643.parentNode.parentNode) {\n",
       "            myVizzu_8bbd643.parentNode.parentNode.style.display = \"none\";\n",
       "        }\n",
       "        myVizzu_2ddbe3e.parentNode.parentNode.style.display = display_2ddbe3e;\n",
       "        myVizzu_2ddbe3e.parentNode.insertBefore(myVizzu_8bbd643, myVizzu_2ddbe3e);\n",
       "        return chart.animate(snapshot_463884d);\n",
       "    });\n",
       "</script>"
      ]
     },
     "metadata": {},
     "output_type": "display_data"
    },
    {
     "data": {
      "text/html": [
       "<script id=\"myVizzu_ed3acde\">\n",
       "    let display_ed3acde = myVizzu_ed3acde.parentNode.parentNode.style.display;\n",
       "    myVizzu_ed3acde.parentNode.parentNode.style.display = \"none\";\n",
       "    chart_8bbd643 = chart_8bbd643.then(chart => {\n",
       "        if (myVizzu_8bbd643.parentNode && myVizzu_8bbd643.parentNode.parentNode) {\n",
       "            myVizzu_8bbd643.parentNode.parentNode.style.display = \"none\";\n",
       "        }\n",
       "        myVizzu_ed3acde.parentNode.parentNode.style.display = display_ed3acde;\n",
       "        myVizzu_ed3acde.parentNode.insertBefore(myVizzu_8bbd643, myVizzu_ed3acde);\n",
       "        return chart.animate({\"config\": {\"title\": \"Aggregate element\"}});\n",
       "    });\n",
       "</script>"
      ]
     },
     "metadata": {},
     "output_type": "display_data"
    },
    {
     "data": {
      "text/html": [
       "<script id=\"myVizzu_74bb750\">\n",
       "    let display_74bb750 = myVizzu_74bb750.parentNode.parentNode.style.display;\n",
       "    myVizzu_74bb750.parentNode.parentNode.style.display = \"none\";\n",
       "    chart_8bbd643 = chart_8bbd643.then(chart => {\n",
       "        if (myVizzu_8bbd643.parentNode && myVizzu_8bbd643.parentNode.parentNode) {\n",
       "            myVizzu_8bbd643.parentNode.parentNode.style.display = \"none\";\n",
       "        }\n",
       "        myVizzu_74bb750.parentNode.parentNode.style.display = display_74bb750;\n",
       "        myVizzu_74bb750.parentNode.insertBefore(myVizzu_8bbd643, myVizzu_74bb750);\n",
       "        return chart.animate({\"config\": {\"channels\": {\"y\": {\"detach\": \"Genres\"}}}});\n",
       "    });\n",
       "</script>"
      ]
     },
     "metadata": {},
     "output_type": "display_data"
    },
    {
     "data": {
      "text/html": [
       "<script id=\"myVizzu_e7c5f0a\">\n",
       "    myVizzu_e7c5f0a.parentNode.parentNode.style.display = \"none\";\n",
       "    let snapshot_e7c5f0a;\n",
       "    chart_8bbd643 = chart_8bbd643.then(chart => {\n",
       "        snapshot_e7c5f0a = chart.store();\n",
       "        return chart;\n",
       "    });\n",
       "</script>"
      ]
     },
     "metadata": {},
     "output_type": "display_data"
    }
   ],
   "source": [
    "chart.animate(snapshot1)\n",
    "\n",
    "chart.animate(Config({\"title\": \"Aggregate element\"}))\n",
    "\n",
    "chart.animate(Config({\n",
    "    \"channels\": {\n",
    "        \"y\": {\n",
    "            \"detach\": \"Genres\",\n",
    "        },\n",
    "    }\n",
    "}))\n",
    "\n",
    "snapshot2 = chart.store()"
   ]
  },
  {
   "cell_type": "markdown",
   "id": "4782dfe9",
   "metadata": {},
   "source": [
    "To drill-down, the same dimension is put back on the y-axis, which results in a state that we suggest you to only use temporarily when in transition."
   ]
  },
  {
   "cell_type": "code",
   "execution_count": 3,
   "id": "e99596c4",
   "metadata": {},
   "outputs": [
    {
     "data": {
      "text/html": [
       "<script id=\"myVizzu_f029cf6\">\n",
       "    let display_f029cf6 = myVizzu_f029cf6.parentNode.parentNode.style.display;\n",
       "    myVizzu_f029cf6.parentNode.parentNode.style.display = \"none\";\n",
       "    chart_8bbd643 = chart_8bbd643.then(chart => {\n",
       "        if (myVizzu_8bbd643.parentNode && myVizzu_8bbd643.parentNode.parentNode) {\n",
       "            myVizzu_8bbd643.parentNode.parentNode.style.display = \"none\";\n",
       "        }\n",
       "        myVizzu_f029cf6.parentNode.parentNode.style.display = display_f029cf6;\n",
       "        myVizzu_f029cf6.parentNode.insertBefore(myVizzu_8bbd643, myVizzu_f029cf6);\n",
       "        return chart.animate(snapshot_e7c5f0a);\n",
       "    });\n",
       "</script>"
      ]
     },
     "metadata": {},
     "output_type": "display_data"
    },
    {
     "data": {
      "text/html": [
       "<script id=\"myVizzu_7cbe3ff\">\n",
       "    let display_7cbe3ff = myVizzu_7cbe3ff.parentNode.parentNode.style.display;\n",
       "    myVizzu_7cbe3ff.parentNode.parentNode.style.display = \"none\";\n",
       "    chart_8bbd643 = chart_8bbd643.then(chart => {\n",
       "        if (myVizzu_8bbd643.parentNode && myVizzu_8bbd643.parentNode.parentNode) {\n",
       "            myVizzu_8bbd643.parentNode.parentNode.style.display = \"none\";\n",
       "        }\n",
       "        myVizzu_7cbe3ff.parentNode.parentNode.style.display = display_7cbe3ff;\n",
       "        myVizzu_7cbe3ff.parentNode.insertBefore(myVizzu_8bbd643, myVizzu_7cbe3ff);\n",
       "        return chart.animate({\"config\": {\"title\": \"Drill-down\"}});\n",
       "    });\n",
       "</script>"
      ]
     },
     "metadata": {},
     "output_type": "display_data"
    },
    {
     "data": {
      "text/html": [
       "<script id=\"myVizzu_e60294a\">\n",
       "    let display_e60294a = myVizzu_e60294a.parentNode.parentNode.style.display;\n",
       "    myVizzu_e60294a.parentNode.parentNode.style.display = \"none\";\n",
       "    chart_8bbd643 = chart_8bbd643.then(chart => {\n",
       "        if (myVizzu_8bbd643.parentNode && myVizzu_8bbd643.parentNode.parentNode) {\n",
       "            myVizzu_8bbd643.parentNode.parentNode.style.display = \"none\";\n",
       "        }\n",
       "        myVizzu_e60294a.parentNode.parentNode.style.display = display_e60294a;\n",
       "        myVizzu_e60294a.parentNode.insertBefore(myVizzu_8bbd643, myVizzu_e60294a);\n",
       "        return chart.animate({\"config\": {\"channels\": {\"y\": {\"attach\": \"Genres\"}}}});\n",
       "    });\n",
       "</script>"
      ]
     },
     "metadata": {},
     "output_type": "display_data"
    },
    {
     "data": {
      "text/html": [
       "<script id=\"myVizzu_a91b8cb\">\n",
       "    myVizzu_a91b8cb.parentNode.parentNode.style.display = \"none\";\n",
       "    let snapshot_a91b8cb;\n",
       "    chart_8bbd643 = chart_8bbd643.then(chart => {\n",
       "        snapshot_a91b8cb = chart.store();\n",
       "        return chart;\n",
       "    });\n",
       "</script>"
      ]
     },
     "metadata": {},
     "output_type": "display_data"
    }
   ],
   "source": [
    "chart.animate(snapshot2)\n",
    "\n",
    "chart.animate(Config({\"title\": \"Drill-down\"}))\n",
    "\n",
    "chart.animate(Config({\n",
    "    \"channels\": {\n",
    "        \"y\": {\n",
    "            \"attach\": \"Genres\",\n",
    "        },\n",
    "    }\n",
    "}))\n",
    "\n",
    "snapshot3 = chart.store()"
   ]
  },
  {
   "cell_type": "markdown",
   "id": "f971cdc5",
   "metadata": {},
   "source": [
    "We group the elements by putting once again the Genres dimension on the x-axis."
   ]
  },
  {
   "cell_type": "code",
   "execution_count": 4,
   "id": "5735f1e9",
   "metadata": {},
   "outputs": [
    {
     "data": {
      "text/html": [
       "<script id=\"myVizzu_52b74de\">\n",
       "    let display_52b74de = myVizzu_52b74de.parentNode.parentNode.style.display;\n",
       "    myVizzu_52b74de.parentNode.parentNode.style.display = \"none\";\n",
       "    chart_8bbd643 = chart_8bbd643.then(chart => {\n",
       "        if (myVizzu_8bbd643.parentNode && myVizzu_8bbd643.parentNode.parentNode) {\n",
       "            myVizzu_8bbd643.parentNode.parentNode.style.display = \"none\";\n",
       "        }\n",
       "        myVizzu_52b74de.parentNode.parentNode.style.display = display_52b74de;\n",
       "        myVizzu_52b74de.parentNode.insertBefore(myVizzu_8bbd643, myVizzu_52b74de);\n",
       "        return chart.animate(snapshot_a91b8cb);\n",
       "    });\n",
       "</script>"
      ]
     },
     "metadata": {},
     "output_type": "display_data"
    },
    {
     "data": {
      "text/html": [
       "<script id=\"myVizzu_b6292f1\">\n",
       "    let display_b6292f1 = myVizzu_b6292f1.parentNode.parentNode.style.display;\n",
       "    myVizzu_b6292f1.parentNode.parentNode.style.display = \"none\";\n",
       "    chart_8bbd643 = chart_8bbd643.then(chart => {\n",
       "        if (myVizzu_8bbd643.parentNode && myVizzu_8bbd643.parentNode.parentNode) {\n",
       "            myVizzu_8bbd643.parentNode.parentNode.style.display = \"none\";\n",
       "        }\n",
       "        myVizzu_b6292f1.parentNode.parentNode.style.display = display_b6292f1;\n",
       "        myVizzu_b6292f1.parentNode.insertBefore(myVizzu_8bbd643, myVizzu_b6292f1);\n",
       "        return chart.animate({\"config\": {\"title\": \"Group\"}});\n",
       "    });\n",
       "</script>"
      ]
     },
     "metadata": {},
     "output_type": "display_data"
    },
    {
     "data": {
      "text/html": [
       "<script id=\"myVizzu_6ab33f2\">\n",
       "    let display_6ab33f2 = myVizzu_6ab33f2.parentNode.parentNode.style.display;\n",
       "    myVizzu_6ab33f2.parentNode.parentNode.style.display = \"none\";\n",
       "    chart_8bbd643 = chart_8bbd643.then(chart => {\n",
       "        if (myVizzu_8bbd643.parentNode && myVizzu_8bbd643.parentNode.parentNode) {\n",
       "            myVizzu_8bbd643.parentNode.parentNode.style.display = \"none\";\n",
       "        }\n",
       "        myVizzu_6ab33f2.parentNode.parentNode.style.display = display_6ab33f2;\n",
       "        myVizzu_6ab33f2.parentNode.insertBefore(myVizzu_8bbd643, myVizzu_6ab33f2);\n",
       "        return chart.animate({\"config\": {\"channels\": {\"y\": {\"detach\": \"Genres\"}, \"x\": {\"set\": \"Genres\"}}}});\n",
       "    });\n",
       "</script>"
      ]
     },
     "metadata": {},
     "output_type": "display_data"
    }
   ],
   "source": [
    "chart.animate(snapshot3)\n",
    "\n",
    "chart.animate(Config({\"title\": \"Group\"}))\n",
    "\n",
    "chart.animate(Config({\n",
    "    \"channels\": {\n",
    "        \"y\": {\n",
    "            \"detach\": \"Genres\",\n",
    "        },\n",
    "        \"x\": {\n",
    "            \"set\": \"Genres\",\n",
    "        }\n",
    "    }\n",
    "}))"
   ]
  }
 ],
 "metadata": {
  "kernelspec": {
   "display_name": "Python 3 (ipykernel)",
   "language": "python",
   "name": "python3"
  },
  "language_info": {
   "codemirror_mode": {
    "name": "ipython",
    "version": 3
   },
   "file_extension": ".py",
   "mimetype": "text/x-python",
   "name": "python",
   "nbconvert_exporter": "python",
   "pygments_lexer": "ipython3",
   "version": "3.8.10"
  }
 },
 "nbformat": 4,
 "nbformat_minor": 5
}
