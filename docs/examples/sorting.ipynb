{
 "cells": [
  {
   "cell_type": "markdown",
   "id": "072921f4",
   "metadata": {},
   "source": [
    "## Sorting\n",
    "\n",
    "Vizzu provides multiple options to sort data. By default, the data is sorted by the order it is added to Vizzu. This is why we suggest to add temporal data such as dates in chronological order - from oldest to newest.\n",
    "\n",
    "You can also sort the elements by value, which will provide you with an ascending order."
   ]
  },
  {
   "cell_type": "code",
   "execution_count": 1,
   "id": "200f66d2",
   "metadata": {},
   "outputs": [
    {
     "data": {
      "text/html": [
       "<script id=\"myVizzu_3a2792c\">\n",
       "    myVizzu_3a2792c.parentNode.parentNode.style.display = \"none\";\n",
       "    let myVizzu_2bc1dfb = document.createElement(\"div\");\n",
       "    myVizzu_2bc1dfb.style.cssText = \"width: 800px; height: 480px;\";\n",
       "    let chart_2bc1dfb = import(\"https://cdn.jsdelivr.net/npm/vizzu@~0.4.0/dist/vizzu.min.js\").then(Vizzu => new Vizzu.default(myVizzu_2bc1dfb).initializing);\n",
       "</script>"
      ]
     },
     "metadata": {},
     "output_type": "display_data"
    },
    {
     "data": {
      "text/html": [
       "<script id=\"myVizzu_eb678bb\">\n",
       "    let display_eb678bb = myVizzu_eb678bb.parentNode.parentNode.style.display;\n",
       "    myVizzu_eb678bb.parentNode.parentNode.style.display = \"none\";\n",
       "    chart_2bc1dfb = chart_2bc1dfb.then(chart => {\n",
       "        if (myVizzu_2bc1dfb.parentNode && myVizzu_2bc1dfb.parentNode.parentNode) {\n",
       "            myVizzu_2bc1dfb.parentNode.parentNode.style.display = \"none\";\n",
       "        }\n",
       "        myVizzu_eb678bb.parentNode.parentNode.style.display = display_eb678bb;\n",
       "        myVizzu_eb678bb.parentNode.insertBefore(myVizzu_2bc1dfb, myVizzu_eb678bb);\n",
       "        return chart.animate({\"data\": {\"dimensions\": [{\"name\": \"Genres\", \"values\": [\"Pop\", \"Rock\", \"Jazz\", \"Metal\"]}, {\"name\": \"Types\", \"values\": [\"Hard\", \"Smooth\", \"Experimental\"]}], \"measures\": [{\"name\": \"Popularity\", \"values\": [[114, 96, 78, 52], [56, 36, 174, 121], [127, 83, 94, 58]]}]}});\n",
       "    });\n",
       "</script>"
      ]
     },
     "metadata": {},
     "output_type": "display_data"
    },
    {
     "data": {
      "text/html": [
       "<script id=\"myVizzu_9e86e24\">\n",
       "    let display_9e86e24 = myVizzu_9e86e24.parentNode.parentNode.style.display;\n",
       "    myVizzu_9e86e24.parentNode.parentNode.style.display = \"none\";\n",
       "    chart_2bc1dfb = chart_2bc1dfb.then(chart => {\n",
       "        if (myVizzu_2bc1dfb.parentNode && myVizzu_2bc1dfb.parentNode.parentNode) {\n",
       "            myVizzu_2bc1dfb.parentNode.parentNode.style.display = \"none\";\n",
       "        }\n",
       "        myVizzu_9e86e24.parentNode.parentNode.style.display = display_9e86e24;\n",
       "        myVizzu_9e86e24.parentNode.insertBefore(myVizzu_2bc1dfb, myVizzu_9e86e24);\n",
       "        return chart.animate({\"config\": {\"channels\": {\"y\": {\"set\": [\"Popularity\", \"Types\"]}, \"x\": {\"set\": \"Genres\"}, \"label\": {\"attach\": \"Popularity\"}}, \"color\": {\"attach\": \"Types\"}, \"title\": \"Switch to ascending order...\"}});\n",
       "    });\n",
       "</script>"
      ]
     },
     "metadata": {},
     "output_type": "display_data"
    },
    {
     "data": {
      "text/html": [
       "<script id=\"myVizzu_8f05c78\">\n",
       "    let display_8f05c78 = myVizzu_8f05c78.parentNode.parentNode.style.display;\n",
       "    myVizzu_8f05c78.parentNode.parentNode.style.display = \"none\";\n",
       "    chart_2bc1dfb = chart_2bc1dfb.then(chart => {\n",
       "        if (myVizzu_2bc1dfb.parentNode && myVizzu_2bc1dfb.parentNode.parentNode) {\n",
       "            myVizzu_2bc1dfb.parentNode.parentNode.style.display = \"none\";\n",
       "        }\n",
       "        myVizzu_8f05c78.parentNode.parentNode.style.display = display_8f05c78;\n",
       "        myVizzu_8f05c78.parentNode.insertBefore(myVizzu_2bc1dfb, myVizzu_8f05c78);\n",
       "        return chart.animate({\"config\": {\"sort\": \"byValue\"}});\n",
       "    });\n",
       "</script>"
      ]
     },
     "metadata": {},
     "output_type": "display_data"
    },
    {
     "data": {
      "text/html": [
       "<script id=\"myVizzu_27643eb\">\n",
       "    myVizzu_27643eb.parentNode.parentNode.style.display = \"none\";\n",
       "    let snapshot_27643eb;\n",
       "    chart_2bc1dfb = chart_2bc1dfb.then(chart => {\n",
       "        snapshot_27643eb = chart.store();\n",
       "        return chart;\n",
       "    });\n",
       "</script>"
      ]
     },
     "metadata": {},
     "output_type": "display_data"
    }
   ],
   "source": [
    "from ipyvizzu import Chart, Data, Config\n",
    "\n",
    "chart = Chart()\n",
    "\n",
    "data = Data.from_json(\"../data/music_example_data.json\")\n",
    "\n",
    "chart.animate(data)\n",
    "\n",
    "chart.animate(Config({\n",
    "    \"channels\": {\n",
    "        \"y\": {\n",
    "            \"set\": [\"Popularity\", \"Types\"]\n",
    "        }, \n",
    "        \"x\": {\n",
    "            \"set\": \"Genres\"\n",
    "        },\n",
    "        \"label\": {\n",
    "            \"attach\": \"Popularity\"\n",
    "        }\n",
    "    },\n",
    "    \"color\": {\n",
    "        \"attach\": \"Types\"\n",
    "    },\n",
    "    \"title\": \"Switch to ascending order...\"\n",
    "}))\n",
    "\n",
    "chart.animate(Config({\n",
    "    \"sort\": \"byValue\",\n",
    "}))\n",
    "\n",
    "snapshot1 = chart.store()"
   ]
  },
  {
   "cell_type": "markdown",
   "id": "c6736370",
   "metadata": {},
   "source": [
    "If you want descending order instead, you have to set the reverse parameter to true. When used without setting the sorting to byValue, the elements will be in the opposite order than they are in the data set added to Vizzu."
   ]
  },
  {
   "cell_type": "code",
   "execution_count": 2,
   "id": "acf4a7d9",
   "metadata": {},
   "outputs": [
    {
     "data": {
      "text/html": [
       "<script id=\"myVizzu_9bd6d13\">\n",
       "    let display_9bd6d13 = myVizzu_9bd6d13.parentNode.parentNode.style.display;\n",
       "    myVizzu_9bd6d13.parentNode.parentNode.style.display = \"none\";\n",
       "    chart_2bc1dfb = chart_2bc1dfb.then(chart => {\n",
       "        if (myVizzu_2bc1dfb.parentNode && myVizzu_2bc1dfb.parentNode.parentNode) {\n",
       "            myVizzu_2bc1dfb.parentNode.parentNode.style.display = \"none\";\n",
       "        }\n",
       "        myVizzu_9bd6d13.parentNode.parentNode.style.display = display_9bd6d13;\n",
       "        myVizzu_9bd6d13.parentNode.insertBefore(myVizzu_2bc1dfb, myVizzu_9bd6d13);\n",
       "        return chart.animate(snapshot_27643eb);\n",
       "    });\n",
       "</script>"
      ]
     },
     "metadata": {},
     "output_type": "display_data"
    },
    {
     "data": {
      "text/html": [
       "<script id=\"myVizzu_f5dd6cf\">\n",
       "    let display_f5dd6cf = myVizzu_f5dd6cf.parentNode.parentNode.style.display;\n",
       "    myVizzu_f5dd6cf.parentNode.parentNode.style.display = \"none\";\n",
       "    chart_2bc1dfb = chart_2bc1dfb.then(chart => {\n",
       "        if (myVizzu_2bc1dfb.parentNode && myVizzu_2bc1dfb.parentNode.parentNode) {\n",
       "            myVizzu_2bc1dfb.parentNode.parentNode.style.display = \"none\";\n",
       "        }\n",
       "        myVizzu_f5dd6cf.parentNode.parentNode.style.display = display_f5dd6cf;\n",
       "        myVizzu_f5dd6cf.parentNode.insertBefore(myVizzu_2bc1dfb, myVizzu_f5dd6cf);\n",
       "        return chart.animate({\"config\": {\"title\": \"...or descending order.\"}});\n",
       "    });\n",
       "</script>"
      ]
     },
     "metadata": {},
     "output_type": "display_data"
    },
    {
     "data": {
      "text/html": [
       "<script id=\"myVizzu_01d8cc6\">\n",
       "    let display_01d8cc6 = myVizzu_01d8cc6.parentNode.parentNode.style.display;\n",
       "    myVizzu_01d8cc6.parentNode.parentNode.style.display = \"none\";\n",
       "    chart_2bc1dfb = chart_2bc1dfb.then(chart => {\n",
       "        if (myVizzu_2bc1dfb.parentNode && myVizzu_2bc1dfb.parentNode.parentNode) {\n",
       "            myVizzu_2bc1dfb.parentNode.parentNode.style.display = \"none\";\n",
       "        }\n",
       "        myVizzu_01d8cc6.parentNode.parentNode.style.display = display_01d8cc6;\n",
       "        myVizzu_01d8cc6.parentNode.insertBefore(myVizzu_2bc1dfb, myVizzu_01d8cc6);\n",
       "        return chart.animate({\"config\": {\"reverse\": true}});\n",
       "    });\n",
       "</script>"
      ]
     },
     "metadata": {},
     "output_type": "display_data"
    },
    {
     "data": {
      "text/html": [
       "<script id=\"myVizzu_26cc029\">\n",
       "    myVizzu_26cc029.parentNode.parentNode.style.display = \"none\";\n",
       "    let snapshot_26cc029;\n",
       "    chart_2bc1dfb = chart_2bc1dfb.then(chart => {\n",
       "        snapshot_26cc029 = chart.store();\n",
       "        return chart;\n",
       "    });\n",
       "</script>"
      ]
     },
     "metadata": {},
     "output_type": "display_data"
    }
   ],
   "source": [
    "chart.animate(snapshot1)\n",
    "\n",
    "chart.animate(Config({\"title\": \"...or descending order.\"}))\n",
    "\n",
    "chart.animate(Config({\n",
    "    \"reverse\": True,\n",
    "}))\n",
    "\n",
    "snapshot2 = chart.store()"
   ]
  },
  {
   "cell_type": "markdown",
   "id": "527bc690",
   "metadata": {},
   "source": [
    "This is how to switch back to the default sorting."
   ]
  },
  {
   "cell_type": "code",
   "execution_count": 3,
   "id": "a18b8749",
   "metadata": {},
   "outputs": [
    {
     "data": {
      "text/html": [
       "<script id=\"myVizzu_80cbd04\">\n",
       "    let display_80cbd04 = myVizzu_80cbd04.parentNode.parentNode.style.display;\n",
       "    myVizzu_80cbd04.parentNode.parentNode.style.display = \"none\";\n",
       "    chart_2bc1dfb = chart_2bc1dfb.then(chart => {\n",
       "        if (myVizzu_2bc1dfb.parentNode && myVizzu_2bc1dfb.parentNode.parentNode) {\n",
       "            myVizzu_2bc1dfb.parentNode.parentNode.style.display = \"none\";\n",
       "        }\n",
       "        myVizzu_80cbd04.parentNode.parentNode.style.display = display_80cbd04;\n",
       "        myVizzu_80cbd04.parentNode.insertBefore(myVizzu_2bc1dfb, myVizzu_80cbd04);\n",
       "        return chart.animate(snapshot_26cc029);\n",
       "    });\n",
       "</script>"
      ]
     },
     "metadata": {},
     "output_type": "display_data"
    },
    {
     "data": {
      "text/html": [
       "<script id=\"myVizzu_18dde20\">\n",
       "    let display_18dde20 = myVizzu_18dde20.parentNode.parentNode.style.display;\n",
       "    myVizzu_18dde20.parentNode.parentNode.style.display = \"none\";\n",
       "    chart_2bc1dfb = chart_2bc1dfb.then(chart => {\n",
       "        if (myVizzu_2bc1dfb.parentNode && myVizzu_2bc1dfb.parentNode.parentNode) {\n",
       "            myVizzu_2bc1dfb.parentNode.parentNode.style.display = \"none\";\n",
       "        }\n",
       "        myVizzu_18dde20.parentNode.parentNode.style.display = display_18dde20;\n",
       "        myVizzu_18dde20.parentNode.insertBefore(myVizzu_2bc1dfb, myVizzu_18dde20);\n",
       "        return chart.animate({\"config\": {\"title\": \"Let's get back to where we were\"}});\n",
       "    });\n",
       "</script>"
      ]
     },
     "metadata": {},
     "output_type": "display_data"
    },
    {
     "data": {
      "text/html": [
       "<script id=\"myVizzu_1b3a863\">\n",
       "    let display_1b3a863 = myVizzu_1b3a863.parentNode.parentNode.style.display;\n",
       "    myVizzu_1b3a863.parentNode.parentNode.style.display = \"none\";\n",
       "    chart_2bc1dfb = chart_2bc1dfb.then(chart => {\n",
       "        if (myVizzu_2bc1dfb.parentNode && myVizzu_2bc1dfb.parentNode.parentNode) {\n",
       "            myVizzu_2bc1dfb.parentNode.parentNode.style.display = \"none\";\n",
       "        }\n",
       "        myVizzu_1b3a863.parentNode.parentNode.style.display = display_1b3a863;\n",
       "        myVizzu_1b3a863.parentNode.insertBefore(myVizzu_2bc1dfb, myVizzu_1b3a863);\n",
       "        return chart.animate({\"config\": {\"sort\": \"none\", \"reverse\": false}});\n",
       "    });\n",
       "</script>"
      ]
     },
     "metadata": {},
     "output_type": "display_data"
    },
    {
     "data": {
      "text/html": [
       "<script id=\"myVizzu_4774c20\">\n",
       "    myVizzu_4774c20.parentNode.parentNode.style.display = \"none\";\n",
       "    let snapshot_4774c20;\n",
       "    chart_2bc1dfb = chart_2bc1dfb.then(chart => {\n",
       "        snapshot_4774c20 = chart.store();\n",
       "        return chart;\n",
       "    });\n",
       "</script>"
      ]
     },
     "metadata": {},
     "output_type": "display_data"
    }
   ],
   "source": [
    "chart.animate(snapshot2)\n",
    "\n",
    "chart.animate(Config({\"title\": \"Let's get back to where we were\"}))\n",
    "\n",
    "chart.animate(Config({\n",
    "    \"sort\": \"none\",\n",
    "    \"reverse\": False,\n",
    "}))\n",
    "\n",
    "snapshot3 = chart.store()"
   ]
  },
  {
   "cell_type": "markdown",
   "id": "eae56a59",
   "metadata": {},
   "source": [
    "When you have more than one dimension on a channel, their order determines how the elements are grouped."
   ]
  },
  {
   "cell_type": "code",
   "execution_count": 4,
   "id": "8fdbb27b",
   "metadata": {},
   "outputs": [
    {
     "data": {
      "text/html": [
       "<script id=\"myVizzu_07c770a\">\n",
       "    let display_07c770a = myVizzu_07c770a.parentNode.parentNode.style.display;\n",
       "    myVizzu_07c770a.parentNode.parentNode.style.display = \"none\";\n",
       "    chart_2bc1dfb = chart_2bc1dfb.then(chart => {\n",
       "        if (myVizzu_2bc1dfb.parentNode && myVizzu_2bc1dfb.parentNode.parentNode) {\n",
       "            myVizzu_2bc1dfb.parentNode.parentNode.style.display = \"none\";\n",
       "        }\n",
       "        myVizzu_07c770a.parentNode.parentNode.style.display = display_07c770a;\n",
       "        myVizzu_07c770a.parentNode.insertBefore(myVizzu_2bc1dfb, myVizzu_07c770a);\n",
       "        return chart.animate(snapshot_4774c20);\n",
       "    });\n",
       "</script>"
      ]
     },
     "metadata": {},
     "output_type": "display_data"
    },
    {
     "data": {
      "text/html": [
       "<script id=\"myVizzu_791c074\">\n",
       "    let display_791c074 = myVizzu_791c074.parentNode.parentNode.style.display;\n",
       "    myVizzu_791c074.parentNode.parentNode.style.display = \"none\";\n",
       "    chart_2bc1dfb = chart_2bc1dfb.then(chart => {\n",
       "        if (myVizzu_2bc1dfb.parentNode && myVizzu_2bc1dfb.parentNode.parentNode) {\n",
       "            myVizzu_2bc1dfb.parentNode.parentNode.style.display = \"none\";\n",
       "        }\n",
       "        myVizzu_791c074.parentNode.parentNode.style.display = display_791c074;\n",
       "        myVizzu_791c074.parentNode.insertBefore(myVizzu_2bc1dfb, myVizzu_791c074);\n",
       "        return chart.animate({\"config\": {\"title\": \"With two discretes on one axis...\"}});\n",
       "    });\n",
       "</script>"
      ]
     },
     "metadata": {},
     "output_type": "display_data"
    },
    {
     "data": {
      "text/html": [
       "<script id=\"myVizzu_8dacf75\">\n",
       "    let display_8dacf75 = myVizzu_8dacf75.parentNode.parentNode.style.display;\n",
       "    myVizzu_8dacf75.parentNode.parentNode.style.display = \"none\";\n",
       "    chart_2bc1dfb = chart_2bc1dfb.then(chart => {\n",
       "        if (myVizzu_2bc1dfb.parentNode && myVizzu_2bc1dfb.parentNode.parentNode) {\n",
       "            myVizzu_2bc1dfb.parentNode.parentNode.style.display = \"none\";\n",
       "        }\n",
       "        myVizzu_8dacf75.parentNode.parentNode.style.display = display_8dacf75;\n",
       "        myVizzu_8dacf75.parentNode.insertBefore(myVizzu_2bc1dfb, myVizzu_8dacf75);\n",
       "        return chart.animate({\"config\": {\"channels\": {\"y\": {\"detach\": \"Types\"}, \"x\": {\"set\": [\"Genres\", \"Types\"]}}}});\n",
       "    });\n",
       "</script>"
      ]
     },
     "metadata": {},
     "output_type": "display_data"
    },
    {
     "data": {
      "text/html": [
       "<script id=\"myVizzu_9df433d\">\n",
       "    myVizzu_9df433d.parentNode.parentNode.style.display = \"none\";\n",
       "    let snapshot_9df433d;\n",
       "    chart_2bc1dfb = chart_2bc1dfb.then(chart => {\n",
       "        snapshot_9df433d = chart.store();\n",
       "        return chart;\n",
       "    });\n",
       "</script>"
      ]
     },
     "metadata": {},
     "output_type": "display_data"
    }
   ],
   "source": [
    "chart.animate(snapshot3)\n",
    "\n",
    "chart.animate(Config({\"title\": \"With two discretes on one axis...\"}))\n",
    "\n",
    "chart.animate(Config({\n",
    "    \"channels\": {\n",
    "        \"y\": {\n",
    "            \"detach\": \"Types\"\n",
    "        },\n",
    "        \"x\": {\n",
    "            \"set\": [\"Genres\", \"Types\"]\n",
    "        },\n",
    "    }\n",
    "}))\n",
    "\n",
    "snapshot4 = chart.store()"
   ]
  },
  {
   "cell_type": "markdown",
   "id": "173771d8",
   "metadata": {},
   "source": [
    "When switching the order of dimensions on the x-axis Vizzu will rearrange the elements according to this new logic."
   ]
  },
  {
   "cell_type": "code",
   "execution_count": 5,
   "id": "02100d01",
   "metadata": {},
   "outputs": [
    {
     "data": {
      "text/html": [
       "<script id=\"myVizzu_2475007\">\n",
       "    let display_2475007 = myVizzu_2475007.parentNode.parentNode.style.display;\n",
       "    myVizzu_2475007.parentNode.parentNode.style.display = \"none\";\n",
       "    chart_2bc1dfb = chart_2bc1dfb.then(chart => {\n",
       "        if (myVizzu_2bc1dfb.parentNode && myVizzu_2bc1dfb.parentNode.parentNode) {\n",
       "            myVizzu_2bc1dfb.parentNode.parentNode.style.display = \"none\";\n",
       "        }\n",
       "        myVizzu_2475007.parentNode.parentNode.style.display = display_2475007;\n",
       "        myVizzu_2475007.parentNode.insertBefore(myVizzu_2bc1dfb, myVizzu_2475007);\n",
       "        return chart.animate(snapshot_9df433d);\n",
       "    });\n",
       "</script>"
      ]
     },
     "metadata": {},
     "output_type": "display_data"
    },
    {
     "data": {
      "text/html": [
       "<script id=\"myVizzu_94b58c9\">\n",
       "    let display_94b58c9 = myVizzu_94b58c9.parentNode.parentNode.style.display;\n",
       "    myVizzu_94b58c9.parentNode.parentNode.style.display = \"none\";\n",
       "    chart_2bc1dfb = chart_2bc1dfb.then(chart => {\n",
       "        if (myVizzu_2bc1dfb.parentNode && myVizzu_2bc1dfb.parentNode.parentNode) {\n",
       "            myVizzu_2bc1dfb.parentNode.parentNode.style.display = \"none\";\n",
       "        }\n",
       "        myVizzu_94b58c9.parentNode.parentNode.style.display = display_94b58c9;\n",
       "        myVizzu_94b58c9.parentNode.insertBefore(myVizzu_2bc1dfb, myVizzu_94b58c9);\n",
       "        return chart.animate({\"config\": {\"title\": \"...grouping is determined by their order.\"}});\n",
       "    });\n",
       "</script>"
      ]
     },
     "metadata": {},
     "output_type": "display_data"
    },
    {
     "data": {
      "text/html": [
       "<script id=\"myVizzu_264fd8f\">\n",
       "    let display_264fd8f = myVizzu_264fd8f.parentNode.parentNode.style.display;\n",
       "    myVizzu_264fd8f.parentNode.parentNode.style.display = \"none\";\n",
       "    chart_2bc1dfb = chart_2bc1dfb.then(chart => {\n",
       "        if (myVizzu_2bc1dfb.parentNode && myVizzu_2bc1dfb.parentNode.parentNode) {\n",
       "            myVizzu_2bc1dfb.parentNode.parentNode.style.display = \"none\";\n",
       "        }\n",
       "        myVizzu_264fd8f.parentNode.parentNode.style.display = display_264fd8f;\n",
       "        myVizzu_264fd8f.parentNode.insertBefore(myVizzu_2bc1dfb, myVizzu_264fd8f);\n",
       "        return chart.animate({\"config\": {\"channels\": {\"x\": {\"set\": [\"Types\", \"Genres\"]}}}});\n",
       "    });\n",
       "</script>"
      ]
     },
     "metadata": {},
     "output_type": "display_data"
    }
   ],
   "source": [
    "chart.animate(snapshot4)\n",
    "\n",
    "chart.animate(Config({\"title\": \"...grouping is determined by their order.\"}))\n",
    "\n",
    "chart.animate(Config({\n",
    "    \"channels\": {\n",
    "        \"x\": {\n",
    "            \"set\": [\"Types\", \"Genres\"]\n",
    "        },\n",
    "    }\n",
    "}))"
   ]
  }
 ],
 "metadata": {
  "kernelspec": {
   "display_name": "Python 3 (ipykernel)",
   "language": "python",
   "name": "python3"
  },
  "language_info": {
   "codemirror_mode": {
    "name": "ipython",
    "version": 3
   },
   "file_extension": ".py",
   "mimetype": "text/x-python",
   "name": "python",
   "nbconvert_exporter": "python",
   "pygments_lexer": "ipython3",
   "version": "3.8.10"
  }
 },
 "nbformat": 4,
 "nbformat_minor": 5
}
